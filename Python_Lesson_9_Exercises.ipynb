{
  "nbformat": 4,
  "nbformat_minor": 0,
  "metadata": {
    "colab": {
      "provenance": [],
      "mount_file_id": "1rgIuN1xAD5EwmfdKt9x_ZOT0OfmutZ3T",
      "authorship_tag": "ABX9TyNcfiM68Rk+f7uLyXJAvwJ4",
      "include_colab_link": true
    },
    "kernelspec": {
      "name": "python3",
      "display_name": "Python 3"
    },
    "language_info": {
      "name": "python"
    }
  },
  "cells": [
    {
      "cell_type": "markdown",
      "metadata": {
        "id": "view-in-github",
        "colab_type": "text"
      },
      "source": [
        "<a href=\"https://colab.research.google.com/github/Frosty-Bits/PythonFree/blob/main/Python_Lesson_9_Exercises.ipynb\" target=\"_parent\"><img src=\"https://colab.research.google.com/assets/colab-badge.svg\" alt=\"Open In Colab\"/></a>"
      ]
    },
    {
      "cell_type": "markdown",
      "source": [
        "# Esercizi\n",
        "Vediamo ora un po' di esercizi su loops e debug.  \n",
        "Ricorda che se dopo qualche minuto non riesci a trovare una soluzione, puoi cercare online suggerimenti (o direttamente le soluzioni nella prossima lezione)"
      ],
      "metadata": {
        "id": "oGwJovFUBYcX"
      }
    },
    {
      "cell_type": "markdown",
      "source": [
        "### 1.Conta i numeri pari  \n",
        "Scrivi un programma che usa un for loop per contare quanti numeri pari ci sono nella seguente lista:"
      ],
      "metadata": {
        "id": "b_x0GDedBk04"
      }
    },
    {
      "cell_type": "code",
      "source": [
        "numeri = [425, 135, 484, 259, 123, 194, 108, 5, 153, 463, 243, 469, 307, 298, 474, 43, 41, 135, 161, 13, 335, 295, 52, 282, 107, 259, 100, 265, 197, 69]"
      ],
      "metadata": {
        "id": "EIOWc7I6BmKU"
      },
      "execution_count": null,
      "outputs": []
    },
    {
      "cell_type": "markdown",
      "source": [
        "### 2.Tabellina\n",
        "Usa un for loop per stampare la tabellina di un numero dato dall'utente, da 1 a 10."
      ],
      "metadata": {
        "id": "6DcuatbPBk9u"
      }
    },
    {
      "cell_type": "code",
      "source": [],
      "metadata": {
        "id": "qcJvyIEZBdmz"
      },
      "execution_count": null,
      "outputs": []
    },
    {
      "cell_type": "markdown",
      "source": [
        "### 3.Somma degli elementi di una lista\n",
        "Utilizza un for loop per calcolare la somma di tutti gli elementi della seguente lista:"
      ],
      "metadata": {
        "id": "SEmCdfcfBnBm"
      }
    },
    {
      "cell_type": "code",
      "source": [
        "numeri_da_sommare = [463, 243, 469, 307, 298, 474, 43, 41, 135, 161, 13, 335]"
      ],
      "metadata": {
        "id": "Ev86TumUBnGZ"
      },
      "execution_count": null,
      "outputs": []
    },
    {
      "cell_type": "markdown",
      "source": [
        "### 4.Indovina il Numero\n",
        "Crea un gioco in cui l'utente deve indovinare un numero casuale generato dal computer. Usa un while loop per permettere all'utente di continuare a indovinare fino a quando non indovina il numero."
      ],
      "metadata": {
        "id": "atcjiQQRBnLC"
      }
    },
    {
      "cell_type": "code",
      "source": [
        "# suggerimento: il seguente codice fa scegliere al computer un numero casuale tra 1 e 10 e lo salva nella variabile numero_segreto\n",
        "import random\n",
        "numero_segreto = random.randint(1, 10)\n",
        "\n",
        "#continua a scrivere il codice da qui"
      ],
      "metadata": {
        "id": "Pst2Ww_pBnP4"
      },
      "execution_count": null,
      "outputs": []
    },
    {
      "cell_type": "markdown",
      "source": [
        "### 5.Calcolatrice di potenze\n",
        "Scrivi un programma che chiede all'utente una base e un esponente, e usa un while loop per calcolare la potenza senza usare l'operatore ** e stampando i risultati intermedi."
      ],
      "metadata": {
        "id": "qYClhTxLDL9a"
      }
    },
    {
      "cell_type": "code",
      "source": [],
      "metadata": {
        "id": "8Np_k2-SDMCd"
      },
      "execution_count": null,
      "outputs": []
    },
    {
      "cell_type": "markdown",
      "source": [
        "### 6.Gestione errori su liste\n",
        "Scrivi un programma che data la seguente lista di numeri, chieda all'utente quale indice vuole printar, gestendo l'eccezione in cui l'utente sceglie un indice non disponibile nella lista."
      ],
      "metadata": {
        "id": "pI-e0_YzDMGw"
      }
    },
    {
      "cell_type": "code",
      "source": [
        "numeri = [240, 74, 222, 122, 182, 136, 132, 191, 166, 247, 77, 80, 197, 228, 139, 137, 221, 60, 197, 41]"
      ],
      "metadata": {
        "id": "soSjrPrbDMLO"
      },
      "execution_count": null,
      "outputs": []
    },
    {
      "cell_type": "markdown",
      "source": [
        "### 7.Conteggio con eccezioni\n",
        "Usa un for loop per scorrere la seguente lista di numeri e conta quanti sono divisibili per un numero fornito dall'utente (divisibile significa che la divisione tra il numero della lista e il numero fornito dall'utente non restituisce resto), gestendo l'eccezione se il valore inserito non è un numero."
      ],
      "metadata": {
        "id": "oGy5Fw3lDMQA"
      }
    },
    {
      "cell_type": "code",
      "source": [
        "numeri = [240, 74, 222, 122, 182, 136, 132, 191, 166, 247, 77, 80, 197, 228, 139, 137, 221, 60, 197, 41]\n"
      ],
      "metadata": {
        "id": "1tB6QszMDMUb"
      },
      "execution_count": null,
      "outputs": []
    },
    {
      "cell_type": "markdown",
      "source": [
        "### 8.Lista con controllo errori\n",
        "Implementa un programma che esegua le seguenti operazioni:\n",
        "1. Crea una lista vuota\n",
        "2. Crea un while loop che si ferma quando la lista raggiunge 10 numeri e che ad ogni iterazione chiede all'utente di inserire un numero.\n",
        "3. Gestisci le ecezzioni nel caso il valore inserito non sia valido"
      ],
      "metadata": {
        "id": "QFBhGFyWDMZA"
      }
    },
    {
      "cell_type": "code",
      "source": [],
      "metadata": {
        "id": "RDdWfO0qDMdY"
      },
      "execution_count": null,
      "outputs": []
    }
  ]
}