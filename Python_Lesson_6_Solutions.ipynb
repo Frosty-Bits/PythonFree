{
  "nbformat": 4,
  "nbformat_minor": 0,
  "metadata": {
    "colab": {
      "provenance": [],
      "authorship_tag": "ABX9TyPWitTQjRB/uE6YPvzby3ds",
      "include_colab_link": true
    },
    "kernelspec": {
      "name": "python3",
      "display_name": "Python 3"
    },
    "language_info": {
      "name": "python"
    }
  },
  "cells": [
    {
      "cell_type": "markdown",
      "metadata": {
        "id": "view-in-github",
        "colab_type": "text"
      },
      "source": [
        "<a href=\"https://colab.research.google.com/github/Frosty-Bits/PythonFree/blob/main/Python_Lesson_6_Solutions.ipynb\" target=\"_parent\"><img src=\"https://colab.research.google.com/assets/colab-badge.svg\" alt=\"Open In Colab\"/></a>"
      ]
    },
    {
      "cell_type": "markdown",
      "source": [
        "# Soluzioni\n",
        "Vediamo ora le soluzioni ai problemi proposti"
      ],
      "metadata": {
        "id": "Dypz_YGzruNS"
      }
    },
    {
      "cell_type": "markdown",
      "source": [
        "### Esercizio 1\n",
        "#### Settore bancario: calcolo dell'interesse composto\n",
        "\n",
        "Chiedi all'utente un deposito iniziale, un tasso di interesse annuale (in percentuale) e il numero di anni che prevede di lasciare riposare il denaro.\n",
        "Calcola l'importo finale utilizzando la formula dell'interesse composto:  \n",
        "A = P \\* (1 + r/n) \\*\\* (n\\*t)\n",
        "Dove:  \n",
        "**A** è la quantità di denaro accumulata dopo n anni, compresi gli interessi.  \n",
        "**P** è l'importo del capitale (deposito iniziale).  \n",
        "**r** è il tasso di interesse annuo (in forma decimale, quindi il 5% sarebbe 0,05).  \n",
        "**n** è il numero di volte in cui l'interesse viene capitalizzato all'anno (cioè quante volte all'anno gli interessi generati verranno reinvestiti).  \n",
        "**t** è il numero di anni.\n",
        "\n",
        "Stampa l'importo finale."
      ],
      "metadata": {
        "id": "EXGIy2QNrzD5"
      }
    },
    {
      "cell_type": "markdown",
      "source": [
        "###### Chiedi all'utente i dettagli del deposito"
      ],
      "metadata": {
        "id": "nFaXRMtiOOQ-"
      }
    },
    {
      "cell_type": "code",
      "source": [
        "P = int(input(\"Inserisci l'importo del deposito iniziale: \"))\n",
        "r = float(input(\"Inserisci il tasso di interesse annuo (in percentuale): \")) / 100\n",
        "t = int(input(\"Per quanti anni vuoi lasciare i soldi?: \"))\n",
        "n = int(input(\"Quante volte l'interesse viene composto all'anno?: \"))"
      ],
      "metadata": {
        "colab": {
          "base_uri": "https://localhost:8080/"
        },
        "id": "GR5TRMFxr1PM",
        "outputId": "04f7eb35-65ab-4cf4-edbe-94a3f985e3e2"
      },
      "execution_count": 1,
      "outputs": [
        {
          "name": "stdout",
          "output_type": "stream",
          "text": [
            "Inserisci l'importo del deposito iniziale: 10000\n",
            "Inserisci il tasso di interesse annuo (in percentuale): 5\n",
            "Per quanti anni vuoi lasciare i soldi?: 20\n",
            "Quante volte l'interesse viene composto all'anno?: 12\n"
          ]
        }
      ]
    },
    {
      "cell_type": "markdown",
      "source": [
        "##### Calcola l'importo finale utilizzando la formula dell'interesse composto"
      ],
      "metadata": {
        "id": "-1OKgCVkOMvI"
      }
    },
    {
      "cell_type": "code",
      "source": [
        "A = P * (1 + r/n) ** (n*t)"
      ],
      "metadata": {
        "id": "cBliUXO1OLDM"
      },
      "execution_count": 2,
      "outputs": []
    },
    {
      "cell_type": "markdown",
      "source": [
        "##### Stampa l'importo finale"
      ],
      "metadata": {
        "id": "mYi9Nv0NONL4"
      }
    },
    {
      "cell_type": "code",
      "source": [
        "print(f\"L'importo finale dopo {t} anni sarà: {A:.2f}\") # usando {A:.2f} possiamo specificare di voler solo 2 numeri dopo la virgola"
      ],
      "metadata": {
        "colab": {
          "base_uri": "https://localhost:8080/"
        },
        "id": "XXTh8vfeOLFp",
        "outputId": "cd2890f7-4a94-4fa1-eec6-5d017c3c0730"
      },
      "execution_count": 3,
      "outputs": [
        {
          "output_type": "stream",
          "name": "stdout",
          "text": [
            "L'importo finale dopo 20 anni sarà: 27126.40\n"
          ]
        }
      ]
    },
    {
      "cell_type": "markdown",
      "source": [
        "### Esercizio 2\n",
        "#### Trasporti: il miglior metodo di trasporto\n",
        "Chiedi all'utente la distanza che deve percorrere, se piove (sì/no) e se possiede un'auto (sì/no).  \n",
        "In base all'input, suggerire un metodo di trasporto:  \n",
        "Se la distanza è inferiore a 1 km suggeriamo di andare a piedi,  \n",
        "se la distanza è superiore a 1 km e non piove suggeriamo di andare in bicicletta,  \n",
        "se la distanza è superiore a 1 km, piove e hanno un'auto, suggerisci di guidare,  \n",
        "se la distanza è superiore a 1 km, piove e non hanno un'auto, suggerisci di prendere il trasporto pubblico.\n",
        "\n",
        "Qui di seguito uno schema che potrebbe aiutarti:  \n",
        "<img src=\"https://raw.githubusercontent.com/Frosty-Bits/PythonFree/main/diagrams/IfElseExercise.png\">"
      ],
      "metadata": {
        "id": "v06mb2OZr1cG"
      }
    },
    {
      "cell_type": "markdown",
      "source": [
        "##### Chiedi all'utente i dettagli del viaggio"
      ],
      "metadata": {
        "id": "OjDW9ipqOf0U"
      }
    },
    {
      "cell_type": "code",
      "source": [
        "distanza = float(input(\"Quale è la distanza che stai percorrendo (in km)? \"))\n",
        "piove = input(\"Sta piovendo (sì/no)? \")\n",
        "ha_una_macchina = input(\"Possiedi una macchina (sì/no)? \")"
      ],
      "metadata": {
        "colab": {
          "base_uri": "https://localhost:8080/"
        },
        "id": "XcXycSAk1_6O",
        "outputId": "0a85de7f-4d9c-43a0-ca26-e84f5fa66e84"
      },
      "execution_count": 4,
      "outputs": [
        {
          "name": "stdout",
          "output_type": "stream",
          "text": [
            "Quale è la distanza che stai percorrendo (in km)? 4\n",
            "Sta piovendo (sì/no)? sì\n",
            "Possiedi una macchina (sì/no)? no\n"
          ]
        }
      ]
    },
    {
      "cell_type": "markdown",
      "source": [
        "##### Costruiamo le if condition in base all'input"
      ],
      "metadata": {
        "id": "XFX7Atp8OfTz"
      }
    },
    {
      "cell_type": "code",
      "source": [
        "if distanza <= 1:\n",
        "  print(\"Ti suggerisco di andare a piedi\")\n",
        "else:\n",
        "  if piove == 'no':\n",
        "    print(\"Vai in bicicletta\")\n",
        "  else:\n",
        "    if ha_una_macchina == 'no':\n",
        "      print(\"Prendi il trasporto pubblico\")\n",
        "    else:\n",
        "      print(\"Puoi guidare fino a destinazione\")"
      ],
      "metadata": {
        "colab": {
          "base_uri": "https://localhost:8080/"
        },
        "id": "zDSVH57iOoqX",
        "outputId": "ba206f25-429c-41fa-d0e2-44887e09cc63"
      },
      "execution_count": 5,
      "outputs": [
        {
          "output_type": "stream",
          "name": "stdout",
          "text": [
            "Prendi il trasporto pubblico\n"
          ]
        }
      ]
    },
    {
      "cell_type": "markdown",
      "source": [
        "### Esercizio 3\n",
        "#### Ecologia: calcolo dell'impronta di carbonio\n",
        "Porre all'utente varie domande come:  \n",
        "- Quanti chilometri percorri a settimana in macchina?  \n",
        "- Quante ore voli all'anno?  \n",
        "- Quanti pasti di carne consumi a settimana?  \n",
        "\n",
        "Assegna un valore di CO2 per ciascuna attività e calcola un'impronta di carbonio annuale stimata in base al loro input.\n",
        "\n",
        "Ecco alcuni valori di riferimento:  \n",
        "- Guidare: 0.2 kg di CO2 per chilometro  \n",
        "- Volare: 115g di CO2 per chilometro (velcità media di un aereo: 780 km/h)\n",
        "- Pasto di carne: 6 kg di CO2 per pasto (principalmente manzo)\n",
        "\n",
        "Infine, avendo l'informazione di quanto CO2 produce l'utente, specificare quanto tempo richiede ad un albero trasformala in ossigeno in base al tipo di albero.\n",
        "\n",
        "Ecco alcuni esempi:\n",
        "- Pini: assorbono circa 22 kg di CO2 all'anno.\n",
        "- Querce: assorbono circa 20 kg di CO2 all'anno.\n",
        "- Abeti: assorbono circa 13 kg di CO2 all'anno.\n"
      ],
      "metadata": {
        "id": "7ps47vAAr1jJ"
      }
    },
    {
      "cell_type": "markdown",
      "source": [
        "##### Chiedi l'input all'utente"
      ],
      "metadata": {
        "id": "-5_rw6lrOvd4"
      }
    },
    {
      "cell_type": "code",
      "source": [
        "km_settimanali_macchina = int(input(\"Quanti chilometri percorri a settimana in macchina? \"))\n",
        "ore_annuali_aereo = int(input(\"Quante ore voli all'anno? \"))\n",
        "pasti_settimanali_carne = int(input(\"Quanti pasti di carne consumi a settimana? \"))"
      ],
      "metadata": {
        "colab": {
          "base_uri": "https://localhost:8080/"
        },
        "id": "ab9kDqjw3A1M",
        "outputId": "324469a9-a412-4a02-bea8-4d7bb070dc81"
      },
      "execution_count": 6,
      "outputs": [
        {
          "name": "stdout",
          "output_type": "stream",
          "text": [
            "Quanti chilometri percorri a settimana in macchina? 60\n",
            "Quante ore voli all'anno? 8\n",
            "Quanti pasti di carne consumi a settimana? 2\n"
          ]
        }
      ]
    },
    {
      "cell_type": "markdown",
      "source": [
        "##### Conversione ad anno"
      ],
      "metadata": {
        "id": "CIMLM-qCOzI2"
      }
    },
    {
      "cell_type": "code",
      "source": [
        "km_annuali_macchina = km_settimanali_macchina * 52\n",
        "pasti_annuali_carne = pasti_settimanali_carne * 52"
      ],
      "metadata": {
        "id": "SEAY9vjJOzPQ"
      },
      "execution_count": 7,
      "outputs": []
    },
    {
      "cell_type": "markdown",
      "source": [
        "##### Calcolo l'impronta di carbonio per ogni attività"
      ],
      "metadata": {
        "id": "CP4BVGxQOzVQ"
      }
    },
    {
      "cell_type": "code",
      "source": [
        "impronta_annuale_macchina = km_annuali_macchina * 0.2\n",
        "impronta_annuale_aereo = ore_annuali_aereo * 780 * 0.115\n",
        "impronta_annuale_carne = pasti_annuali_carne * 6"
      ],
      "metadata": {
        "id": "EL48YbmOOzag"
      },
      "execution_count": 8,
      "outputs": []
    },
    {
      "cell_type": "markdown",
      "source": [
        "##### Calcolo totale dell'impronta"
      ],
      "metadata": {
        "id": "y0i6unigOzgw"
      }
    },
    {
      "cell_type": "code",
      "source": [
        "impronta_totale = impronta_annuale_macchina + impronta_annuale_aereo + impronta_annuale_carne\n",
        "print(f\"In un anno l'utente ha prodotto {impronta_totale} kg di CO2\")"
      ],
      "metadata": {
        "colab": {
          "base_uri": "https://localhost:8080/"
        },
        "id": "P_QIunGwOzlY",
        "outputId": "38bfe8d4-89e5-42f3-fc23-c3eddb6c752f"
      },
      "execution_count": 9,
      "outputs": [
        {
          "output_type": "stream",
          "name": "stdout",
          "text": [
            "In un anno l'utente ha prodotto 1965.6 kg di CO2\n"
          ]
        }
      ]
    },
    {
      "cell_type": "markdown",
      "source": [
        "##### Calcolo degli anni per ripulire la CO2"
      ],
      "metadata": {
        "id": "pYLByap_Ozpj"
      }
    },
    {
      "cell_type": "code",
      "source": [
        "anni_pino = int(impronta_totale // 22)\n",
        "anni_quercia = int(impronta_totale // 20)\n",
        "anni_abete = int(impronta_totale // 12)"
      ],
      "metadata": {
        "id": "lIR_sPmaOzs8"
      },
      "execution_count": 10,
      "outputs": []
    },
    {
      "cell_type": "markdown",
      "source": [
        "##### Mostro i risultati finali all'utente"
      ],
      "metadata": {
        "id": "KY3XeAKvPVJq"
      }
    },
    {
      "cell_type": "code",
      "source": [
        "print(f\"Per transformare in ossigeno la CO2 un pino impiega {anni_pino} anni!\")\n",
        "print(f\"Per transformare in ossigeno la CO2 una quercia impiega {anni_quercia} anni!\")\n",
        "print(f\"Per transformare in ossigeno la CO2 un'abete impiega {anni_abete} anni!\")"
      ],
      "metadata": {
        "colab": {
          "base_uri": "https://localhost:8080/"
        },
        "id": "4FlvicAwPVQC",
        "outputId": "d1ce1195-e13a-42ac-d778-b8678cafb037"
      },
      "execution_count": 11,
      "outputs": [
        {
          "output_type": "stream",
          "name": "stdout",
          "text": [
            "Per transformare in ossigeno la CO2 un pino impiega 89 anni!\n",
            "Per transformare in ossigeno la CO2 una quercia impiega 98 anni!\n",
            "Per transformare in ossigeno la CO2 un'abete impiega 163 anni!\n"
          ]
        }
      ]
    }
  ]
}