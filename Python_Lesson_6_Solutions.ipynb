{
  "nbformat": 4,
  "nbformat_minor": 0,
  "metadata": {
    "colab": {
      "provenance": [],
      "authorship_tag": "ABX9TyPMoa1eG0Zf+zOXJhW15cvi",
      "include_colab_link": true
    },
    "kernelspec": {
      "name": "python3",
      "display_name": "Python 3"
    },
    "language_info": {
      "name": "python"
    }
  },
  "cells": [
    {
      "cell_type": "markdown",
      "metadata": {
        "id": "view-in-github",
        "colab_type": "text"
      },
      "source": [
        "<a href=\"https://colab.research.google.com/github/Frosty-Bits/PythonFree/blob/main/Python_Lesson_6_Solutions.ipynb\" target=\"_parent\"><img src=\"https://colab.research.google.com/assets/colab-badge.svg\" alt=\"Open In Colab\"/></a>"
      ]
    },
    {
      "cell_type": "markdown",
      "source": [
        "# Soluzioni\n",
        "Vediamo ora le soluzioni ai problemi proposti"
      ],
      "metadata": {
        "id": "Dypz_YGzruNS"
      }
    },
    {
      "cell_type": "markdown",
      "source": [
        "### Esercizio 1\n",
        "#### Settore bancario: calcolo dell'interesse composto\n",
        "\n",
        "Chiedi all'utente un deposito iniziale, un tasso di interesse annuale (in percentuale) e il numero di anni che prevede di lasciare riposare il denaro.\n",
        "Calcola l'importo finale utilizzando la formula dell'interesse composto:  \n",
        "A = P \\* (1 + r/n) \\*\\* (n\\*t)\n",
        "Dove:  \n",
        "**A** è la quantità di denaro accumulata dopo n anni, compresi gli interessi.  \n",
        "**P** è l'importo del capitale (deposito iniziale).  \n",
        "**r** è il tasso di interesse annuo (in forma decimale, quindi il 5% sarebbe 0,05).  \n",
        "**n** è il numero di volte in cui l'interesse viene capitalizzato all'anno.  \n",
        "**t** è il numero di anni.\n",
        "\n",
        "Stampa l'importo finale."
      ],
      "metadata": {
        "id": "EXGIy2QNrzD5"
      }
    },
    {
      "cell_type": "code",
      "source": [
        "# Chiedi all'utente i dettagli del deposito\n",
        "P = int(input(\"Inserisci l'importo del deposito iniziale: \"))\n",
        "r = float(input(\"Inserisci il tasso di interesse annuo (in percentuale): \")) / 100\n",
        "t = int(input(\"Per quanti anni vuoi lasciare i soldi?: \"))\n",
        "n = int(input(\"Quante volte l'interesse viene composto all'anno?: \"))\n",
        "\n",
        "# Calcola l'importo finale utilizzando la formula dell'interesse composto\n",
        "A = P * (1 + r/n) ** (n*t)\n",
        "\n",
        "# Stampa l'importo finale\n",
        "print(f\"L'importo finale dopo {t} anni sarà: {A:.2f}\") # usando {A:.2f} possiamo specificare di voler solo 2 numeri dopo la virgola"
      ],
      "metadata": {
        "colab": {
          "base_uri": "https://localhost:8080/"
        },
        "id": "GR5TRMFxr1PM",
        "outputId": "cc69da46-94c3-4ff9-ac3f-f2d6dbe5d136"
      },
      "execution_count": 8,
      "outputs": [
        {
          "output_type": "stream",
          "name": "stdout",
          "text": [
            "Inserisci l'importo del deposito iniziale: 1000\n",
            "Inserisci il tasso di interesse annuo (in percentuale): 3\n",
            "Per quanti anni vuoi lasciare i soldi?: 15\n",
            "Quante volte l'interesse viene composto all'anno?: 2\n",
            "L'importo finale dopo 15 anni sarà: 1563.08\n"
          ]
        }
      ]
    },
    {
      "cell_type": "markdown",
      "source": [
        "### Esercizio 2\n",
        "#### Trasporti: il miglior metodo di trasporto\n",
        "Chiedi all'utente la distanza che sta percorrendo, se piove (sì/no) e se possiede un'auto (sì/no).  \n",
        "In base all'input, suggerire un metodo di trasporto:  \n",
        "Se piove e hanno un'auto, suggerisci di guidare.  \n",
        "Se non piove e la distanza è inferiore a 1 km, suggeriamo di camminare.  \n",
        "Se piove e la distanza è inferiore a 1 km, suggeriamo di prendere l'ombrello e camminare.  \n",
        "Altrimenti suggerisci di andare in bicicletta se non piove o con i mezzi pubblici se piove."
      ],
      "metadata": {
        "id": "v06mb2OZr1cG"
      }
    },
    {
      "cell_type": "code",
      "source": [
        "# Chiedi all'utente i dettagli del viaggio\n",
        "distanza = float(input(\"Quale è la distanza che stai percorrendo (in km)? \"))\n",
        "piove = input(\"Sta piovendo (sì/no)? \")\n",
        "ha_una_macchina = input(\"Possiedi una macchina (sì/no)? \")\n",
        "\n",
        "# Suggerimenti in base all'input\n",
        "if piove == \"sì\" and ha_una_macchina == \"sì\":\n",
        "    print(\"Ti suggerisco di guidare.\")\n",
        "elif distanza < 1:\n",
        "    if piove == \"sì\":\n",
        "        print(\"Prendi un ombrello e vai a piedi.\")\n",
        "    else:\n",
        "        print(\"Ti suggerisco di andare a piedi.\")\n",
        "else:\n",
        "    if piove == \"sì\":\n",
        "        print(\"Ti suggerisco di utilizzare i mezzi pubblici.\")\n",
        "    else:\n",
        "        print(\"Ti suggerisco di andare in bicicletta.\")"
      ],
      "metadata": {
        "colab": {
          "base_uri": "https://localhost:8080/"
        },
        "id": "XcXycSAk1_6O",
        "outputId": "091a81fe-36db-4bec-adb6-31505e6970c1"
      },
      "execution_count": 9,
      "outputs": [
        {
          "output_type": "stream",
          "name": "stdout",
          "text": [
            "Quale è la distanza che stai percorrendo (in km)? 6\n",
            "Sta piovendo (sì/no)? no\n",
            "Possiedi una macchina (sì/no)? sì\n",
            "Ti suggerisco di andare in bicicletta.\n"
          ]
        }
      ]
    },
    {
      "cell_type": "markdown",
      "source": [
        "### Esercizio 3\n",
        "#### Ecologia: calcolo dell'impronta di carbonio\n",
        "Porre all'utente varie domande come:  \n",
        "- Quanti chilometri percorri a settimana in macchina?  \n",
        "- Quante ore voli all'anno?  \n",
        "- Quanti pasti di carne consumi a settimana?  \n",
        "\n",
        "Assegna un valore di CO2 per ciascuna attività e calcola un'impronta di carbonio annuale stimata in base al loro input.\n",
        "\n",
        "Ecco alcuni valori di riferimento:  \n",
        "- Guidare: 0.2 kg di CO2 per chilometro  \n",
        "- Volare: 115g di CO2 per chilometro (velcità media di un aereo: 780 km/h)\n",
        "- Pasto di carne: 6 kg di CO2 per pasto (principalmente manzo)\n",
        "\n",
        "Infine, avendo l'informazione di quanto CO2 produce l'utente, specificare quanto tempo richiede ad un albero trasformala in ossigeno in base al tipo di albero.\n",
        "\n",
        "Ecco alcuni esempi:\n",
        "- Pini: assorbono circa 22 kg di CO2 all'anno.\n",
        "- Querce: assorbono circa 20 kg di CO2 all'anno.\n",
        "- Abeti: assorbono circa 13 kg di CO2 all'anno.\n"
      ],
      "metadata": {
        "id": "7ps47vAAr1jJ"
      }
    },
    {
      "cell_type": "code",
      "source": [
        "# Chiedi input all'utente\n",
        "km_settimanali_macchina = int(input(\"Quanti chilometri percorri a settimana in macchina? \"))\n",
        "ore_annuali_aereo = int(input(\"Quante ore voli all'anno? \"))\n",
        "pasti_settimanali_carne = int(input(\"Quanti pasti di carne consumi a settimana? \"))\n",
        "\n",
        "# Conversione ad anno\n",
        "km_annuali_macchina = km_settimanali_macchina * 52\n",
        "pasti_annuali_carne = pasti_settimanali_carne * 52\n",
        "\n",
        "# Calcolo impronta di carbonio, risultato in kg\n",
        "impronta_annuale_macchina = km_annuali_macchina * 0.2\n",
        "impronta_annuale_aereo = ore_annuali_aereo * 780 * 0.115\n",
        "impronta_annuale_carne = pasti_annuali_carne * 6\n",
        "\n",
        "# Calcolo totale\n",
        "impronta_totale = impronta_annuale_macchina + impronta_annuale_aereo + impronta_annuale_carne\n",
        "print(f\"In un anno l'utente ha prodotto {impronta_totale} kg di CO2\")\n",
        "\n",
        "# Calcolo anni per ripulire la CO2\n",
        "anni_pino = int(impronta_totale // 22)\n",
        "anni_quercia = int(impronta_totale // 20)\n",
        "anni_abete = int(impronta_totale // 12)\n",
        "\n",
        "# Stampa i risultati\n",
        "print(f\"Per transformare in ossigeno la CO2 un pino impiega {anni_pino} anni!\")\n",
        "print(f\"Per transformare in ossigeno la CO2 una quercia impiega {anni_quercia} anni!\")\n",
        "print(f\"Per transformare in ossigeno la CO2 un'abete impiega {anni_abete} anni!\")"
      ],
      "metadata": {
        "colab": {
          "base_uri": "https://localhost:8080/"
        },
        "id": "ab9kDqjw3A1M",
        "outputId": "904f47a1-4f18-4e3a-f0f7-d8e77ad93bef"
      },
      "execution_count": 10,
      "outputs": [
        {
          "output_type": "stream",
          "name": "stdout",
          "text": [
            "Quanti chilometri percorri a settimana in macchina? 40\n",
            "Quante ore voli all'anno? 4\n",
            "Quanti pasti di carne consumi a settimana? 1\n",
            "In un anno l'utente ha prodotto 1086.8 kg di CO2\n",
            "Per transformare in ossigeno la CO2 un pino impiega 49 anni!\n",
            "Per transformare in ossigeno la CO2 una quercia impiega 54 anni!\n",
            "Per transformare in ossigeno la CO2 un'abete impiega 90 anni!\n"
          ]
        }
      ]
    }
  ]
}