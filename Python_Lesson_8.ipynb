{
  "nbformat": 4,
  "nbformat_minor": 0,
  "metadata": {
    "colab": {
      "provenance": [],
      "mount_file_id": "1rgIuN1xAD5EwmfdKt9x_ZOT0OfmutZ3T",
      "authorship_tag": "ABX9TyM3t8CHd26zVg1zC6uf9HHP",
      "include_colab_link": true
    },
    "kernelspec": {
      "name": "python3",
      "display_name": "Python 3"
    },
    "language_info": {
      "name": "python"
    }
  },
  "cells": [
    {
      "cell_type": "markdown",
      "metadata": {
        "id": "view-in-github",
        "colab_type": "text"
      },
      "source": [
        "<a href=\"https://colab.research.google.com/github/Frosty-Bits/PythonFree/blob/main/Python_Lesson_8.ipynb\" target=\"_parent\"><img src=\"https://colab.research.google.com/assets/colab-badge.svg\" alt=\"Open In Colab\"/></a>"
      ]
    },
    {
      "cell_type": "markdown",
      "source": [
        "# Extra\n",
        "Vediamo ora un po' di informazioni che potrebbero tornarti utili in quanto spesso usate nel mondo della programmazione e per dare completezza ai temi trattati fin'ora."
      ],
      "metadata": {
        "id": "U42GwpkTamkA"
      }
    },
    {
      "cell_type": "markdown",
      "source": [
        "## Proprietà dei dati\n",
        "In Python, i dati possono essere categorizzati come **mutabili** o **immutabili** a seconda della possibilità di modificarli una volta che sono stati creati.  \n",
        "- Immutabili: il suo stato non può essere modificato, il che può essere vantaggioso per ragioni di sicurezza, efficienza e design del software.  \n",
        "(Esempi: int, float, bool, str, tuple)\n",
        "- Mutabili: può essere modificato dopo la sua creazione  \n",
        "(Esempi: list, set, dict)"
      ],
      "metadata": {
        "id": "XB8M0nvvamvp"
      }
    },
    {
      "cell_type": "code",
      "source": [
        "# Tuple (immutabile) (vedremo tra poco cos'è una tupla)\n",
        "tupla = (1, 2, 3)\n",
        "# Questo genererà un errore poiché le tuple sono immutabili\n",
        "# tupla[0] = 4\n",
        "print(f\"Tupla: {tupla}\")\n",
        "\n",
        "# List (mutabile)\n",
        "lista = [1, 2, 3]\n",
        "lista[0] = 4  # Questo è consentito\n",
        "print(f\"Lista: {lista}\")\n"
      ],
      "metadata": {
        "colab": {
          "base_uri": "https://localhost:8080/"
        },
        "id": "b5TVkL8PhJ4J",
        "outputId": "c39bc2c3-58b8-4d22-e49c-39d493bbacf0"
      },
      "execution_count": null,
      "outputs": [
        {
          "output_type": "stream",
          "name": "stdout",
          "text": [
            "Tupla: (1, 2, 3)\n",
            "Lista: [4, 2, 3]\n"
          ]
        }
      ]
    },
    {
      "cell_type": "markdown",
      "source": [
        "## tuple\n",
        "Una **tupla** in Python è una collezione ordinata di oggetti. È simile a una lista, ma con una differenza fondamentale: le tuple sono immutabili!  \n",
        "Ciò significa che una volta create, le tuple non possono essere modificate. Non puoi aggiungere, rimuovere o cambiare elementi all'interno di una tupla dopo che è stata definita.\n",
        "Le tuple sono definite racchiudendo gli elementi tra parentesi tonde '**( )**'\n",
        "\n",
        "\n",
        "```python\n",
        "tupla = (1, 2, 3, 4, 5)\n",
        "```\n",
        "Le tuple sono utili quando hai bisogno di un elenco di valori che non dovrebbe essere modificato in tutto il programma, ad esempio, le coordinate di un punto in uno spazio 2D o 3D.\n"
      ],
      "metadata": {
        "id": "y7eoWvh-am1p"
      }
    },
    {
      "cell_type": "markdown",
      "source": [
        "Le tuple consentono un concetto chiamato \"packing\" e \"unpacking\". Ciò significa che puoi assegnare più variabili contemporaneamente con gli elementi di una tupla."
      ],
      "metadata": {
        "id": "q8eJhxjFjhaE"
      }
    },
    {
      "cell_type": "code",
      "source": [
        "punto = (3, 4)\n",
        "x, y = punto  # Unpacking\n",
        "print(x)\n",
        "print(y)\n"
      ],
      "metadata": {
        "colab": {
          "base_uri": "https://localhost:8080/"
        },
        "id": "bnxzmhFKjiRk",
        "outputId": "a38cca4c-3155-45a9-ac30-bf521afeb7ac"
      },
      "execution_count": null,
      "outputs": [
        {
          "output_type": "stream",
          "name": "stdout",
          "text": [
            "3\n",
            "4\n"
          ]
        }
      ]
    },
    {
      "cell_type": "markdown",
      "source": [
        "Se vuoi creare una tupla con un singolo elemento, devi includere una virgola alla fine, altrimenti Python lo interpreta come una semplice espressione racchiusa tra parentesi."
      ],
      "metadata": {
        "id": "SZOiA6Ezjud9"
      }
    },
    {
      "cell_type": "code",
      "source": [
        "singolo = (4,)\n",
        "print(type(singolo))\n"
      ],
      "metadata": {
        "colab": {
          "base_uri": "https://localhost:8080/"
        },
        "id": "SMGuVWzWju6R",
        "outputId": "2b5d67ac-db0d-4057-cf4e-57d2e7b6a776"
      },
      "execution_count": null,
      "outputs": [
        {
          "output_type": "stream",
          "name": "stdout",
          "text": [
            "<class 'tuple'>\n"
          ]
        }
      ]
    },
    {
      "cell_type": "markdown",
      "source": [
        "## set\n",
        "I **set** sono un altro tipo di collezione in Python, ma hanno alcune caratteristiche che li distinguono da liste e tuple.\n",
        "1. Unicità degli Elementi: Un set contiene solo elementi unici. Se provi ad aggiungere un elemento che è già presente nel set, esso non verrà aggiunto di nuovo.\n",
        "2. Non ordinato: A differenza delle liste e delle tuple, i set non sono ordinati. Ciò significa che gli elementi non hanno una posizione o un indice specifico.\n",
        "3. Mutabile: Puoi aggiungere e rimuovere elementi da un set dopo che è stato creato.\n",
        "4. Sintassi: I set sono definiti racchiudendo gli elementi tra parentesi graffe '**{ }**'.\n",
        "```python\n",
        "set = {1, 2, 3, 4, 5}\n",
        "```\n",
        "\n"
      ],
      "metadata": {
        "id": "l8VwcJDri3GX"
      }
    },
    {
      "cell_type": "markdown",
      "source": [
        "Dato che {} viene usato per creare un dizionario vuoto, per creare un set vuoto si utilizza la funzione set()."
      ],
      "metadata": {
        "id": "mKaatYcOkl6c"
      }
    },
    {
      "cell_type": "code",
      "source": [
        "set_vuoto = set()"
      ],
      "metadata": {
        "id": "tSnLpFfekfw9"
      },
      "execution_count": null,
      "outputs": []
    },
    {
      "cell_type": "markdown",
      "source": [
        "Possiamo aggiungere elementi al set con **.add()**"
      ],
      "metadata": {
        "id": "jDNCzq_3kxBf"
      }
    },
    {
      "cell_type": "code",
      "source": [
        "set_vuoto.add(6)"
      ],
      "metadata": {
        "id": "UBEX4ksLkfzY"
      },
      "execution_count": null,
      "outputs": []
    },
    {
      "cell_type": "markdown",
      "source": [
        "Per rimuove un elemento abbiamo due opzioni"
      ],
      "metadata": {
        "id": "hbKT0Y47k3Or"
      }
    },
    {
      "cell_type": "code",
      "source": [
        "set_numeri = {1, 2, 3, 4, 5}\n",
        "set_numeri.remove(5) # se non trova il 5 (perchè non presente nel set) il codice va in errore\n",
        "set_numeri.discard(6) # se non trova il valore, lo ignora"
      ],
      "metadata": {
        "id": "yjK8aa1zkf1q"
      },
      "execution_count": null,
      "outputs": []
    },
    {
      "cell_type": "markdown",
      "source": [
        "Mentre il set stesso è mutabile, gli elementi che vi si trovano all'interno devono essere di tipo immutabile. Ciò significa che, ad esempio, non puoi avere un set di liste, poiché le liste sono mutabili. Ma puoi avere un set di tuple, dato che sono immutabili.  \n",
        "\n",
        "Puoi convertire una lista o una tupla in un set usando la funzione set(). Questo è spesso utilizzato per rimuovere duplicati da una lista."
      ],
      "metadata": {
        "id": "VhBL4MZklcLl"
      }
    },
    {
      "cell_type": "code",
      "source": [
        "lista = [1, 2, 2, 3, 4, 4, 5]\n",
        "set_senza_duplicati = set(lista)\n",
        "print(set_senza_duplicati)"
      ],
      "metadata": {
        "colab": {
          "base_uri": "https://localhost:8080/"
        },
        "id": "-QPsNQ5Dlm2F",
        "outputId": "3267c27a-b23d-4e90-e1ac-5a21ea6c47e9"
      },
      "execution_count": null,
      "outputs": [
        {
          "output_type": "stream",
          "name": "stdout",
          "text": [
            "{1, 2, 3, 4, 5}\n"
          ]
        }
      ]
    },
    {
      "cell_type": "markdown",
      "source": [
        "## Debugging\n",
        "Il **debugging** è il processo di identificare e correggere errori o anomalie in un programma. Questi errori, chiamati anche \"bug\", possono manifestarsi in vari modi: crash del programma, comportamenti inattesi, risultati errati e così via. Il debugging è una componente essenziale dello sviluppo del software, poiché è raro (se non impossibile) scrivere codice perfetto alla prima prova."
      ],
      "metadata": {
        "id": "UhHsbYsaam4s"
      }
    },
    {
      "cell_type": "markdown",
      "source": [
        "Uno dei metodi più comuni e semplici di fare debugging è usare tanti print() in modo da essere sicuri ad ogni passaggio del valore delle variabili che stiamo usando.\n",
        "Python però è un ottimo linguaggio perchè fornisce degli strumenti per prevenire e risolvere direttamente i problemi nel codice in modo da evitare che il programma si rompa.  \n",
        "Questi strumenti sono il try, except e finally. Vediamo qui di seguito"
      ],
      "metadata": {
        "id": "K3A-oVE-mlON"
      }
    },
    {
      "cell_type": "markdown",
      "source": [
        "Il blocco try contiene il codice che potrebbe sollevare un'eccezione. Se all'interno del blocco try si verifica un'eccezione, l'esecuzione del blocco si interrompe e il controllo passa al primo blocco except che corrisponde all'eccezione sollevata."
      ],
      "metadata": {
        "id": "lGEkFAVGodIj"
      }
    },
    {
      "cell_type": "code",
      "source": [
        "try:\n",
        "    risultato = 10 / 0\n",
        "except ZeroDivisionError: # il nome ZeroDivisionError è quello specifico di quando si fa una divisione per 0. Il nome si può trovare nel messaggio di errore\n",
        "    print(\"Non si può dividere per zero!\")"
      ],
      "metadata": {
        "colab": {
          "base_uri": "https://localhost:8080/"
        },
        "id": "w6uguRtRmlT1",
        "outputId": "307fa8c2-22ae-4b91-c091-9d4ba33081ee"
      },
      "execution_count": null,
      "outputs": [
        {
          "output_type": "stream",
          "name": "stdout",
          "text": [
            "Non si può dividere per zero!\n"
          ]
        }
      ]
    },
    {
      "cell_type": "markdown",
      "source": [
        "Il blocco except cattura e gestisce l'eccezione sollevata nel blocco try. Puoi avere più blocchi except per gestire diverse eccezioni in modi diversi. Se si vuole catturare qualsiasi eccezione, senza specificarne il tipo, si può utilizzare except da solo, ma è generalmente una pratica sconsigliata perché può mascherare errori inaspettati."
      ],
      "metadata": {
        "id": "JHObP9nnoo5s"
      }
    },
    {
      "cell_type": "code",
      "source": [
        "try:\n",
        "    lista = [1, 2, 3]\n",
        "    print(lista[5])\n",
        "except IndexError: # il nome IndexError lo si ha quando l'errore è dovuto all'uso di un indice non presente nell'oggetto a cui stiamo cercando di accedere.\n",
        "    print(\"Indice fuori dai limiti della lista!\")\n",
        "except ZeroDivisionError:\n",
        "    print(\"Non si può dividere per zero!\")"
      ],
      "metadata": {
        "colab": {
          "base_uri": "https://localhost:8080/"
        },
        "id": "GnnOYaYaopSb",
        "outputId": "d906e18f-58b8-4b6b-a5f4-a85e3b51bc25"
      },
      "execution_count": null,
      "outputs": [
        {
          "output_type": "stream",
          "name": "stdout",
          "text": [
            "Indice fuori dai limiti della lista!\n"
          ]
        }
      ]
    },
    {
      "cell_type": "markdown",
      "source": [
        "Il blocco finally viene eseguito indipendentemente dal fatto che si sia verificata un'eccezione o meno. È tipicamente utilizzato per garantire che le risorse vengano rilasciate o che certi passaggi finali vengano eseguiti, indipendentemente dal successo o fallimento del blocco try."
      ],
      "metadata": {
        "id": "cBG5VJw8ozYG"
      }
    },
    {
      "cell_type": "code",
      "source": [
        "try:\n",
        "    file = open(\"file.txt\", \"r\") #Vedremo a breve come gestire file.\n",
        "    contenuto = file.read()\n",
        "except FileNotFoundError:\n",
        "    print(\"Il file non è stato trovato!\")\n",
        "finally:\n",
        "    if 'file' in locals():  # Controlla se la variabile 'file' esiste\n",
        "        file.close()  # Assicurati che il file venga chiuso indipendentemente dall'occorrenza di eccezioni"
      ],
      "metadata": {
        "colab": {
          "base_uri": "https://localhost:8080/"
        },
        "id": "UM5dP12_oznR",
        "outputId": "de432312-5dfc-4ceb-990a-68f85f4a3065"
      },
      "execution_count": null,
      "outputs": [
        {
          "output_type": "stream",
          "name": "stdout",
          "text": [
            "Il file non è stato trovato!\n"
          ]
        }
      ]
    },
    {
      "cell_type": "markdown",
      "source": [
        "In aggiunta, c'è anche un costrutto else che può essere utilizzato con try. Il blocco else viene eseguito se e solo se il blocco try non ha sollevato eccezioni."
      ],
      "metadata": {
        "id": "mWbWWjqYo3Zh"
      }
    },
    {
      "cell_type": "code",
      "source": [
        "try:\n",
        "    risultato = 10 / 2\n",
        "except ZeroDivisionError:\n",
        "    print(\"Non si può dividere per zero!\")\n",
        "else:\n",
        "    print(f\"Il risultato è {risultato}\")\n",
        "finally:\n",
        "    print(\"Operazione completata!\")\n"
      ],
      "metadata": {
        "colab": {
          "base_uri": "https://localhost:8080/"
        },
        "id": "NzkTralGmlWP",
        "outputId": "c713acc6-d27e-457a-8aa8-2cef41fb13a2"
      },
      "execution_count": null,
      "outputs": [
        {
          "output_type": "stream",
          "name": "stdout",
          "text": [
            "Il risultato è 5.0\n",
            "Operazione completata!\n"
          ]
        }
      ]
    },
    {
      "cell_type": "markdown",
      "source": [
        "## Lavorare con file esterni\n",
        "La gestione dei file esterni è una parte fondamentale della programmazione, poiché spesso è necessario leggere dati da file o scrivere dati su file.  \n",
        "La funzione **open()** è usata per aprire un file ed ha due argomenti principali:  \n",
        "1. Il nome (o il percorso) del file.\n",
        "2. La modalità di apertura.\n",
        "\n",
        "```python\n",
        "file_aperto = open(\"file.txt\", \"r\")\n",
        "```\n",
        "Le modalità più comuni di apertura sono :\n",
        "1. 'r': lettura (default).\n",
        "2. 'w': scrittura (crea un nuovo file o sovrascrive un file esistente).\n",
        "3. 'a': aggiunta (scrive dati alla fine del file senza sovrascrivere il contenuto esistente).\n",
        "4. 'b': modo binario (per file come immagini, audio, ecc.).\n",
        "\n",
        "Per salvare il contenuto del file su una variabile è neccessario leggerlo dopo averlo aperto:\n",
        "```python\n",
        "file_aperto = open(\"file.txt\", \"r\")\n",
        "contenuto = file_aperto.read()\n",
        "file_aperto.close()\n",
        "```\n",
        "è importante ricordarsi di chiudere il file dopo averlo utilizzato con **.close()**. Se ti dimentichi di chiuderlo, potresti riscontrare problemi come perdite di risorse o comportamenti imprevisti nel tuo programma."
      ],
      "metadata": {
        "id": "iaEg1JjqanHA"
      }
    },
    {
      "cell_type": "markdown",
      "source": [
        "Per rendere il processo di apertura e chiusura dei file più sicuro e pulito, Python offre la sintassi **with** che chiude automaticamente il file non appena esci dal blocco, anche se si verificano eccezioni.  \n",
        "Vediamo un esempio:\n",
        "```python\n",
        "with open(\"file.txt\", \"r\") as file:\n",
        "    contenuto = file.read()\n",
        "\n",
        "# A questo punto, il file è già stato chiuso, non c'è bisogno di chiamare file.close()\n",
        "print(contenuto)\n",
        "```\n",
        "\n"
      ],
      "metadata": {
        "id": "GP9wIrvOriNV"
      }
    },
    {
      "cell_type": "markdown",
      "source": [
        "## Usare Google Colab per aprire file da Drive\n",
        "Per aprire un file da Google Colab, è necessario collegarsi al drive.  \n",
        "Nella barra verticale sulla sinista selezionare **Files**, dopodiché cliccare sul simbolo della cartella con drive, chiamata **Mount Drive**.\n",
        "Da li seguire i passaggi come richiesto da Google.  \n",
        "\n",
        "![Collegamento a drive](https://raw.githubusercontent.com/Frosty-Bits/PythonFree/main/images/Google_Colab_Mount_Drive.png)"
      ],
      "metadata": {
        "id": "KDwc_fUAsLEZ"
      }
    },
    {
      "cell_type": "markdown",
      "source": [
        "Una volta collegato il drive, comparirà la cartella MyDrive, ed  espandendola possiamo vedere il contenuto del drive.  \n",
        "Prova a caricare sul drive un file vuoto chiamato \"file.txt\" dopodichè aggiorna la schermata di Google Colab e cerca il tuo file, clicca sui 3 puntini affianco e poi su **copia percorso**.  \n",
        "Incolla il contenuto nella variabile **path** ed esegui il codice successivo."
      ],
      "metadata": {
        "id": "nVHV0ESUwEad"
      }
    },
    {
      "cell_type": "code",
      "source": [
        "path = '/content/drive/MyDrive/Utilities/file.txt' #aggiungi il percorso al tuo file"
      ],
      "metadata": {
        "id": "Dgk_CKOJxHC-"
      },
      "execution_count": null,
      "outputs": []
    },
    {
      "cell_type": "code",
      "source": [
        "with open(path, \"w\") as file:\n",
        "    file.write(\"Ciao, mondo!\")"
      ],
      "metadata": {
        "id": "E4HuKhrXwYrb"
      },
      "execution_count": null,
      "outputs": []
    },
    {
      "cell_type": "markdown",
      "source": [
        "Controlla ora sul drive per vedere se il file è stato aggiornato!"
      ],
      "metadata": {
        "id": "IlUeiKoXxP1F"
      }
    }
  ]
}