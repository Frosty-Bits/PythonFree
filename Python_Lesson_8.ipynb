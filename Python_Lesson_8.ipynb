{
  "nbformat": 4,
  "nbformat_minor": 0,
  "metadata": {
    "colab": {
      "provenance": [],
      "authorship_tag": "ABX9TyM7IYOvvQKuidTQv0Y6C9m6",
      "include_colab_link": true
    },
    "kernelspec": {
      "name": "python3",
      "display_name": "Python 3"
    },
    "language_info": {
      "name": "python"
    }
  },
  "cells": [
    {
      "cell_type": "markdown",
      "metadata": {
        "id": "view-in-github",
        "colab_type": "text"
      },
      "source": [
        "<a href=\"https://colab.research.google.com/github/Frosty-Bits/PythonFree/blob/main/Python_Lesson_8.ipynb\" target=\"_parent\"><img src=\"https://colab.research.google.com/assets/colab-badge.svg\" alt=\"Open In Colab\"/></a>"
      ]
    },
    {
      "cell_type": "markdown",
      "source": [
        "# Extra\n",
        "Vediamo ora un po' di informazioni che potrebbero tornarti utili in quanto spesso usate nel mondo della programmazione e per dare completezza ai temi trattati fin'ora."
      ],
      "metadata": {
        "id": "U42GwpkTamkA"
      }
    },
    {
      "cell_type": "markdown",
      "source": [
        "## Proprietà dei dati\n",
        "In python distinguiamo due tipi di dati\n",
        "1. Mutabili\n",
        "2. Immutabili\n"
      ],
      "metadata": {
        "id": "XB8M0nvvamvp"
      }
    },
    {
      "cell_type": "markdown",
      "source": [
        "## tuple\n",
        "\n",
        "## set"
      ],
      "metadata": {
        "id": "y7eoWvh-am1p"
      }
    },
    {
      "cell_type": "markdown",
      "source": [
        "## Debugging\n",
        "try\n",
        "except\n",
        "finally"
      ],
      "metadata": {
        "id": "UhHsbYsaam4s"
      }
    },
    {
      "cell_type": "markdown",
      "source": [
        "## Lavorare con i file\n",
        "\n",
        "with open() as f:"
      ],
      "metadata": {
        "id": "iaEg1JjqanHA"
      }
    },
    {
      "cell_type": "code",
      "source": [],
      "metadata": {
        "id": "_3rQRF75cAKR"
      },
      "execution_count": null,
      "outputs": []
    }
  ]
}