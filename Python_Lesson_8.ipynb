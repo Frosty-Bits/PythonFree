{
  "nbformat": 4,
  "nbformat_minor": 0,
  "metadata": {
    "colab": {
      "provenance": [],
      "mount_file_id": "1rgIuN1xAD5EwmfdKt9x_ZOT0OfmutZ3T",
      "authorship_tag": "ABX9TyM2d44Mf8TP7CP5Nip4q/bW",
      "include_colab_link": true
    },
    "kernelspec": {
      "name": "python3",
      "display_name": "Python 3"
    },
    "language_info": {
      "name": "python"
    }
  },
  "cells": [
    {
      "cell_type": "markdown",
      "metadata": {
        "id": "view-in-github",
        "colab_type": "text"
      },
      "source": [
        "<a href=\"https://colab.research.google.com/github/Frosty-Bits/PythonFree/blob/main/Python_Lesson_8.ipynb\" target=\"_parent\"><img src=\"https://colab.research.google.com/assets/colab-badge.svg\" alt=\"Open In Colab\"/></a>"
      ]
    },
    {
      "cell_type": "markdown",
      "source": [
        "## Debugging\n",
        "Il **debugging** è il processo di identificazione e correzione degli errori o delle anomalie in un programma.  \n",
        "Questi errori, chiamati anche \"bug\", possono manifestarsi in vari modi: crash del programma, comportamenti inattesi, risultati errati e così via.  \n",
        "Il debugging è una componente essenziale dello sviluppo del software, poiché è raro (se non impossibile) scrivere codice perfetto al primo colpo.  \n",
        "<hr> </hr>"
      ],
      "metadata": {
        "id": "UhHsbYsaam4s"
      }
    },
    {
      "cell_type": "markdown",
      "source": [
        "La funzione **print()** ci è d'aiuto quando si cercano dei bug poichè ci permette di analizzare il valore di una variabile di cui non siamo certi.  \n",
        "Nel seguente esempio vogliamo che il programma ci dica quando il loop ha finito. Proviamo ad eseguire il codice ma qualcosa non va, il print non funziona:\n",
        "\n",
        "\n"
      ],
      "metadata": {
        "id": "K3A-oVE-mlON"
      }
    },
    {
      "cell_type": "code",
      "source": [
        "for i in range(10):\n",
        "  if i == 10:\n",
        "    print(\"Il loop ha finito\")"
      ],
      "metadata": {
        "id": "l0Efn4C9aIgs"
      },
      "execution_count": 13,
      "outputs": []
    },
    {
      "cell_type": "markdown",
      "source": [
        "Per capire dov'è il problema possiamo aggiungere un **print(i)** per vedere che valori assume i."
      ],
      "metadata": {
        "id": "n9VnbMSziPS2"
      }
    },
    {
      "cell_type": "code",
      "source": [
        "for i in range(10):\n",
        "  print(i)\n",
        "  if i == 10:\n",
        "    print(\"Il loop ha finito\")"
      ],
      "metadata": {
        "colab": {
          "base_uri": "https://localhost:8080/"
        },
        "id": "hfYkawpbiYVq",
        "outputId": "452e761b-9c03-4837-cbae-13b8fcb478d4"
      },
      "execution_count": 14,
      "outputs": [
        {
          "output_type": "stream",
          "name": "stdout",
          "text": [
            "0\n",
            "1\n",
            "2\n",
            "3\n",
            "4\n",
            "5\n",
            "6\n",
            "7\n",
            "8\n",
            "9\n"
          ]
        }
      ]
    },
    {
      "cell_type": "markdown",
      "source": [
        "Notiamo subito che i non arriva mai a 10, perchè la funzione range() parte da 0 e arriva solo fino a 9. Sappiamo dunque dove correggere il codice in modo che funzioni come ci aspettiamo."
      ],
      "metadata": {
        "id": "91IHC26Iibub"
      }
    },
    {
      "cell_type": "code",
      "source": [
        "for i in range(10):\n",
        "  if i == 9:\n",
        "    print(\"Il loop ha finito\")"
      ],
      "metadata": {
        "colab": {
          "base_uri": "https://localhost:8080/"
        },
        "id": "D2np1kOei25F",
        "outputId": "e513f537-5816-448f-a8ac-498f0366653c"
      },
      "execution_count": 15,
      "outputs": [
        {
          "output_type": "stream",
          "name": "stdout",
          "text": [
            "Il loop ha finito\n"
          ]
        }
      ]
    },
    {
      "cell_type": "markdown",
      "source": [
        "<hr> </hr>"
      ],
      "metadata": {
        "id": "ocIoZY3XjHMI"
      }
    },
    {
      "cell_type": "markdown",
      "source": [
        "Oltre al print(), python ci fornisce altri strumenti per prevenire e risolvere eventuali bug in modo da evitare che il programma si rompa. Di seguito ne vediamo qualcuno."
      ],
      "metadata": {
        "id": "fYMTLMHiappH"
      }
    },
    {
      "cell_type": "markdown",
      "source": [
        "### try/except"
      ],
      "metadata": {
        "id": "jA9eG8UGkY2h"
      }
    },
    {
      "cell_type": "markdown",
      "source": [
        "proviamo a dividere un numero per 0 e vediamo cosa succede:"
      ],
      "metadata": {
        "id": "_O_sRHgmkeZ3"
      }
    },
    {
      "cell_type": "code",
      "source": [
        "print(10 / 0)"
      ],
      "metadata": {
        "colab": {
          "base_uri": "https://localhost:8080/",
          "height": 175
        },
        "id": "5eBw4hNYkdgD",
        "outputId": "0157db6b-d555-42ba-d4f8-54c29487ae58"
      },
      "execution_count": 16,
      "outputs": [
        {
          "output_type": "error",
          "ename": "ZeroDivisionError",
          "evalue": "division by zero",
          "traceback": [
            "\u001b[0;31m---------------------------------------------------------------------------\u001b[0m",
            "\u001b[0;31mZeroDivisionError\u001b[0m                         Traceback (most recent call last)",
            "\u001b[0;32m<ipython-input-16-65966e0a195f>\u001b[0m in \u001b[0;36m<cell line: 1>\u001b[0;34m()\u001b[0m\n\u001b[0;32m----> 1\u001b[0;31m \u001b[0mprint\u001b[0m\u001b[0;34m(\u001b[0m\u001b[0;36m10\u001b[0m \u001b[0;34m/\u001b[0m \u001b[0;36m0\u001b[0m\u001b[0;34m)\u001b[0m\u001b[0;34m\u001b[0m\u001b[0;34m\u001b[0m\u001b[0m\n\u001b[0m",
            "\u001b[0;31mZeroDivisionError\u001b[0m: division by zero"
          ]
        }
      ]
    },
    {
      "cell_type": "markdown",
      "source": [
        "Ci viene restituito un errore poichè non è possibile dividere un numero per 0. Se il codice quindi incontro un'operazione del genere si romperà bloccando il programma.  \n",
        "Per evitare questa situazione è possibile usare il **try/except**:"
      ],
      "metadata": {
        "id": "LcfJFLuFkq5G"
      }
    },
    {
      "cell_type": "code",
      "source": [
        "try:\n",
        "    risultato = 10 / 0\n",
        "    print(risultato)\n",
        "except:\n",
        "    print(\"Non si può dividere per zero!\")"
      ],
      "metadata": {
        "colab": {
          "base_uri": "https://localhost:8080/"
        },
        "id": "w6uguRtRmlT1",
        "outputId": "b309400b-bcaa-4b2a-fe4f-f7074bee5d43"
      },
      "execution_count": 17,
      "outputs": [
        {
          "output_type": "stream",
          "name": "stdout",
          "text": [
            "Non si può dividere per zero!\n"
          ]
        }
      ]
    },
    {
      "cell_type": "markdown",
      "source": [
        "Il blocco **try** verifica se il codice può generare un'eccezione, come una divisione per zero. Se si verifica un errore, il programma non si interrompe ma esegue il blocco **except**, dove un messaggio predefinito informa l'utente sulla causa dello scarto del codice precedente."
      ],
      "metadata": {
        "id": "lGEkFAVGodIj"
      }
    },
    {
      "cell_type": "markdown",
      "source": [
        "Sapendo già quale errore può andare incontro il codice è possibile specificarlo nel codice in modo da aver un'eccezione più specifica.  \n",
        "Infatti, nel codice precedente l'except cattura qualsiasi tipo di errore, ma non sempre l'errore è una divisione per 0.\n",
        "Vediamo un altro esempio:"
      ],
      "metadata": {
        "id": "syzA4i0DmdiO"
      }
    },
    {
      "cell_type": "code",
      "source": [
        "divisori = [2, 4, 0, \"2\"]\n",
        "\n",
        "for divisore in divisori:\n",
        "  try:\n",
        "    risultato = 10 / divisore\n",
        "    print(risultato)\n",
        "  except ZeroDivisionError:\n",
        "    print(\"Non si può dividere per zero!\")\n",
        "  except TypeError:\n",
        "    print(\"Stai cercando di dividere per un dato diverso da un numero!\")"
      ],
      "metadata": {
        "colab": {
          "base_uri": "https://localhost:8080/"
        },
        "id": "2_V1fcYzlJVQ",
        "outputId": "a72cf8f8-02c4-443b-f7ed-73c9bcb56710"
      },
      "execution_count": 18,
      "outputs": [
        {
          "output_type": "stream",
          "name": "stdout",
          "text": [
            "5.0\n",
            "2.5\n",
            "Non si può dividere per zero!\n",
            "Stai cercando di dividere per un dato diverso da un numero!\n"
          ]
        }
      ]
    },
    {
      "cell_type": "markdown",
      "source": [
        "In questo caso grazie alle parole chieve delle eccezioni possiamo prevedere alcuni errori e dare un feedback all'utente sul motivo per cui non ha funzionato il codice senza rischiare di bloccare tutto il programma.  \n",
        "Di seguito un link alla lista di tutte le eccezioni possibili in python:  \n",
        "[python exceptions](https://docs.python.org/3/library/exceptions.html)"
      ],
      "metadata": {
        "id": "972jUCEonmjv"
      }
    },
    {
      "cell_type": "markdown",
      "source": [
        "### finally"
      ],
      "metadata": {
        "id": "fBGOefLZp0Z5"
      }
    },
    {
      "cell_type": "markdown",
      "source": [
        "Il blocco **finally** è una parte della gestione delle eccezioni. Serve per definire un codice che deve essere eseguito dopo il blocco try, indipendentemente dal fatto che si verifichino eccezioni o meno.  \n",
        "Questo lo rende utile per azioni come rilasciare risorse (ad esempio, chiudere file o connessioni di rete) o eseguire passaggi di pulizia che devono avvenire sia che il codice nel blocco try sia completato con successo, sia che abbia sollevato un'eccezione."
      ],
      "metadata": {
        "id": "cBG5VJw8ozYG"
      }
    },
    {
      "cell_type": "code",
      "source": [
        "try:\n",
        "    file = open(\"file.txt\", \"r\") # Questa funzione serve ad aprire un file locale\n",
        "    contenuto = file.read() # Qui il file viene letto per estrapolare il testo\n",
        "except FileNotFoundError:\n",
        "    print(\"Il file non è stato trovato!\")\n",
        "finally:\n",
        "    if 'file' in locals():  # Controlla se la variabile 'file' esiste\n",
        "        file.close()  # Chiude il file in maniera sicura"
      ],
      "metadata": {
        "colab": {
          "base_uri": "https://localhost:8080/"
        },
        "id": "UM5dP12_oznR",
        "outputId": "39ff25fc-b9c4-429b-c971-e016a63316f9"
      },
      "execution_count": 19,
      "outputs": [
        {
          "output_type": "stream",
          "name": "stdout",
          "text": [
            "Il file non è stato trovato!\n"
          ]
        }
      ]
    },
    {
      "cell_type": "markdown",
      "source": [
        "### else\n",
        "Infine abbiamo il blocco else, che si usa insieme a try.  \n",
        "Questo blocco viene eseguito unicamente se il blocco try non genera eccezioni."
      ],
      "metadata": {
        "id": "mWbWWjqYo3Zh"
      }
    },
    {
      "cell_type": "code",
      "source": [
        "try:\n",
        "    risultato = 10 / 2\n",
        "except ZeroDivisionError:\n",
        "    print(\"Non si può dividere per zero!\")\n",
        "else:\n",
        "    print(f\"Il risultato è {risultato}\")\n",
        "finally:\n",
        "    print(\"Operazione completata!\")\n"
      ],
      "metadata": {
        "colab": {
          "base_uri": "https://localhost:8080/"
        },
        "id": "NzkTralGmlWP",
        "outputId": "de44cc08-aa89-4c99-a687-0ecc633dd10b"
      },
      "execution_count": 20,
      "outputs": [
        {
          "output_type": "stream",
          "name": "stdout",
          "text": [
            "Il risultato è 5.0\n",
            "Operazione completata!\n"
          ]
        }
      ]
    },
    {
      "cell_type": "markdown",
      "source": [
        "## Lavorare con file esterni\n",
        "La gestione dei file esterni è una parte fondamentale della programmazione, poiché spesso è necessario leggere o scrivere dati su file.  \n",
        "La funzione **open()** è usata per aprire un file ed ha due argomenti principali:  \n",
        "1. Il nome (o il percorso) del file.\n",
        "2. La modalità di apertura.\n",
        "\n",
        "```python\n",
        "file_aperto = open(\"file.txt\", \"r\")\n",
        "```\n",
        "Quando apri un file in Python, puoi scegliere diverse modalità:\n",
        "\n",
        "1. 'r' per la \"lettura\" (\"read\" in inglese), che è la modalità predefinita.\n",
        "2. 'w' per la \"scrittura\" (\"write\" in inglese), che crea un nuovo file o sovrascrive uno esistente.\n",
        "3. 'a' per \"aggiungere\" dati alla fine del file (\"append\" in inglese), mantenendo il contenuto esistente.\n",
        "4. 'b' per la lettura o scrittura in \"modo binario\" (\"binary mode\" in inglese), utilizzato per file come immagini o audio.\n",
        "\n",
        "Per salvare il contenuto del file su una variabile è neccessario leggerlo dopo averlo aperto con la funzione **read()**:\n",
        "```python\n",
        "file_aperto = open(\"file.txt\", \"r\")\n",
        "contenuto = file_aperto.read()\n",
        "file_aperto.close()\n",
        "```\n",
        "è importante ricordarsi di chiudere il file dopo averlo utilizzato con **close()**.  \n",
        "Se ti dimentichi di chiuderlo, potresti riscontrare problemi come perdite di dati o comportamenti imprevisti nel tuo programma."
      ],
      "metadata": {
        "id": "iaEg1JjqanHA"
      }
    },
    {
      "cell_type": "markdown",
      "source": [
        "Per rendere il processo di apertura e chiusura dei file più sicuro e pulito, Python offre la sintassi **with** che chiude automaticamente il file non appena esci dal blocco indentato, anche a seguito di eccezioni.  \n",
        "Vediamo un esempio:\n",
        "```python\n",
        "with open(\"file.txt\", \"r\") as file:\n",
        "    contenuto = file.read()\n",
        "\n",
        "# A questo punto, il file è già stato chiuso, non c'è bisogno di chiamare file.close()\n",
        "print(contenuto)\n",
        "```\n",
        "\n"
      ],
      "metadata": {
        "id": "GP9wIrvOriNV"
      }
    },
    {
      "cell_type": "markdown",
      "source": [
        "## Usare Google Colab per aprire file da Drive\n",
        "Per aprire un file da Google Colab, è necessario collegarsi al drive. Vediamo di seguito i passaggi:\n",
        "1. Nella barra verticale sulla sinista selezionare **Files**\n",
        "2. Cliccare sul simbolo della cartella con drive, chiamata **Mount Drive**.\n",
        "3. Infine seguire i passaggi richiesti da Google.  \n",
        "\n",
        "![Collegamento a drive](https://raw.githubusercontent.com/Frosty-Bits/PythonFree/main/images/Google_Colab_Mount_Drive.png)"
      ],
      "metadata": {
        "id": "KDwc_fUAsLEZ"
      }
    },
    {
      "cell_type": "markdown",
      "source": [
        "Una volta collegato il drive, comparirà la cartella MyDrive, ed  espandendola possiamo vedere il contenuto del drive. Esegui i seguenti passaggi:\n",
        "1. Caricare sul drive un file vuoto chiamato \"file.txt\" (andando direttamente sul tuo drive)\n",
        "2. Torna su Colab e aggiorna la schermata dei Files per vedere il tuo file\n",
        "3. Clicca sui 3 puntini affianco al file e poi su **copia percorso**.\n",
        "4. Incolla il contenuto nella variabile **path** ed esegui il codice successivo."
      ],
      "metadata": {
        "id": "nVHV0ESUwEad"
      }
    },
    {
      "cell_type": "code",
      "source": [
        "path = '/content/drive/MyDrive/Utilities/file.txt' #aggiungi il percorso al tuo file"
      ],
      "metadata": {
        "id": "Dgk_CKOJxHC-"
      },
      "execution_count": null,
      "outputs": []
    },
    {
      "cell_type": "code",
      "source": [
        "with open(path, \"w\") as file:\n",
        "    file.write(\"Ciao, mondo!\")"
      ],
      "metadata": {
        "id": "E4HuKhrXwYrb"
      },
      "execution_count": null,
      "outputs": []
    },
    {
      "cell_type": "markdown",
      "source": [
        "Controlla ora sul drive per vedere se il file è stato aggiornato!"
      ],
      "metadata": {
        "id": "IlUeiKoXxP1F"
      }
    }
  ]
}