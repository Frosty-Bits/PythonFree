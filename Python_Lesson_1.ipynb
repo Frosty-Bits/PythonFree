{
  "nbformat": 4,
  "nbformat_minor": 0,
  "metadata": {
    "colab": {
      "provenance": [],
      "include_colab_link": true
    },
    "kernelspec": {
      "name": "python3",
      "display_name": "Python 3"
    },
    "language_info": {
      "name": "python"
    }
  },
  "cells": [
    {
      "cell_type": "markdown",
      "metadata": {
        "id": "view-in-github",
        "colab_type": "text"
      },
      "source": [
        "<a href=\"https://colab.research.google.com/github/Frosty-Bits/PythonFree/blob/main/Python_Lesson_1.ipynb\" target=\"_parent\"><img src=\"https://colab.research.google.com/assets/colab-badge.svg\" alt=\"Open In Colab\"/></a>"
      ]
    },
    {
      "cell_type": "markdown",
      "source": [
        "#Markdown language\n",
        "\n"
      ],
      "metadata": {
        "id": "53aooInsOEtQ"
      }
    },
    {
      "cell_type": "markdown",
      "source": [
        "#Titoli\n",
        "# Grande\n",
        "## Medio\n",
        "### Piccolo"
      ],
      "metadata": {
        "id": "zyQguorpTrx5"
      }
    },
    {
      "cell_type": "markdown",
      "source": [
        "#Testo\n",
        "\n",
        "(Bisogna lasciare una riga vuota per andare a capo)\n",
        "\n",
        "Normale\n",
        "\n",
        "**grassetto**\n",
        "\n",
        "*corsivo*\n",
        "\n",
        "> testo indentato"
      ],
      "metadata": {
        "id": "nQFq7t2wTr11"
      }
    },
    {
      "cell_type": "markdown",
      "source": [
        "#Liste\n",
        "Liste ordinate\n",
        "1. Primo\n",
        "2. Secondo\n",
        "3. Terzo\n",
        "\n",
        "Liste senza ordine\n",
        "- Verde\n",
        "- Bianco\n",
        "- Rosso\n",
        "\n",
        "Liste di controllo (solo per alcuni editor)\n",
        "- [x] pane\n",
        "- [ ] pomodori\n",
        "- [ ] latte"
      ],
      "metadata": {
        "id": "a2n6IC70WDmS"
      }
    },
    {
      "cell_type": "markdown",
      "source": [
        "#Altre cose utili che puoi fare\n",
        "- Aggiungere Link  \n",
        "[Questo è un link](https://www.google.com/)\n",
        "\n",
        "- Aggiungere un immagine  \n",
        "![Logo di Python](https://s3.dualstack.us-east-2.amazonaws.com/pythondotorg-assets/media/community/logos/python-logo-only.png)\n",
        "\n",
        "- Usare caratteri speciali  \n",
        "In questo caso basta aggiungere '\\\\' prima del carattere speciale, ad Esempio, \\# Questo non è un titolo\n",
        "\n",
        "- Aggiungere codice  \n",
        "```python\n",
        "print('Hello World!')\n",
        "```\n",
        "\n",
        "- Utilizzare HTML per modificare il documento  \n",
        "<hr></hr>"
      ],
      "metadata": {
        "id": "QP66ApB9WDoX"
      }
    },
    {
      "cell_type": "markdown",
      "source": [
        "#Introduzione a Python"
      ],
      "metadata": {
        "id": "sSvSYBJtWDqa"
      }
    },
    {
      "cell_type": "markdown",
      "source": [
        "Python è stato rilasciato nel **1991** da **Guido van Rossum**  \n",
        "con l'intenzione di creare un linguaggio:\n",
        "\n",
        "- **di alto livello**\n",
        "> il codice è molto naturale, simile alla lingua inglese e gestisce autonomamente buona parte dei sistemi informatici (ad esempio, l'allocazione di memoria). Un linguaggio di *basso livello* invece è più simile al linguaggio macchina e avrà bisogno di più informazioni su come gestire il programma a cui stiamo lavorando (ad esempio, dove salvare le informazioni, quale tipo di dato stiamo utilizzando).\n",
        "\n",
        "- **General-Purpose**\n",
        "> Si può utilizzare per diversi scopi, non è limitato ad una particolare attività. Al contrario dei linguaggi di programmazione *Domain-Specific* che invece sono stati creati per risolvere specifici problemi (Ad esempio abbiamo visto prima il Markdown che viene utilizzato esclusivamente per scrivere e personalizzare un documento)\n",
        "\n",
        "- **Dinamico**\n",
        "> Il tipo di dato con cui stiamo lavorando viene individuato al momento dell'esecuzione del codice attraverso dei controlli. Un linguaggio *statico* invece richiede di specificare il tipo di dato direttamente nel codice che stiamo scrivendo.\n",
        "\n",
        "- **Interpretato**\n",
        "> Si intende che il codice sorgente (quello scritto da noi), viene eseguito direttamente dalla macchina traducendo le istruzioni una alla volta durante l'esecuzione del programma. Al contrario, un linguaggio *compilato* produce prima un file eseguibile contenete la traduzione in linguaggio macchina (o un linguaggio intermedio) di tutto il nostro codice sorgente, dopodichè lo esegue.\n",
        "\n",
        "- **enfatizza la leggibilità del codice**\n",
        "> Attraverso un insieme di regole e linee guida, aumenta la leggibilità del codice in modo da migliorare la produttività e la facilità di manutenzione. [Clicca qui per più informazioni](https://peps.python.org/pep-0008/)."
      ],
      "metadata": {
        "id": "s8yf8nD_bg61"
      }
    },
    {
      "cell_type": "markdown",
      "source": [
        "#Cos'è un algoritmo?\n",
        "Un algoritmo è una sequenza di passaggi ordinati per cui, dato un certo input, si ottiene un determinato output.\n",
        "\n",
        "Il classico esempio è una ricetta di cucina, dove abbiamo:\n",
        "- gli ingredienti (input)\n",
        "- i passaggi da seguire (algoritmo)\n",
        "- il risultato finale, ad esempio una torta (output)\n",
        "\n",
        "<img src=\"https://raw.githubusercontent.com/Frosty-Bits/PythonFree/main/images/Small_Cake.png\" width=\"400\" height=\"400\">"
      ],
      "metadata": {
        "id": "Y5I_a4pGbvM5"
      }
    },
    {
      "cell_type": "markdown",
      "source": [
        "#Testa le capacità!\n",
        "Sapevi che per memorizzare più facilmente un argomento la tecnica migliore è richiamare quello che hai studiato?\n",
        "\n",
        "Prova a rispondere alle seguenti domande, e cerca la soluzione solo se non sei in grado di ricordare la risposta.\n",
        "\n",
        "1. Un linguaggio molto simile a come ragiona un computer è definito:  \n",
        "- [ ] di alto livello\n",
        "- [ ] General-Purpose\n",
        "- [ ] di basso livello\n",
        "2. Per scrivere un titolo in Markdown si usa:  \n",
        "- [ ] \\#\n",
        "- [ ] \\**\n",
        "- [ ] \\--\n",
        "3. Un linguaggio creato per gestire una sola determinata attività è chiamato:  \n",
        "- [ ] Interpretato\n",
        "- [ ] Dinamico\n",
        "- [ ] Domain-Specific"
      ],
      "metadata": {
        "id": "nzLYSNJHoF9i"
      }
    }
  ]
}