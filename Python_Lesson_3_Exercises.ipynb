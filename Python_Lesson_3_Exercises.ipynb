{
  "nbformat": 4,
  "nbformat_minor": 0,
  "metadata": {
    "colab": {
      "provenance": [],
      "authorship_tag": "ABX9TyMMIVfIuGI+XNbBBf7j/KQu",
      "include_colab_link": true
    },
    "kernelspec": {
      "name": "python3",
      "display_name": "Python 3"
    },
    "language_info": {
      "name": "python"
    }
  },
  "cells": [
    {
      "cell_type": "markdown",
      "metadata": {
        "id": "view-in-github",
        "colab_type": "text"
      },
      "source": [
        "<a href=\"https://colab.research.google.com/github/Frosty-Bits/PythonFree/blob/main/Python_Lesson_3_Exercises.ipynb\" target=\"_parent\"><img src=\"https://colab.research.google.com/assets/colab-badge.svg\" alt=\"Open In Colab\"/></a>"
      ]
    },
    {
      "cell_type": "markdown",
      "source": [
        "# Esercitazione\n",
        "Vediamo ora degli esercizi per sperimentare con quanto visto fin'ora."
      ],
      "metadata": {
        "id": "bOOPbOYaVSvi"
      }
    },
    {
      "cell_type": "code",
      "source": [
        "# 1. Chiedi all'utente di inserire il nome e salvalo nella variabile <nome>"
      ],
      "metadata": {
        "id": "7CdSKpcCVhZN"
      },
      "execution_count": null,
      "outputs": []
    },
    {
      "cell_type": "code",
      "source": [
        "# 2. Chiedi all'utente di inserire la sua età e salvala nella variabile <età>\n",
        "\n",
        "# Ricorda, la funzione input() salva ogni valore inserito dall'utente come una stringa. Non un numero."
      ],
      "metadata": {
        "id": "509wK-kIVhpe"
      },
      "execution_count": null,
      "outputs": []
    },
    {
      "cell_type": "code",
      "source": [
        "# 3. Stampa a schermo la frase: Ciao <nome>! Hai <età> anni."
      ],
      "metadata": {
        "id": "sqDZR5qsVhyo"
      },
      "execution_count": null,
      "outputs": []
    },
    {
      "cell_type": "code",
      "source": [
        "# 4. Stampa a schermo il nome dell'utente e la sua età su due righe diverse"
      ],
      "metadata": {
        "id": "8VjAx936gszv"
      },
      "execution_count": null,
      "outputs": []
    },
    {
      "cell_type": "code",
      "source": [
        "# 5. Stampa a schermo quanti anni avrà l'utente precedente tra 60 mesi. (Suggerimento: Trasforma i mesi in anni)"
      ],
      "metadata": {
        "id": "f7FQJNGIVh1Q"
      },
      "execution_count": null,
      "outputs": []
    },
    {
      "cell_type": "code",
      "source": [
        "# 6. Stampa a schermo la somma dei numeri da 1 a 10"
      ],
      "metadata": {
        "id": "qcRNjzueVh3u"
      },
      "execution_count": null,
      "outputs": []
    },
    {
      "cell_type": "code",
      "source": [
        "# 7. Stampa a schermo un numero con 50 zeri"
      ],
      "metadata": {
        "id": "Y0Os4dD-Vh6Q"
      },
      "execution_count": null,
      "outputs": []
    },
    {
      "cell_type": "code",
      "source": [
        "# 8. Stampa a schermo un animale (Ricorda che puoi usare internet per trovare una soluzione o un animale da copiare)"
      ],
      "metadata": {
        "id": "6k0AQkJGVh_G"
      },
      "execution_count": null,
      "outputs": []
    },
    {
      "cell_type": "code",
      "source": [
        "# 9. Calcola l'interesse semplice di una somma di 1000€ investita per 2 anni al tasso del 5% (Formula: Capitale * tasso * tempo)\n"
      ],
      "metadata": {
        "id": "EM7Jyz7eViBe"
      },
      "execution_count": null,
      "outputs": []
    },
    {
      "cell_type": "code",
      "source": [
        "# 10. Chiedi in input una parola all'utente, poi stampala al contrario insime alla lunghezza della parola stessa."
      ],
      "metadata": {
        "id": "A4kOgJulViED"
      },
      "execution_count": null,
      "outputs": []
    },
    {
      "cell_type": "code",
      "source": [
        "# 11. Stampa a schermo la parola precendente tutta in maiuscolo e successivamente solo con la prima lettera maiuscola"
      ],
      "metadata": {
        "id": "H3U_g-_3q9d0"
      },
      "execution_count": null,
      "outputs": []
    },
    {
      "cell_type": "code",
      "source": [
        "# 12. Un triangolo ha un lato di 3 cm e l'altro di 4. Quant'è la lunghezza dell'ipotenusa? (Teorema di Pitagora)\n",
        "# importiamo una libreria di python (ovvero un estensione, che ci permette di usare più funzioni, in questo caso matematiche)\n",
        "from math import sqrt\n",
        "# per usare la radice quadrata si usa il comando sqrt() inserendo come parametro il valore a cui applicare la radice.\n",
        "# esempio:\n",
        "print(sqrt(9))"
      ],
      "metadata": {
        "id": "MfCene0cViJE"
      },
      "execution_count": null,
      "outputs": []
    }
  ]
}