{
  "nbformat": 4,
  "nbformat_minor": 0,
  "metadata": {
    "colab": {
      "provenance": [],
      "authorship_tag": "ABX9TyMdLWuxb0ObyAl0tB6coIfN",
      "include_colab_link": true
    },
    "kernelspec": {
      "name": "python3",
      "display_name": "Python 3"
    },
    "language_info": {
      "name": "python"
    }
  },
  "cells": [
    {
      "cell_type": "markdown",
      "metadata": {
        "id": "view-in-github",
        "colab_type": "text"
      },
      "source": [
        "<a href=\"https://colab.research.google.com/github/Frosty-Bits/PythonFree/blob/main/Python_Lesson_3_Exercises.ipynb\" target=\"_parent\"><img src=\"https://colab.research.google.com/assets/colab-badge.svg\" alt=\"Open In Colab\"/></a>"
      ]
    },
    {
      "cell_type": "markdown",
      "source": [
        "# Esercitazione\n",
        "Vediamo ora degli esercizi per sperimentare con quanto visto fin'ora."
      ],
      "metadata": {
        "id": "bOOPbOYaVSvi"
      }
    },
    {
      "cell_type": "markdown",
      "source": [
        "## 1.Chiedi all'utente di inserire il nome e salvalo nella variabile <nome>"
      ],
      "metadata": {
        "id": "2EmPEILyJEjn"
      }
    },
    {
      "cell_type": "code",
      "source": [],
      "metadata": {
        "id": "EVzP8vTNJFeF"
      },
      "execution_count": null,
      "outputs": []
    },
    {
      "cell_type": "markdown",
      "source": [
        "## 2.Chiedi all'utente di inserire la sua età e salvala nella variabile <età>\n",
        "\n",
        "Ricorda, la funzione input() salva ogni valore inserito dall'utente come una stringa. Non un numero."
      ],
      "metadata": {
        "id": "n5N0o-lUJFkV"
      }
    },
    {
      "cell_type": "code",
      "source": [],
      "metadata": {
        "id": "KMhdB7BwJFp6"
      },
      "execution_count": null,
      "outputs": []
    },
    {
      "cell_type": "markdown",
      "source": [
        "## 3.Stampa a schermo la frase: Ciao \\<nome> ! Hai <età> anni."
      ],
      "metadata": {
        "id": "3ZU7eFIeJFus"
      }
    },
    {
      "cell_type": "code",
      "source": [],
      "metadata": {
        "id": "j_4PxcjWJF0H"
      },
      "execution_count": null,
      "outputs": []
    },
    {
      "cell_type": "markdown",
      "source": [
        "## 4.Stampa a schermo il nome dell'utente e la sua età su due righe diverse"
      ],
      "metadata": {
        "id": "_Az7N4nqJF5L"
      }
    },
    {
      "cell_type": "code",
      "source": [],
      "metadata": {
        "id": "Vc7eZOF8JF9w"
      },
      "execution_count": null,
      "outputs": []
    },
    {
      "cell_type": "markdown",
      "source": [
        "## 5.Stampa a schermo quanti anni avrà l'utente precedente tra 60 mesi.  \n",
        "Suggerimento: Trasforma i mesi in anni"
      ],
      "metadata": {
        "id": "lbIU7OVaJGCt"
      }
    },
    {
      "cell_type": "code",
      "source": [],
      "metadata": {
        "id": "y0rGgRXGJGOt"
      },
      "execution_count": null,
      "outputs": []
    },
    {
      "cell_type": "markdown",
      "source": [
        "## 6.Stampa a schermo la somma dei numeri da 1 a 10"
      ],
      "metadata": {
        "id": "Nb8QawkBJGVG"
      }
    },
    {
      "cell_type": "code",
      "source": [],
      "metadata": {
        "id": "lwPZbaG2JGZr"
      },
      "execution_count": null,
      "outputs": []
    },
    {
      "cell_type": "markdown",
      "source": [
        "## 7.Stampa a schermo un numero con 50 zeri"
      ],
      "metadata": {
        "id": "S2JEcJNdJGe5"
      }
    },
    {
      "cell_type": "code",
      "source": [],
      "metadata": {
        "id": "Z_t0fF2jJGlP"
      },
      "execution_count": null,
      "outputs": []
    },
    {
      "cell_type": "markdown",
      "source": [
        "## 8.Stampa a schermo un animale  \n",
        "Ricorda che puoi usare internet per trovare una soluzione o un animale da copiare"
      ],
      "metadata": {
        "id": "oIBLp_adJGsH"
      }
    },
    {
      "cell_type": "code",
      "source": [],
      "metadata": {
        "id": "ptp4ydSoJGyJ"
      },
      "execution_count": null,
      "outputs": []
    },
    {
      "cell_type": "markdown",
      "source": [
        "## 9.Calcola l'interesse semplice di una somma di 1000€ investita per 2 anni al tasso del 5%  \n",
        "Formula: Capitale * tasso * tempo"
      ],
      "metadata": {
        "id": "7lG2iz_1JG3H"
      }
    },
    {
      "cell_type": "code",
      "source": [],
      "metadata": {
        "id": "93qakVwuJG97"
      },
      "execution_count": null,
      "outputs": []
    },
    {
      "cell_type": "markdown",
      "source": [
        "## 10.Chiedi in input una parola all'utente, poi stampala al contrario insime alla lunghezza della parola stessa."
      ],
      "metadata": {
        "id": "i7n0-MCkJ4CR"
      }
    },
    {
      "cell_type": "code",
      "source": [],
      "metadata": {
        "id": "1cZjcBpsJ4Il"
      },
      "execution_count": null,
      "outputs": []
    },
    {
      "cell_type": "markdown",
      "source": [
        "## 11.Stampa a schermo la parola precendente tutta in maiuscolo e successivamente solo con la prima lettera maiuscola"
      ],
      "metadata": {
        "id": "CY6fJM9kJ4N1"
      }
    },
    {
      "cell_type": "code",
      "source": [],
      "metadata": {
        "id": "e5qqNH3GJ4S_"
      },
      "execution_count": null,
      "outputs": []
    },
    {
      "cell_type": "markdown",
      "source": [
        "## 12.Un triangolo ha un lato di 3 cm e l'altro di 4. Quant'è la lunghezza dell'ipotenusa? (Teorema di Pitagora)  \n",
        "Importiamo una libreria di python  \n",
        "(ovvero un estensione, che ci permette di usare più funzioni, in questo caso matematiche)  \n",
        "Non preoccuparti, vedremo più nel dettaglio cos'è una libreria tra qualche lezione :)"
      ],
      "metadata": {
        "id": "iQPx4dW8J4YB"
      }
    },
    {
      "cell_type": "code",
      "source": [
        "from math import sqrt"
      ],
      "metadata": {
        "id": "BTc6Jt1NJ4dK"
      },
      "execution_count": null,
      "outputs": []
    },
    {
      "cell_type": "markdown",
      "source": [
        "per usare la radice quadrata si usa il comando sqrt() inserendo come parametro il valore a cui applicare la radice:"
      ],
      "metadata": {
        "id": "X8vxswgrJ4iC"
      }
    },
    {
      "cell_type": "code",
      "source": [
        "print(sqrt(9))"
      ],
      "metadata": {
        "colab": {
          "base_uri": "https://localhost:8080/"
        },
        "id": "1nRD7oY4J4m_",
        "outputId": "51baa3ee-9b11-41a4-fec2-893a96b4e5d8"
      },
      "execution_count": null,
      "outputs": [
        {
          "output_type": "stream",
          "name": "stdout",
          "text": [
            "3.0\n"
          ]
        }
      ]
    }
  ]
}