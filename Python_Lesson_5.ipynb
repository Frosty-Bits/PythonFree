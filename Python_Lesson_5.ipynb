{
  "nbformat": 4,
  "nbformat_minor": 0,
  "metadata": {
    "colab": {
      "provenance": [],
      "authorship_tag": "ABX9TyOS45dGj3a+LZiuV1zVnbSH",
      "include_colab_link": true
    },
    "kernelspec": {
      "name": "python3",
      "display_name": "Python 3"
    },
    "language_info": {
      "name": "python"
    }
  },
  "cells": [
    {
      "cell_type": "markdown",
      "metadata": {
        "id": "view-in-github",
        "colab_type": "text"
      },
      "source": [
        "<a href=\"https://colab.research.google.com/github/Frosty-Bits/PythonFree/blob/main/Python_Lesson_5.ipynb\" target=\"_parent\"><img src=\"https://colab.research.google.com/assets/colab-badge.svg\" alt=\"Open In Colab\"/></a>"
      ]
    },
    {
      "cell_type": "markdown",
      "source": [
        "## Condizioni if, else\n",
        "Vediamo ora una delle parti più divertenti e usate in python che servono a gestire l'andamento del codice: gli operatori **if (se), else (altrimenti)**.  \n",
        "Essi servono a prendere decisioni in base a specifiche condizioni.  \n",
        "La sintassi è la seguente:\n",
        "\n",
        "\n",
        "```python\n",
        "if (condizione):\n",
        "  (fai qualcosa)\n",
        "else:\n",
        "  (fai altro)\n",
        "```\n",
        "\n",
        "Se la condizione nell'if restitusci True, allora sarà eseguita l'attività specificata subito dopo, altrimenti se la condizione restituisce False, sarà eseguita l'attività infondo sotto l'else.\n",
        "\n",
        "Da notare che le operazioni da eseguire sono indentate, questo è obbligatorio affinchè il codice funzioni e serve anche ad aumentare la leggibilità del codice, che risulta così più immediato da capire.  \n",
        "\n",
        "Vediamo ora un piccolo esercizio.  \n",
        "\n",
        "Siamo degli ingegneri per un'azienda automobilistica e ci viene chiesto di creare un programma che dato in input il limite di velocità della strada su cui stiamo viaggiando e la velocità che abbiamo in questo momento, ci suggerisca di rallentare se la nostra velocità è superiore al limite."
      ],
      "metadata": {
        "id": "W26tVwzfR4wn"
      }
    },
    {
      "cell_type": "code",
      "source": [
        "limite_velocità_strada = 50 #km/h\n",
        "\n",
        "# inserisci valori diversi e osserva se il codice si comporta in modo diverso\n",
        "velocità_automobile = int(input(\"inserisci la velocità a cui stai andando. (deve essere un numero) \")) #km/h\n",
        "\n",
        "if velocità_automobile > limite_velocità_strada:\n",
        "  print(\"Rallenta! Sei sopra il limite della strada.\")"
      ],
      "metadata": {
        "colab": {
          "base_uri": "https://localhost:8080/"
        },
        "id": "VSNbyvVrR5Gw",
        "outputId": "2f7a9105-4c5b-4619-9468-78cb707bfe61"
      },
      "execution_count": null,
      "outputs": [
        {
          "output_type": "stream",
          "name": "stdout",
          "text": [
            "inserisci la velocità a cui stai andando. (deve essere un numero) 70\n",
            "Rallenta! Sei sopra il limite della strada.\n"
          ]
        }
      ]
    },
    {
      "cell_type": "markdown",
      "source": [
        "Un esempio concreto:  \n",
        "Google maps è ingrado di capire sia il limite della strada su cui siamo, che la velocità a cui stiamo andando (grazie al gps).\n",
        "Quindi se superiamo il limite, c'è lo fa notare.  \n",
        "\n",
        "Modifichiamo il nostro codice affinchè ci faccia un complimento se stiamo rispettando il limite di velocità."
      ],
      "metadata": {
        "id": "F547ZY3yWAvS"
      }
    },
    {
      "cell_type": "code",
      "source": [
        "limite_velocità_strada = 50 #km/h\n",
        "\n",
        "# inserisci valori diversi e osserva se il codice si comporta in modo diverso\n",
        "velocità_automobile = int(input(\"inserisci la velocità a cui stai andando. (deve essere un numero) \")) #km/h\n",
        "\n",
        "if velocità_automobile > limite_velocità_strada:\n",
        "  print(\"Rallenta! Sei sopra il limite della strada.\")\n",
        "else:\n",
        "  print(\"Bravo! Stai rispettando il limite\")"
      ],
      "metadata": {
        "colab": {
          "base_uri": "https://localhost:8080/"
        },
        "id": "L3MRjQ-SR5hR",
        "outputId": "2c09dcdf-047d-46bd-cb33-44ba20042567"
      },
      "execution_count": null,
      "outputs": [
        {
          "output_type": "stream",
          "name": "stdout",
          "text": [
            "inserisci la velocità a cui stai andando. (deve essere un numero) 30\n",
            "Bravo! Stai rispettando il limite\n"
          ]
        }
      ]
    },
    {
      "cell_type": "markdown",
      "source": [
        "È possibile anche specificare più condizioni e per ciascuna eseguire un operazione diversa. In questi casi si usa **elif** , un'abbreviazione di else if (altrimenti se).  \n",
        "Quando usiamo più condizioni, l'ordine da rispettare è sempre:\n",
        "\n",
        "\n",
        "```python\n",
        "if (condizione 1):\n",
        "  (fai x)\n",
        "elif (condizione 2):\n",
        "  (fai y)\n",
        "else:\n",
        "  (fai z)\n",
        "```\n",
        "\n",
        "\n",
        "\n",
        "Supponiamo ad esempio di imporre una velocità minima che dobbiamo rispettare, per evitare di creare traffico."
      ],
      "metadata": {
        "id": "-UYAAAkmaQOz"
      }
    },
    {
      "cell_type": "code",
      "source": [
        "limite_velocità_strada = 50 #km/h\n",
        "velocità_minima = 15 #km/h\n",
        "\n",
        "# inserisci valori diversi e osserva se il codice si comporta in modo diverso\n",
        "velocità_automobile = int(input(\"inserisci la velocità a cui stai andando. (deve essere un numero) \")) #km/h\n",
        "\n",
        "if velocità_automobile > limite_velocità_strada:\n",
        "  print(\"Rallenta! Sei sopra il limite della strada.\")\n",
        "elif velocità_automobile < velocità_minima:\n",
        "  print(\"Accellera! Stai creando traffico\")\n",
        "else:\n",
        "  print(\"Bravo! Stai rispettando il limite\")"
      ],
      "metadata": {
        "colab": {
          "base_uri": "https://localhost:8080/"
        },
        "id": "qkpAV5-PR51-",
        "outputId": "c1d8c752-404a-422d-98d3-96fd2ea5a7b0"
      },
      "execution_count": null,
      "outputs": [
        {
          "output_type": "stream",
          "name": "stdout",
          "text": [
            "inserisci la velocità a cui stai andando. (deve essere un numero) 10\n",
            "Accellera! Stai creando traffico\n"
          ]
        }
      ]
    },
    {
      "cell_type": "markdown",
      "source": [
        "## Testa le tue capacità\n",
        "*Soluzioni a fondo pagina*"
      ],
      "metadata": {
        "id": "TaHdq3bGc7s7"
      }
    },
    {
      "cell_type": "markdown",
      "source": [
        "### Esercizio 1\n",
        "Scrivere un programma che chieda all'utente la sua età e stampi se è minorenne (sotto i 18 anni) o adulto."
      ],
      "metadata": {
        "id": "q2W33mh4cSnJ"
      }
    },
    {
      "cell_type": "code",
      "source": [],
      "metadata": {
        "id": "NHoNX-yqhF6Y"
      },
      "execution_count": null,
      "outputs": []
    },
    {
      "cell_type": "markdown",
      "source": [
        "### Esercizio 2\n",
        "Chiedi all'utente di inserire due numeri. Stampa il numero maggiore oppure se sono uguali."
      ],
      "metadata": {
        "id": "CP3wih6KcYx0"
      }
    },
    {
      "cell_type": "code",
      "source": [],
      "metadata": {
        "id": "9Bs_A6tOhGUW"
      },
      "execution_count": null,
      "outputs": []
    },
    {
      "cell_type": "markdown",
      "source": [
        "### Esercizio 3\n",
        "Chiedere all'utente di inserire un numero. Stampa se il numero è pari o dispari."
      ],
      "metadata": {
        "id": "bzGmyizmceoX"
      }
    },
    {
      "cell_type": "code",
      "source": [],
      "metadata": {
        "id": "Js50WrcphGyu"
      },
      "execution_count": null,
      "outputs": []
    },
    {
      "cell_type": "markdown",
      "source": [
        "##Complimenti!\n",
        "Hai raggiunto già un buon livello di comprensione del linguaggio **Python**.  \n",
        "Una volta consolidate le basi, tutto il resto è un loro mix.  \n",
        "Aumentiamo ora il livello di difficoltà."
      ],
      "metadata": {
        "id": "BM61U9-Bcajp"
      }
    },
    {
      "cell_type": "markdown",
      "source": [
        "Scrivi un programma che chieda all'utente di inserire un numero. Se il numero è sia maggiore di 10 sia minore di 20, stampa \"Il numero è compreso tra 10 e 20\". Altrimenti, stampa \"Il numero non è compreso tra 10 e 20\"."
      ],
      "metadata": {
        "id": "Q5saCnJLiSpF"
      }
    },
    {
      "cell_type": "code",
      "source": [
        "numero = float(input(\"Inserisci un numero: \"))\n",
        "\n",
        "if numero > 10 and numero < 20: #Si possono usare più condizioni nello stesso if\n",
        "    print(\"Il numero è compreso tra 10 e 20.\")\n",
        "else:\n",
        "    print(\"Il numero non è compreso tra 10 e 20.\")\n"
      ],
      "metadata": {
        "colab": {
          "base_uri": "https://localhost:8080/"
        },
        "id": "aN1HIaLhR55A",
        "outputId": "d6afbd4e-b577-434a-fc06-2b3ee93db1e3"
      },
      "execution_count": null,
      "outputs": [
        {
          "output_type": "stream",
          "name": "stdout",
          "text": [
            "Inserisci un numero: 32\n",
            "Il numero non è compreso tra 10 e 20.\n"
          ]
        }
      ]
    },
    {
      "cell_type": "markdown",
      "source": [
        "Scrivi un programma che chieda all'utente di inserire l'età e se possiede o meno una patente (sì/no).  \n",
        "Se l'utente ha meno di 18 anni, stampa \"Non puoi guidare\". Se ha 18 anni o più e possiede una patente, stampa \"Puoi guidare\". Altrimenti, stampa \"Hai bisogno di una patente per guidare\"."
      ],
      "metadata": {
        "id": "4d47DIZqigFK"
      }
    },
    {
      "cell_type": "code",
      "source": [
        "eta = int(input(\"Quanti anni hai? \"))\n",
        "patente = input(\"Possiedi una patente (sì/no)? \")\n",
        "\n",
        "if eta < 18:\n",
        "    print(\"Non puoi guidare.\")\n",
        "else:\n",
        "    if patente.lower() == \"sì\":\n",
        "        print(\"Puoi guidare.\")\n",
        "    else:\n",
        "        print(\"Hai bisogno di una patente per guidare.\")\n"
      ],
      "metadata": {
        "colab": {
          "base_uri": "https://localhost:8080/"
        },
        "id": "xmVXZpkER57b",
        "outputId": "41d88b9d-d6a6-4c78-87f8-11572e012bc3"
      },
      "execution_count": null,
      "outputs": [
        {
          "output_type": "stream",
          "name": "stdout",
          "text": [
            "Quanti anni hai? 25\n",
            "Possiedi una patente (sì/no)? no\n",
            "Hai bisogno di una patente per guidare.\n"
          ]
        }
      ]
    },
    {
      "cell_type": "markdown",
      "source": [
        "## Testa le tue capacità:\n",
        "*Soluzioni a fondo pagina*"
      ],
      "metadata": {
        "id": "WtS-oRKegebc"
      }
    },
    {
      "cell_type": "markdown",
      "source": [
        "### Esercizio 4\n",
        "Chiedere all'utente di inserire un anno. Controlla se l'anno inserito è bisestile oppure no.  \n",
        "Suggerimento: un anno bisestile è esattamente divisibile per 4, ad eccezione degli anni di fine secolo che devono essere divisibili per 400.  \n",
        "Ciò significa che l'anno 2000 era un anno bisestile sebbene il 1900 non lo fosse."
      ],
      "metadata": {
        "id": "SJ1Yuzfvctuj"
      }
    },
    {
      "cell_type": "code",
      "source": [],
      "metadata": {
        "id": "uPaHVeCKhIk4"
      },
      "execution_count": null,
      "outputs": []
    },
    {
      "cell_type": "markdown",
      "source": [
        "## Soluzioni"
      ],
      "metadata": {
        "id": "MR3T4RFkdQnl"
      }
    },
    {
      "cell_type": "markdown",
      "source": [
        "### Esercizio 1\n",
        "Scrivere un programma che chieda all'utente la sua età e stampi se è minorenne (sotto i 18 anni) o adulto."
      ],
      "metadata": {
        "id": "9mmPf4muc4bc"
      }
    },
    {
      "cell_type": "code",
      "source": [
        "età = int(input(\"Quanti anni hai? \"))\n",
        "\n",
        "if età < 18:\n",
        "    print(\"Sei minorenne.\")\n",
        "else:\n",
        "    print(\"Sei adulto.\")\n"
      ],
      "metadata": {
        "colab": {
          "base_uri": "https://localhost:8080/"
        },
        "id": "Gc9cDQLtdTOU",
        "outputId": "db8cde19-087d-458a-c981-e6deabda7e37"
      },
      "execution_count": null,
      "outputs": [
        {
          "output_type": "stream",
          "name": "stdout",
          "text": [
            "Quanti anni hai? 25\n",
            "Sei adulto.\n"
          ]
        }
      ]
    },
    {
      "cell_type": "markdown",
      "source": [
        "### Esercizio 2\n",
        "Chiedi all'utente di inserire due numeri. Stampa il numero maggiore oppure se sono uguali."
      ],
      "metadata": {
        "id": "eMgwdI9kc6k6"
      }
    },
    {
      "cell_type": "code",
      "source": [
        "numero1 = int(input(\"Inserisci il primo numero: \"))\n",
        "numero2 = int(input(\"Inserisci il secondo numero: \"))\n",
        "\n",
        "if numero1 > numero2:\n",
        "    print(f\"{numero1} è più grande di {numero2}.\")\n",
        "elif numero1 < numero2:\n",
        "    print(f\"{numero2} è più grande di {numero1}.\")\n",
        "else:\n",
        "    print(\"I due numeri sono uguali.\")\n"
      ],
      "metadata": {
        "colab": {
          "base_uri": "https://localhost:8080/"
        },
        "id": "XRW2jug4dTi4",
        "outputId": "a887468b-df6a-4d9d-d233-f4a7ab30737a"
      },
      "execution_count": null,
      "outputs": [
        {
          "output_type": "stream",
          "name": "stdout",
          "text": [
            "Inserisci il primo numero: 42\n",
            "Inserisci il secondo numero: 69\n",
            "69 è più grande di 42.\n"
          ]
        }
      ]
    },
    {
      "cell_type": "markdown",
      "source": [
        "### Esercizio 3\n",
        "Chiedere all'utente di inserire un numero. Stampa se il numero è pari o dispari."
      ],
      "metadata": {
        "id": "ZaenCwBdc7N1"
      }
    },
    {
      "cell_type": "code",
      "source": [
        "numero = int(input(\"Inserisci un numero: \"))\n",
        "\n",
        "if numero % 2 == 0:\n",
        "    print(f\"{numero} è un numero pari.\")\n",
        "else:\n",
        "    print(f\"{numero} è un numero dispari.\")"
      ],
      "metadata": {
        "colab": {
          "base_uri": "https://localhost:8080/"
        },
        "id": "Kus8LLdTdTlX",
        "outputId": "9ce824b0-7218-4540-ef14-66ff6cf9d8e6"
      },
      "execution_count": null,
      "outputs": [
        {
          "output_type": "stream",
          "name": "stdout",
          "text": [
            "Inserisci un numero: 17\n",
            "17 è un numero dispari.\n"
          ]
        }
      ]
    },
    {
      "cell_type": "markdown",
      "source": [
        "### Esercizio 4\n",
        "Chiedere all'utente di inserire un anno. Controlla se l'anno inserito è bisestile oppure no.  "
      ],
      "metadata": {
        "id": "tSfRdpitc7vk"
      }
    },
    {
      "cell_type": "code",
      "source": [
        "anno = int(input(\"Inserisci un anno: \"))\n",
        "\n",
        "if (anno % 4 == 0 and anno % 100 != 0) or anno % 400 == 0:\n",
        "    print(f\"{anno} è un anno bisestile.\")\n",
        "else:\n",
        "    print(f\"{anno} non è un anno bisestile.\")"
      ],
      "metadata": {
        "colab": {
          "base_uri": "https://localhost:8080/"
        },
        "id": "kzeHEA1udTnn",
        "outputId": "d3098ada-eb6c-4155-e270-9325421da9b4"
      },
      "execution_count": null,
      "outputs": [
        {
          "output_type": "stream",
          "name": "stdout",
          "text": [
            "Inserisci un anno: 2428\n",
            "2428 è un anno bisestile.\n"
          ]
        }
      ]
    }
  ]
}