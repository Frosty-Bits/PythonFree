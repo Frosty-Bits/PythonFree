{
  "nbformat": 4,
  "nbformat_minor": 0,
  "metadata": {
    "colab": {
      "provenance": [],
      "mount_file_id": "1rgIuN1xAD5EwmfdKt9x_ZOT0OfmutZ3T",
      "authorship_tag": "ABX9TyNWIUu3UfiMXycHLotCZNnH",
      "include_colab_link": true
    },
    "kernelspec": {
      "name": "python3",
      "display_name": "Python 3"
    },
    "language_info": {
      "name": "python"
    }
  },
  "cells": [
    {
      "cell_type": "markdown",
      "metadata": {
        "id": "view-in-github",
        "colab_type": "text"
      },
      "source": [
        "<a href=\"https://colab.research.google.com/github/Frosty-Bits/PythonFree/blob/main/Python_Lesson_9_Solutions.ipynb\" target=\"_parent\"><img src=\"https://colab.research.google.com/assets/colab-badge.svg\" alt=\"Open In Colab\"/></a>"
      ]
    },
    {
      "cell_type": "markdown",
      "source": [
        "# Esercizi\n",
        "Vediamo ora un po' di esercizi su loops e debug.  \n",
        "Ricorda che se dopo qualche minuto non riesci a trovare una soluzione, puoi cercare online suggerimenti (o direttamente le soluzioni nella prossima lezione)"
      ],
      "metadata": {
        "id": "oGwJovFUBYcX"
      }
    },
    {
      "cell_type": "markdown",
      "source": [
        "### 1.Conta i numeri pari  \n",
        "Scrivi un programma che usa un for loop per contare quanti numeri pari ci sono nella seguente lista:"
      ],
      "metadata": {
        "id": "b_x0GDedBk04"
      }
    },
    {
      "cell_type": "code",
      "source": [
        "numeri = [425, 135, 484, 259, 123, 194, 108, 5, 153, 463, 243, 469, 307, 298, 474, 43, 41, 135, 161, 13, 335, 295, 52, 282, 107, 259, 100, 265, 197, 69]\n",
        "\n",
        "numeri_pari = 0\n",
        "for numero in numeri:\n",
        "    if numero % 2 == 0:\n",
        "        numeri_pari += 1\n",
        "\n",
        "print(numeri_pari)"
      ],
      "metadata": {
        "id": "EIOWc7I6BmKU",
        "colab": {
          "base_uri": "https://localhost:8080/"
        },
        "outputId": "3a32ebf7-cd21-4c59-8779-d154ee211c0d"
      },
      "execution_count": 7,
      "outputs": [
        {
          "output_type": "stream",
          "name": "stdout",
          "text": [
            "8\n"
          ]
        }
      ]
    },
    {
      "cell_type": "markdown",
      "source": [
        "### 2.Tabellina\n",
        "Usa un for loop per stampare la tabellina di un numero dato dall'utente, da 1 a 10."
      ],
      "metadata": {
        "id": "6DcuatbPBk9u"
      }
    },
    {
      "cell_type": "code",
      "source": [
        "numero = int(input())\n",
        "\n",
        "for i in range(1, 11):\n",
        "    print(f\"{numero} x {i} = {numero * i}\")"
      ],
      "metadata": {
        "id": "qcJvyIEZBdmz",
        "colab": {
          "base_uri": "https://localhost:8080/"
        },
        "outputId": "11e1fac6-fea1-4305-b030-e7e2359dfd97"
      },
      "execution_count": 8,
      "outputs": [
        {
          "output_type": "stream",
          "name": "stdout",
          "text": [
            "12\n",
            "12 x 1 = 12\n",
            "12 x 2 = 24\n",
            "12 x 3 = 36\n",
            "12 x 4 = 48\n",
            "12 x 5 = 60\n",
            "12 x 6 = 72\n",
            "12 x 7 = 84\n",
            "12 x 8 = 96\n",
            "12 x 9 = 108\n",
            "12 x 10 = 120\n"
          ]
        }
      ]
    },
    {
      "cell_type": "markdown",
      "source": [
        "### 3.Somma degli elementi di una lista\n",
        "Utilizza un for loop per calcolare la somma di tutti gli elementi della seguente lista:"
      ],
      "metadata": {
        "id": "SEmCdfcfBnBm"
      }
    },
    {
      "cell_type": "code",
      "source": [
        "numeri_da_sommare = [463, 243, 469, 307, 298, 474, 43, 41, 135, 161, 13, 335]\n",
        "\n",
        "somma = 0\n",
        "for numero in numeri_da_sommare:\n",
        "    somma += numero\n",
        "\n",
        "print(somma)"
      ],
      "metadata": {
        "id": "Ev86TumUBnGZ",
        "colab": {
          "base_uri": "https://localhost:8080/"
        },
        "outputId": "fbc97a92-7b6a-4033-b48a-8602e092fde6"
      },
      "execution_count": 9,
      "outputs": [
        {
          "output_type": "stream",
          "name": "stdout",
          "text": [
            "2982\n"
          ]
        }
      ]
    },
    {
      "cell_type": "markdown",
      "source": [
        "### 4.Indovina il Numero\n",
        "Crea un gioco in cui l'utente deve indovinare un numero casuale generato dal computer. Usa un while loop per permettere all'utente di continuare a indovinare fino a quando non indovina il numero."
      ],
      "metadata": {
        "id": "atcjiQQRBnLC"
      }
    },
    {
      "cell_type": "code",
      "source": [
        "# suggerimento: il seguente codice fa scegliere al computer un numero casuale tra 1 e 10 e lo salva nella variabile numero_segreto\n",
        "import random\n",
        "numero_segreto = random.randint(1, 10)\n",
        "\n",
        "#continua a scrivere il codice da qui\n",
        "print(\"Benvenuto al gioco 'Indovina il Numero'!\")\n",
        "print(\"Ho pensato un numero tra 1 e 10. Prova ad indovinarlo!\")\n",
        "\n",
        "tentativo = -1\n",
        "# Ciclo di indovinamento\n",
        "while tentativo != numero_segreto:\n",
        "    tentativo = int(input(\"Inserisci il tuo tentativo: \"))\n",
        "    if tentativo == numero_segreto:\n",
        "        print(\"Complimenti! Hai indovinato il numero!\")\n",
        "    else:\n",
        "        print(\"Sbagliato. Prova ancora.\")"
      ],
      "metadata": {
        "id": "Pst2Ww_pBnP4",
        "colab": {
          "base_uri": "https://localhost:8080/"
        },
        "outputId": "ba8afe74-6d6d-4208-b57b-ea0e523e5fc6"
      },
      "execution_count": 10,
      "outputs": [
        {
          "output_type": "stream",
          "name": "stdout",
          "text": [
            "Benvenuto al gioco 'Indovina il Numero'!\n",
            "Ho pensato un numero tra 1 e 10. Prova ad indovinarlo!\n",
            "Inserisci il tuo tentativo: 6\n",
            "Complimenti! Hai indovinato il numero!\n"
          ]
        }
      ]
    },
    {
      "cell_type": "markdown",
      "source": [
        "### 5.Calcolatrice di potenze\n",
        "Scrivi un programma che chiede all'utente una base e un esponente, e usa un while loop per calcolare la potenza senza usare l'operatore ** e stampando i risultati intermedi."
      ],
      "metadata": {
        "id": "qYClhTxLDL9a"
      }
    },
    {
      "cell_type": "code",
      "source": [
        "base = int(input(\"Inserisci la base: \"))\n",
        "esponente = int(input(\"Inserisci l'esponente: \"))\n",
        "\n",
        "potenza = 1\n",
        "i = 0\n",
        "\n",
        "while i < esponente:\n",
        "    potenza *= base\n",
        "    i += 1\n",
        "    print(f\"Risultato intermedio dopo {i} iterazioni: {potenza}\")\n",
        "\n",
        "print(f\"La potenza finale di {base} elevato a {esponente} è: {potenza}\")"
      ],
      "metadata": {
        "id": "8Np_k2-SDMCd",
        "colab": {
          "base_uri": "https://localhost:8080/"
        },
        "outputId": "4ae229a4-4233-4ced-85fe-2030d9dcfa59"
      },
      "execution_count": 11,
      "outputs": [
        {
          "output_type": "stream",
          "name": "stdout",
          "text": [
            "Inserisci la base: 2\n",
            "Inserisci l'esponente: 10\n",
            "Risultato intermedio dopo 1 iterazioni: 2\n",
            "Risultato intermedio dopo 2 iterazioni: 4\n",
            "Risultato intermedio dopo 3 iterazioni: 8\n",
            "Risultato intermedio dopo 4 iterazioni: 16\n",
            "Risultato intermedio dopo 5 iterazioni: 32\n",
            "Risultato intermedio dopo 6 iterazioni: 64\n",
            "Risultato intermedio dopo 7 iterazioni: 128\n",
            "Risultato intermedio dopo 8 iterazioni: 256\n",
            "Risultato intermedio dopo 9 iterazioni: 512\n",
            "Risultato intermedio dopo 10 iterazioni: 1024\n",
            "La potenza finale di 2 elevato a 10 è: 1024\n"
          ]
        }
      ]
    },
    {
      "cell_type": "markdown",
      "source": [
        "### 6.Gestione errori su liste\n",
        "Scrivi un programma che data la seguente lista di numeri, chieda all'utente quale indice vuole printare, gestendo l'eccezione in cui l'utente sceglie un indice non disponibile nella lista."
      ],
      "metadata": {
        "id": "pI-e0_YzDMGw"
      }
    },
    {
      "cell_type": "code",
      "source": [
        "numeri = [240, 74, 222, 122, 182, 136, 132, 191, 166, 247, 77, 80, 197, 228, 139, 137, 221, 60, 197, 41]\n",
        "\n",
        "indice = int(input(\"Inserisci l'indice del numero che vuoi visualizzare: \"))\n",
        "\n",
        "try:\n",
        "    print(f\"Numero all'indice {indice}: {numeri[indice]}\")\n",
        "except IndexError:\n",
        "    # Gestisce l'eccezione se l'indice non è nella lista\n",
        "    print(f\"Errore: non esiste un elemento all'indice {indice} nella lista.\")"
      ],
      "metadata": {
        "id": "soSjrPrbDMLO",
        "colab": {
          "base_uri": "https://localhost:8080/"
        },
        "outputId": "f0fc370e-d653-4430-f9a3-e13a6525892a"
      },
      "execution_count": 12,
      "outputs": [
        {
          "output_type": "stream",
          "name": "stdout",
          "text": [
            "Inserisci l'indice del numero che vuoi visualizzare: 45\n",
            "Errore: non esiste un elemento all'indice 45 nella lista.\n"
          ]
        }
      ]
    },
    {
      "cell_type": "markdown",
      "source": [
        "### 7.Conteggio con eccezioni\n",
        "Usa un for loop per scorrere la seguente lista di numeri e conta quanti sono divisibili per un numero fornito dall'utente (divisibile significa che la divisione tra il numero della lista e il numero fornito dall'utente non restituisce resto), gestendo l'eccezione se il valore inserito non è un numero."
      ],
      "metadata": {
        "id": "oGy5Fw3lDMQA"
      }
    },
    {
      "cell_type": "code",
      "source": [
        "numeri = [240, 74, 222, 122, 182, 136, 132, 191, 166, 247, 77, 80, 197, 228, 139, 137, 221, 60, 197, 41]\n",
        "\n",
        "while True:\n",
        "    try:\n",
        "        divisore = int(input(\"Inserisci un numero per la divisione: \"))\n",
        "        break  # Esce dal ciclo se l'input è valido\n",
        "    except ValueError:\n",
        "        # Gestisce l'errore se l'input non è un numero\n",
        "        print(\"Errore: non hai inserito un numero valido. Riprova.\")\n",
        "\n",
        "# Conteggio dei numeri divisibili\n",
        "conteggio_divisibili = 0\n",
        "for numero in numeri:\n",
        "    if numero % divisore == 0:\n",
        "        conteggio_divisibili += 1\n",
        "\n",
        "conteggio_divisibili"
      ],
      "metadata": {
        "id": "1tB6QszMDMUb",
        "colab": {
          "base_uri": "https://localhost:8080/"
        },
        "outputId": "af7b035b-f809-4bcd-d218-338dfe2ed5ee"
      },
      "execution_count": 13,
      "outputs": [
        {
          "name": "stdout",
          "output_type": "stream",
          "text": [
            "Inserisci un numero per la divisione: 7\n"
          ]
        },
        {
          "output_type": "execute_result",
          "data": {
            "text/plain": [
              "2"
            ]
          },
          "metadata": {},
          "execution_count": 13
        }
      ]
    },
    {
      "cell_type": "markdown",
      "source": [
        "### 8.Lista con controllo errori\n",
        "Implementa un programma che esegua le seguenti operazioni:\n",
        "1. Crea una lista vuota\n",
        "2. Crea un while loop che si ferma quando la lista raggiunge 10 numeri e che ad ogni iterazione chiede all'utente di inserire un numero.\n",
        "3. Gestisci le ecezzioni nel caso il valore inserito non sia valido"
      ],
      "metadata": {
        "id": "QFBhGFyWDMZA"
      }
    },
    {
      "cell_type": "code",
      "source": [
        "lista_numeri = []\n",
        "\n",
        "while len(lista_numeri) < 10:\n",
        "    try:\n",
        "        numero = int(input(\"Inserisci un numero: \"))\n",
        "        lista_numeri.append(numero)\n",
        "    except ValueError:\n",
        "        # Gestisce l'eccezione se l'input non è un numero\n",
        "        print(\"Errore: devi inserire un numero valido.\")\n",
        "\n",
        "print(\"Lista dei numeri inseriti:\", lista_numeri)\n"
      ],
      "metadata": {
        "id": "RDdWfO0qDMdY",
        "colab": {
          "base_uri": "https://localhost:8080/"
        },
        "outputId": "4b134af7-ffa8-42e1-ab94-8c972fdd6a8e"
      },
      "execution_count": 14,
      "outputs": [
        {
          "output_type": "stream",
          "name": "stdout",
          "text": [
            "Inserisci un numero: 1\n",
            "Inserisci un numero: 2\n",
            "Inserisci un numero: 3\n",
            "Inserisci un numero: 4\n",
            "Inserisci un numero: 5\n",
            "Inserisci un numero: sei\n",
            "Errore: devi inserire un numero valido.\n",
            "Inserisci un numero: [6]\n",
            "Errore: devi inserire un numero valido.\n",
            "Inserisci un numero: 6\n",
            "Inserisci un numero: 7\n",
            "Inserisci un numero: 3143u8\n",
            "Errore: devi inserire un numero valido.\n",
            "Inserisci un numero: 8\n",
            "Inserisci un numero: 9\n",
            "Inserisci un numero: 10\n",
            "Lista dei numeri inseriti: [1, 2, 3, 4, 5, 6, 7, 8, 9, 10]\n"
          ]
        }
      ]
    }
  ]
}