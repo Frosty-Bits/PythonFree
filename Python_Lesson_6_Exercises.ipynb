{
  "nbformat": 4,
  "nbformat_minor": 0,
  "metadata": {
    "colab": {
      "provenance": [],
      "authorship_tag": "ABX9TyMpuzMuxsi1iQwbj6HnYhA+",
      "include_colab_link": true
    },
    "kernelspec": {
      "name": "python3",
      "display_name": "Python 3"
    },
    "language_info": {
      "name": "python"
    }
  },
  "cells": [
    {
      "cell_type": "markdown",
      "metadata": {
        "id": "view-in-github",
        "colab_type": "text"
      },
      "source": [
        "<a href=\"https://colab.research.google.com/github/Frosty-Bits/PythonFree/blob/main/Python_Lesson_6_Exercises.ipynb\" target=\"_parent\"><img src=\"https://colab.research.google.com/assets/colab-badge.svg\" alt=\"Open In Colab\"/></a>"
      ]
    },
    {
      "cell_type": "markdown",
      "source": [
        "# Esercitazione\n",
        "Risolvi i seguenti problemi.\n",
        "La difficoltà è alta, ma non ti proccupare. Prova a darti del tempo (20 minuti) per ciascun esercizio e usa le informazioni che hai a disposizione nel testo.\n",
        "Se non riesci dopo 10-15 minuti, puoi provare a cercare risorse online o guardare le precedenti lezioni.\n"
      ],
      "metadata": {
        "id": "bOOPbOYaVSvi"
      }
    },
    {
      "cell_type": "markdown",
      "source": [
        "### Esercizio 1\n",
        "#### Settore bancario: calcolo dell'interesse composto\n",
        "\n",
        "Chiedi all'utente un deposito iniziale, un tasso di interesse annuale (in percentuale) e il numero di anni che prevede di lasciare riposare il denaro.\n",
        "Calcola l'importo finale utilizzando la formula dell'interesse composto:  \n",
        "A = P \\* (1 + r/n) \\*\\* (n\\*t)  \n",
        "Dove:  \n",
        "**A** è la quantità di denaro accumulata dopo n anni, compresi gli interessi.  \n",
        "**P** è l'importo del capitale (deposito iniziale).  \n",
        "**r** è il tasso di interesse annuo (in forma decimale, quindi il 5% sarebbe 0,05).  \n",
        "**n** è il numero di volte in cui l'interesse viene capitalizzato all'anno.  \n",
        "**t** è il numero di anni.\n",
        "\n",
        "Stampa l'importo finale."
      ],
      "metadata": {
        "id": "F7Ax6dzWqkEB"
      }
    },
    {
      "cell_type": "code",
      "source": [],
      "metadata": {
        "id": "KXWGXJHar3sg"
      },
      "execution_count": null,
      "outputs": []
    },
    {
      "cell_type": "code",
      "source": [],
      "metadata": {
        "id": "JRHYGT8tr3wI"
      },
      "execution_count": null,
      "outputs": []
    },
    {
      "cell_type": "markdown",
      "source": [
        "### Esercizio 2\n",
        "#### Trasporti: il miglior metodo di trasporto\n",
        "Chiedi all'utente la distanza che sta percorrendo, se piove (sì/no) e se possiede un'auto (sì/no).  \n",
        "In base all'input, suggerire un metodo di trasporto:  \n",
        "Se piove e hanno un'auto, suggerisci di guidare.  \n",
        "Se non piove e la distanza è inferiore a 1 km, suggeriamo di camminare.  \n",
        "Se piove e la distanza è inferiore a 1 km, suggeriamo di prendere l'ombrello e camminare.  \n",
        "Altrimenti suggerisci di andare in bicicletta se non piove o con i mezzi pubblici se piove."
      ],
      "metadata": {
        "id": "3Ri9bIsXr38G"
      }
    },
    {
      "cell_type": "code",
      "source": [],
      "metadata": {
        "id": "XhMAjXtu1nkg"
      },
      "execution_count": null,
      "outputs": []
    },
    {
      "cell_type": "code",
      "source": [],
      "metadata": {
        "id": "xq-msnac1nml"
      },
      "execution_count": null,
      "outputs": []
    },
    {
      "cell_type": "markdown",
      "source": [
        "### Esercizio 3\n",
        "#### Ecologia: calcolo dell'impronta di carbonio\n",
        "Porre all'utente varie domande come:  \n",
        "- Quanti chilometri percorri a settimana in macchina?  \n",
        "- Quante ore voli all'anno?  \n",
        "- Quanti pasti di carne consumi a settimana?  \n",
        "\n",
        "Assegna un valore di CO2 per ciascuna attività e calcola un'impronta di carbonio annuale stimata in base al loro input.\n",
        "\n",
        "Ecco alcuni valori di riferimento:  \n",
        "- Guidare: 0.2 kg di CO2 per chilometro  \n",
        "- Volare: 115g di CO2 per chilometro (velcità media di un aereo: 780 km/h)\n",
        "- Pasto di carne: 6 kg di CO2 per pasto (principalmente manzo)\n",
        "\n",
        "Infine, avendo l'informazione di quanto CO2 produce l'utente, specificare quanto tempo richiede ad un albero trasformala in ossigeno in base al tipo di albero.\n",
        "\n",
        "Ecco alcuni esempi:\n",
        "- Pini: assorbono circa 22 kg di CO2 all'anno.\n",
        "- Querce: assorbono circa 20 kg di CO2 all'anno.\n",
        "- Abeti: assorbono circa 13 kg di CO2 all'anno.\n"
      ],
      "metadata": {
        "id": "ecztQnoF1ns_"
      }
    },
    {
      "cell_type": "code",
      "source": [],
      "metadata": {
        "id": "tCR-rF9k6k1Y"
      },
      "execution_count": null,
      "outputs": []
    },
    {
      "cell_type": "code",
      "source": [],
      "metadata": {
        "id": "uMGJTXBv6tGK"
      },
      "execution_count": null,
      "outputs": []
    }
  ]
}