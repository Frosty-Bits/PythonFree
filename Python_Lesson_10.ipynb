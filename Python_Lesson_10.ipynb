{
  "nbformat": 4,
  "nbformat_minor": 0,
  "metadata": {
    "colab": {
      "provenance": [],
      "authorship_tag": "ABX9TyNzbTKQ1EptYwbS4ba2wV+F",
      "include_colab_link": true
    },
    "kernelspec": {
      "name": "python3",
      "display_name": "Python 3"
    },
    "language_info": {
      "name": "python"
    }
  },
  "cells": [
    {
      "cell_type": "markdown",
      "metadata": {
        "id": "view-in-github",
        "colab_type": "text"
      },
      "source": [
        "<a href=\"https://colab.research.google.com/github/Frosty-Bits/PythonFree/blob/main/Python_Lesson_10.ipynb\" target=\"_parent\"><img src=\"https://colab.research.google.com/assets/colab-badge.svg\" alt=\"Open In Colab\"/></a>"
      ]
    },
    {
      "cell_type": "markdown",
      "source": [
        "## Funzioni\n",
        "Una funzione in Python è un blocco di codice organizzato e riutilizzabile.  \n",
        "Le funzioni aiutano a segmentare grandi programmi in piccoli blocchi gestibili che offrono i seguenti vantaggi:  \n",
        "\n",
        "**Riutilizzabilità del Codice**  \n",
        "Una volta definita, una funzione può essere usata più volte in diverse parti del programma, riducendo la ridondanza del codice.  \n",
        "**Semplicità**  \n",
        "Le funzioni aiutano a rendere il codice più chiaro e più facile da seguire. Invece di avere un lungo script, hai segmenti più piccoli e gestibili.  \n",
        "**Manutenzione Facile**  \n",
        "Se c'è bisogno di modificare un'azione specifica che è implementata in una funzione, puoi semplicemente modificare quella funzione. Questo è molto più semplice rispetto alla modifica dello stesso codice distribuito in diverse parti del programma.  \n",
        "**Astrazione**  \n",
        "Le funzioni nascondono i dettagli dell'implementazione. Quando usi una funzione, non hai bisogno di sapere come funziona internamente; devi solo conoscere gli input necessari e il tipo di output previsto."
      ],
      "metadata": {
        "id": "uB4sNyfHcQld"
      }
    },
    {
      "cell_type": "markdown",
      "source": [
        "Una funzione è definita usando la parola chiave def, seguita dal nome della funzione e una coppia di parentesi.\n",
        "\n",
        "\n",
        "```python\n",
        "def funzione():\n",
        "  #qui inizia la funzione\n",
        "```\n",
        "\n",
        "é importante scegliere nomi significativi per le funzioni, che descrivano ciò che la funzione fa mentre l'indentazione serve per definire il blocco di codice che verrà eseguito richiamando la funzione.  \n",
        "Vediamo un esempio:\n",
        "\n"
      ],
      "metadata": {
        "id": "Dtr8vEA2DFBf"
      }
    },
    {
      "cell_type": "code",
      "source": [
        "def saluta():\n",
        "    print(\"Ciao!\")\n",
        "    print(\"Benvenuto al corso di Python!\")"
      ],
      "metadata": {
        "id": "BFIbFkCFEHeh"
      },
      "execution_count": 1,
      "outputs": []
    },
    {
      "cell_type": "markdown",
      "source": [
        "per richiamare la funzione basta semplicemente richiamare il suo nome seguito dalle parentesi tonde:"
      ],
      "metadata": {
        "id": "8lORlnpvFDcH"
      }
    },
    {
      "cell_type": "code",
      "source": [
        "saluta()"
      ],
      "metadata": {
        "colab": {
          "base_uri": "https://localhost:8080/"
        },
        "id": "rI-mKY2ZFKlE",
        "outputId": "b648621c-6298-4869-ff60-2a1e33a1541f"
      },
      "execution_count": 2,
      "outputs": [
        {
          "output_type": "stream",
          "name": "stdout",
          "text": [
            "Ciao!\n",
            "Benvenuto al corso di Python!\n"
          ]
        }
      ]
    },
    {
      "cell_type": "markdown",
      "source": [
        "è anche possibile assegnare dei parametri alla funzione, in modo da permettere codici più articolati con input e output diversi.  \n",
        "Proviamo a rendere più difficile la funzione precedente aggiungendo come parametro il nome di uno studente. Per farlo basta creare una variabile fittizia da inserire nelle parentesi tonde subito dopo il nome della funzione:"
      ],
      "metadata": {
        "id": "_pZQ2pvGFW-E"
      }
    },
    {
      "cell_type": "code",
      "source": [
        "def saluta_studente(nome):\n",
        "    print(f\"Ciao {nome}!\")\n",
        "    print(\"Benvenuto/a al corso di Python!\")"
      ],
      "metadata": {
        "id": "cUGzUQmTFoRe"
      },
      "execution_count": 3,
      "outputs": []
    },
    {
      "cell_type": "code",
      "source": [
        "saluta_studente(\"Sara\")"
      ],
      "metadata": {
        "colab": {
          "base_uri": "https://localhost:8080/"
        },
        "id": "7sf-yyQ4GR1e",
        "outputId": "03c44175-f719-4844-c503-b11f529dc184"
      },
      "execution_count": 4,
      "outputs": [
        {
          "output_type": "stream",
          "name": "stdout",
          "text": [
            "Ciao Sara!\n",
            "Benvenuto/a al corso di Python!\n"
          ]
        }
      ]
    },
    {
      "cell_type": "markdown",
      "source": [
        "è anche possibile assegnare un valore di default nel caso nessun nome venga usato quando si richiama la funzione:"
      ],
      "metadata": {
        "id": "c8ZhkjL2F214"
      }
    },
    {
      "cell_type": "code",
      "source": [
        "def saluta_generale(nome = 'Sconosciuto'):\n",
        "    print(f\"Ciao {nome}!\")\n",
        "    print(\"Benvenuto/a al corso di Python!\")"
      ],
      "metadata": {
        "id": "QAILYg3-Gg-v"
      },
      "execution_count": 5,
      "outputs": []
    },
    {
      "cell_type": "code",
      "source": [
        "saluta_generale(\"Matteo\")"
      ],
      "metadata": {
        "colab": {
          "base_uri": "https://localhost:8080/"
        },
        "id": "kuiFdazuGhDO",
        "outputId": "b2012acb-eb1b-408e-86b8-d268e2d109b6"
      },
      "execution_count": 6,
      "outputs": [
        {
          "output_type": "stream",
          "name": "stdout",
          "text": [
            "Ciao Matteo!\n",
            "Benvenuto/a al corso di Python!\n"
          ]
        }
      ]
    },
    {
      "cell_type": "code",
      "source": [
        "saluta_generale()"
      ],
      "metadata": {
        "colab": {
          "base_uri": "https://localhost:8080/"
        },
        "id": "xuFvYCtaGo2r",
        "outputId": "ac32fccc-2b36-4df5-f002-d97399f84e08"
      },
      "execution_count": 7,
      "outputs": [
        {
          "output_type": "stream",
          "name": "stdout",
          "text": [
            "Ciao Sconosciuto!\n",
            "Benvenuto/a al corso di Python!\n"
          ]
        }
      ]
    },
    {
      "cell_type": "markdown",
      "source": [
        "Vediamo un altra funzione che abbia come input 2 variabili e restituisca la loro somma:"
      ],
      "metadata": {
        "id": "3yhKDONOHBrh"
      }
    },
    {
      "cell_type": "code",
      "source": [
        "def somma(a, b):\n",
        "  print(a + b)"
      ],
      "metadata": {
        "id": "aBhbw6koHKg1"
      },
      "execution_count": 8,
      "outputs": []
    },
    {
      "cell_type": "code",
      "source": [
        "somma(2, 8)"
      ],
      "metadata": {
        "colab": {
          "base_uri": "https://localhost:8080/"
        },
        "id": "B8hcq18-HMNg",
        "outputId": "aa2c9f3b-e742-40f5-afa1-9bee8806a284"
      },
      "execution_count": 9,
      "outputs": [
        {
          "output_type": "stream",
          "name": "stdout",
          "text": [
            "10\n"
          ]
        }
      ]
    },
    {
      "cell_type": "markdown",
      "source": [
        "Possiamo anche migliorare la nostra funzione aggiungendo un commento che spieghi il suo funzionamento. In questo caso è già molto chiaro, ma in futuro potresti trovarti con delle funzioni molto complesse e avere un'idea di cosa fa la funzione è molto utile."
      ],
      "metadata": {
        "id": "EMLDhKGjHXIM"
      }
    },
    {
      "cell_type": "code",
      "source": [
        "def somma(a, b):\n",
        "  '''\n",
        "  La funzione prende in input due parametri: a, b\n",
        "  e ne calcola la somma che poi stampa a schermo.\n",
        "  '''\n",
        "  print(a + b)"
      ],
      "metadata": {
        "id": "IjQnf9HMHTnw"
      },
      "execution_count": 10,
      "outputs": []
    },
    {
      "cell_type": "markdown",
      "source": [
        "### help()\n",
        "Per sapere cosa fa una funzione è possibile usare il comando help() che restituisce le informazioni che trova in merito alla funzione specificata nelle parentesi.  \n",
        "help() può essere usato con qualsiasi funzione, anche se non è stata scritta da noi. Vediamo degli esempi:"
      ],
      "metadata": {
        "id": "NW-TBogiIMMJ"
      }
    },
    {
      "cell_type": "code",
      "source": [
        "help(somma)"
      ],
      "metadata": {
        "colab": {
          "base_uri": "https://localhost:8080/"
        },
        "id": "wC_MfYTfH7Wq",
        "outputId": "7e8f7083-9b03-4396-cd8f-ee5553646f8c"
      },
      "execution_count": 11,
      "outputs": [
        {
          "output_type": "stream",
          "name": "stdout",
          "text": [
            "Help on function somma in module __main__:\n",
            "\n",
            "somma(a, b)\n",
            "    La funzione prende in input due parametri: a, b\n",
            "    e ne calcola la somma che poi stampa a schermo.\n",
            "\n"
          ]
        }
      ]
    },
    {
      "cell_type": "code",
      "source": [
        "help(len)"
      ],
      "metadata": {
        "colab": {
          "base_uri": "https://localhost:8080/"
        },
        "id": "KEiEPb8bIEof",
        "outputId": "ecf585d3-4056-4959-8524-5252ce1c6e00"
      },
      "execution_count": 12,
      "outputs": [
        {
          "output_type": "stream",
          "name": "stdout",
          "text": [
            "Help on built-in function len in module builtins:\n",
            "\n",
            "len(obj, /)\n",
            "    Return the number of items in a container.\n",
            "\n"
          ]
        }
      ]
    },
    {
      "cell_type": "code",
      "source": [
        "help(str)"
      ],
      "metadata": {
        "colab": {
          "base_uri": "https://localhost:8080/"
        },
        "id": "qwB8xb3wIhTj",
        "outputId": "37b41abc-dbd1-4a27-c2ef-e5d1ae80a559"
      },
      "execution_count": 13,
      "outputs": [
        {
          "output_type": "stream",
          "name": "stdout",
          "text": [
            "Help on class str in module builtins:\n",
            "\n",
            "class str(object)\n",
            " |  str(object='') -> str\n",
            " |  str(bytes_or_buffer[, encoding[, errors]]) -> str\n",
            " |  \n",
            " |  Create a new string object from the given object. If encoding or\n",
            " |  errors is specified, then the object must expose a data buffer\n",
            " |  that will be decoded using the given encoding and error handler.\n",
            " |  Otherwise, returns the result of object.__str__() (if defined)\n",
            " |  or repr(object).\n",
            " |  encoding defaults to sys.getdefaultencoding().\n",
            " |  errors defaults to 'strict'.\n",
            " |  \n",
            " |  Methods defined here:\n",
            " |  \n",
            " |  __add__(self, value, /)\n",
            " |      Return self+value.\n",
            " |  \n",
            " |  __contains__(self, key, /)\n",
            " |      Return key in self.\n",
            " |  \n",
            " |  __eq__(self, value, /)\n",
            " |      Return self==value.\n",
            " |  \n",
            " |  __format__(self, format_spec, /)\n",
            " |      Return a formatted version of the string as described by format_spec.\n",
            " |  \n",
            " |  __ge__(self, value, /)\n",
            " |      Return self>=value.\n",
            " |  \n",
            " |  __getattribute__(self, name, /)\n",
            " |      Return getattr(self, name).\n",
            " |  \n",
            " |  __getitem__(self, key, /)\n",
            " |      Return self[key].\n",
            " |  \n",
            " |  __getnewargs__(...)\n",
            " |  \n",
            " |  __gt__(self, value, /)\n",
            " |      Return self>value.\n",
            " |  \n",
            " |  __hash__(self, /)\n",
            " |      Return hash(self).\n",
            " |  \n",
            " |  __iter__(self, /)\n",
            " |      Implement iter(self).\n",
            " |  \n",
            " |  __le__(self, value, /)\n",
            " |      Return self<=value.\n",
            " |  \n",
            " |  __len__(self, /)\n",
            " |      Return len(self).\n",
            " |  \n",
            " |  __lt__(self, value, /)\n",
            " |      Return self<value.\n",
            " |  \n",
            " |  __mod__(self, value, /)\n",
            " |      Return self%value.\n",
            " |  \n",
            " |  __mul__(self, value, /)\n",
            " |      Return self*value.\n",
            " |  \n",
            " |  __ne__(self, value, /)\n",
            " |      Return self!=value.\n",
            " |  \n",
            " |  __repr__(self, /)\n",
            " |      Return repr(self).\n",
            " |  \n",
            " |  __rmod__(self, value, /)\n",
            " |      Return value%self.\n",
            " |  \n",
            " |  __rmul__(self, value, /)\n",
            " |      Return value*self.\n",
            " |  \n",
            " |  __sizeof__(self, /)\n",
            " |      Return the size of the string in memory, in bytes.\n",
            " |  \n",
            " |  __str__(self, /)\n",
            " |      Return str(self).\n",
            " |  \n",
            " |  capitalize(self, /)\n",
            " |      Return a capitalized version of the string.\n",
            " |      \n",
            " |      More specifically, make the first character have upper case and the rest lower\n",
            " |      case.\n",
            " |  \n",
            " |  casefold(self, /)\n",
            " |      Return a version of the string suitable for caseless comparisons.\n",
            " |  \n",
            " |  center(self, width, fillchar=' ', /)\n",
            " |      Return a centered string of length width.\n",
            " |      \n",
            " |      Padding is done using the specified fill character (default is a space).\n",
            " |  \n",
            " |  count(...)\n",
            " |      S.count(sub[, start[, end]]) -> int\n",
            " |      \n",
            " |      Return the number of non-overlapping occurrences of substring sub in\n",
            " |      string S[start:end].  Optional arguments start and end are\n",
            " |      interpreted as in slice notation.\n",
            " |  \n",
            " |  encode(self, /, encoding='utf-8', errors='strict')\n",
            " |      Encode the string using the codec registered for encoding.\n",
            " |      \n",
            " |      encoding\n",
            " |        The encoding in which to encode the string.\n",
            " |      errors\n",
            " |        The error handling scheme to use for encoding errors.\n",
            " |        The default is 'strict' meaning that encoding errors raise a\n",
            " |        UnicodeEncodeError.  Other possible values are 'ignore', 'replace' and\n",
            " |        'xmlcharrefreplace' as well as any other name registered with\n",
            " |        codecs.register_error that can handle UnicodeEncodeErrors.\n",
            " |  \n",
            " |  endswith(...)\n",
            " |      S.endswith(suffix[, start[, end]]) -> bool\n",
            " |      \n",
            " |      Return True if S ends with the specified suffix, False otherwise.\n",
            " |      With optional start, test S beginning at that position.\n",
            " |      With optional end, stop comparing S at that position.\n",
            " |      suffix can also be a tuple of strings to try.\n",
            " |  \n",
            " |  expandtabs(self, /, tabsize=8)\n",
            " |      Return a copy where all tab characters are expanded using spaces.\n",
            " |      \n",
            " |      If tabsize is not given, a tab size of 8 characters is assumed.\n",
            " |  \n",
            " |  find(...)\n",
            " |      S.find(sub[, start[, end]]) -> int\n",
            " |      \n",
            " |      Return the lowest index in S where substring sub is found,\n",
            " |      such that sub is contained within S[start:end].  Optional\n",
            " |      arguments start and end are interpreted as in slice notation.\n",
            " |      \n",
            " |      Return -1 on failure.\n",
            " |  \n",
            " |  format(...)\n",
            " |      S.format(*args, **kwargs) -> str\n",
            " |      \n",
            " |      Return a formatted version of S, using substitutions from args and kwargs.\n",
            " |      The substitutions are identified by braces ('{' and '}').\n",
            " |  \n",
            " |  format_map(...)\n",
            " |      S.format_map(mapping) -> str\n",
            " |      \n",
            " |      Return a formatted version of S, using substitutions from mapping.\n",
            " |      The substitutions are identified by braces ('{' and '}').\n",
            " |  \n",
            " |  index(...)\n",
            " |      S.index(sub[, start[, end]]) -> int\n",
            " |      \n",
            " |      Return the lowest index in S where substring sub is found,\n",
            " |      such that sub is contained within S[start:end].  Optional\n",
            " |      arguments start and end are interpreted as in slice notation.\n",
            " |      \n",
            " |      Raises ValueError when the substring is not found.\n",
            " |  \n",
            " |  isalnum(self, /)\n",
            " |      Return True if the string is an alpha-numeric string, False otherwise.\n",
            " |      \n",
            " |      A string is alpha-numeric if all characters in the string are alpha-numeric and\n",
            " |      there is at least one character in the string.\n",
            " |  \n",
            " |  isalpha(self, /)\n",
            " |      Return True if the string is an alphabetic string, False otherwise.\n",
            " |      \n",
            " |      A string is alphabetic if all characters in the string are alphabetic and there\n",
            " |      is at least one character in the string.\n",
            " |  \n",
            " |  isascii(self, /)\n",
            " |      Return True if all characters in the string are ASCII, False otherwise.\n",
            " |      \n",
            " |      ASCII characters have code points in the range U+0000-U+007F.\n",
            " |      Empty string is ASCII too.\n",
            " |  \n",
            " |  isdecimal(self, /)\n",
            " |      Return True if the string is a decimal string, False otherwise.\n",
            " |      \n",
            " |      A string is a decimal string if all characters in the string are decimal and\n",
            " |      there is at least one character in the string.\n",
            " |  \n",
            " |  isdigit(self, /)\n",
            " |      Return True if the string is a digit string, False otherwise.\n",
            " |      \n",
            " |      A string is a digit string if all characters in the string are digits and there\n",
            " |      is at least one character in the string.\n",
            " |  \n",
            " |  isidentifier(self, /)\n",
            " |      Return True if the string is a valid Python identifier, False otherwise.\n",
            " |      \n",
            " |      Call keyword.iskeyword(s) to test whether string s is a reserved identifier,\n",
            " |      such as \"def\" or \"class\".\n",
            " |  \n",
            " |  islower(self, /)\n",
            " |      Return True if the string is a lowercase string, False otherwise.\n",
            " |      \n",
            " |      A string is lowercase if all cased characters in the string are lowercase and\n",
            " |      there is at least one cased character in the string.\n",
            " |  \n",
            " |  isnumeric(self, /)\n",
            " |      Return True if the string is a numeric string, False otherwise.\n",
            " |      \n",
            " |      A string is numeric if all characters in the string are numeric and there is at\n",
            " |      least one character in the string.\n",
            " |  \n",
            " |  isprintable(self, /)\n",
            " |      Return True if the string is printable, False otherwise.\n",
            " |      \n",
            " |      A string is printable if all of its characters are considered printable in\n",
            " |      repr() or if it is empty.\n",
            " |  \n",
            " |  isspace(self, /)\n",
            " |      Return True if the string is a whitespace string, False otherwise.\n",
            " |      \n",
            " |      A string is whitespace if all characters in the string are whitespace and there\n",
            " |      is at least one character in the string.\n",
            " |  \n",
            " |  istitle(self, /)\n",
            " |      Return True if the string is a title-cased string, False otherwise.\n",
            " |      \n",
            " |      In a title-cased string, upper- and title-case characters may only\n",
            " |      follow uncased characters and lowercase characters only cased ones.\n",
            " |  \n",
            " |  isupper(self, /)\n",
            " |      Return True if the string is an uppercase string, False otherwise.\n",
            " |      \n",
            " |      A string is uppercase if all cased characters in the string are uppercase and\n",
            " |      there is at least one cased character in the string.\n",
            " |  \n",
            " |  join(self, iterable, /)\n",
            " |      Concatenate any number of strings.\n",
            " |      \n",
            " |      The string whose method is called is inserted in between each given string.\n",
            " |      The result is returned as a new string.\n",
            " |      \n",
            " |      Example: '.'.join(['ab', 'pq', 'rs']) -> 'ab.pq.rs'\n",
            " |  \n",
            " |  ljust(self, width, fillchar=' ', /)\n",
            " |      Return a left-justified string of length width.\n",
            " |      \n",
            " |      Padding is done using the specified fill character (default is a space).\n",
            " |  \n",
            " |  lower(self, /)\n",
            " |      Return a copy of the string converted to lowercase.\n",
            " |  \n",
            " |  lstrip(self, chars=None, /)\n",
            " |      Return a copy of the string with leading whitespace removed.\n",
            " |      \n",
            " |      If chars is given and not None, remove characters in chars instead.\n",
            " |  \n",
            " |  partition(self, sep, /)\n",
            " |      Partition the string into three parts using the given separator.\n",
            " |      \n",
            " |      This will search for the separator in the string.  If the separator is found,\n",
            " |      returns a 3-tuple containing the part before the separator, the separator\n",
            " |      itself, and the part after it.\n",
            " |      \n",
            " |      If the separator is not found, returns a 3-tuple containing the original string\n",
            " |      and two empty strings.\n",
            " |  \n",
            " |  removeprefix(self, prefix, /)\n",
            " |      Return a str with the given prefix string removed if present.\n",
            " |      \n",
            " |      If the string starts with the prefix string, return string[len(prefix):].\n",
            " |      Otherwise, return a copy of the original string.\n",
            " |  \n",
            " |  removesuffix(self, suffix, /)\n",
            " |      Return a str with the given suffix string removed if present.\n",
            " |      \n",
            " |      If the string ends with the suffix string and that suffix is not empty,\n",
            " |      return string[:-len(suffix)]. Otherwise, return a copy of the original\n",
            " |      string.\n",
            " |  \n",
            " |  replace(self, old, new, count=-1, /)\n",
            " |      Return a copy with all occurrences of substring old replaced by new.\n",
            " |      \n",
            " |        count\n",
            " |          Maximum number of occurrences to replace.\n",
            " |          -1 (the default value) means replace all occurrences.\n",
            " |      \n",
            " |      If the optional argument count is given, only the first count occurrences are\n",
            " |      replaced.\n",
            " |  \n",
            " |  rfind(...)\n",
            " |      S.rfind(sub[, start[, end]]) -> int\n",
            " |      \n",
            " |      Return the highest index in S where substring sub is found,\n",
            " |      such that sub is contained within S[start:end].  Optional\n",
            " |      arguments start and end are interpreted as in slice notation.\n",
            " |      \n",
            " |      Return -1 on failure.\n",
            " |  \n",
            " |  rindex(...)\n",
            " |      S.rindex(sub[, start[, end]]) -> int\n",
            " |      \n",
            " |      Return the highest index in S where substring sub is found,\n",
            " |      such that sub is contained within S[start:end].  Optional\n",
            " |      arguments start and end are interpreted as in slice notation.\n",
            " |      \n",
            " |      Raises ValueError when the substring is not found.\n",
            " |  \n",
            " |  rjust(self, width, fillchar=' ', /)\n",
            " |      Return a right-justified string of length width.\n",
            " |      \n",
            " |      Padding is done using the specified fill character (default is a space).\n",
            " |  \n",
            " |  rpartition(self, sep, /)\n",
            " |      Partition the string into three parts using the given separator.\n",
            " |      \n",
            " |      This will search for the separator in the string, starting at the end. If\n",
            " |      the separator is found, returns a 3-tuple containing the part before the\n",
            " |      separator, the separator itself, and the part after it.\n",
            " |      \n",
            " |      If the separator is not found, returns a 3-tuple containing two empty strings\n",
            " |      and the original string.\n",
            " |  \n",
            " |  rsplit(self, /, sep=None, maxsplit=-1)\n",
            " |      Return a list of the substrings in the string, using sep as the separator string.\n",
            " |      \n",
            " |        sep\n",
            " |          The separator used to split the string.\n",
            " |      \n",
            " |          When set to None (the default value), will split on any whitespace\n",
            " |          character (including \\\\n \\\\r \\\\t \\\\f and spaces) and will discard\n",
            " |          empty strings from the result.\n",
            " |        maxsplit\n",
            " |          Maximum number of splits (starting from the left).\n",
            " |          -1 (the default value) means no limit.\n",
            " |      \n",
            " |      Splitting starts at the end of the string and works to the front.\n",
            " |  \n",
            " |  rstrip(self, chars=None, /)\n",
            " |      Return a copy of the string with trailing whitespace removed.\n",
            " |      \n",
            " |      If chars is given and not None, remove characters in chars instead.\n",
            " |  \n",
            " |  split(self, /, sep=None, maxsplit=-1)\n",
            " |      Return a list of the substrings in the string, using sep as the separator string.\n",
            " |      \n",
            " |        sep\n",
            " |          The separator used to split the string.\n",
            " |      \n",
            " |          When set to None (the default value), will split on any whitespace\n",
            " |          character (including \\\\n \\\\r \\\\t \\\\f and spaces) and will discard\n",
            " |          empty strings from the result.\n",
            " |        maxsplit\n",
            " |          Maximum number of splits (starting from the left).\n",
            " |          -1 (the default value) means no limit.\n",
            " |      \n",
            " |      Note, str.split() is mainly useful for data that has been intentionally\n",
            " |      delimited.  With natural text that includes punctuation, consider using\n",
            " |      the regular expression module.\n",
            " |  \n",
            " |  splitlines(self, /, keepends=False)\n",
            " |      Return a list of the lines in the string, breaking at line boundaries.\n",
            " |      \n",
            " |      Line breaks are not included in the resulting list unless keepends is given and\n",
            " |      true.\n",
            " |  \n",
            " |  startswith(...)\n",
            " |      S.startswith(prefix[, start[, end]]) -> bool\n",
            " |      \n",
            " |      Return True if S starts with the specified prefix, False otherwise.\n",
            " |      With optional start, test S beginning at that position.\n",
            " |      With optional end, stop comparing S at that position.\n",
            " |      prefix can also be a tuple of strings to try.\n",
            " |  \n",
            " |  strip(self, chars=None, /)\n",
            " |      Return a copy of the string with leading and trailing whitespace removed.\n",
            " |      \n",
            " |      If chars is given and not None, remove characters in chars instead.\n",
            " |  \n",
            " |  swapcase(self, /)\n",
            " |      Convert uppercase characters to lowercase and lowercase characters to uppercase.\n",
            " |  \n",
            " |  title(self, /)\n",
            " |      Return a version of the string where each word is titlecased.\n",
            " |      \n",
            " |      More specifically, words start with uppercased characters and all remaining\n",
            " |      cased characters have lower case.\n",
            " |  \n",
            " |  translate(self, table, /)\n",
            " |      Replace each character in the string using the given translation table.\n",
            " |      \n",
            " |        table\n",
            " |          Translation table, which must be a mapping of Unicode ordinals to\n",
            " |          Unicode ordinals, strings, or None.\n",
            " |      \n",
            " |      The table must implement lookup/indexing via __getitem__, for instance a\n",
            " |      dictionary or list.  If this operation raises LookupError, the character is\n",
            " |      left untouched.  Characters mapped to None are deleted.\n",
            " |  \n",
            " |  upper(self, /)\n",
            " |      Return a copy of the string converted to uppercase.\n",
            " |  \n",
            " |  zfill(self, width, /)\n",
            " |      Pad a numeric string with zeros on the left, to fill a field of the given width.\n",
            " |      \n",
            " |      The string is never truncated.\n",
            " |  \n",
            " |  ----------------------------------------------------------------------\n",
            " |  Static methods defined here:\n",
            " |  \n",
            " |  __new__(*args, **kwargs) from builtins.type\n",
            " |      Create and return a new object.  See help(type) for accurate signature.\n",
            " |  \n",
            " |  maketrans(...)\n",
            " |      Return a translation table usable for str.translate().\n",
            " |      \n",
            " |      If there is only one argument, it must be a dictionary mapping Unicode\n",
            " |      ordinals (integers) or characters to Unicode ordinals, strings or None.\n",
            " |      Character keys will be then converted to ordinals.\n",
            " |      If there are two arguments, they must be strings of equal length, and\n",
            " |      in the resulting dictionary, each character in x will be mapped to the\n",
            " |      character at the same position in y. If there is a third argument, it\n",
            " |      must be a string, whose characters will be mapped to None in the result.\n",
            "\n"
          ]
        }
      ]
    },
    {
      "cell_type": "markdown",
      "source": [
        "### return\n",
        "alla fine di una funzione è possibile anche restituire una o più variabili. Spesso infatti le funzioni vengono usate per semplificare dei passaggi ma gli oggetti creati vengono poi utilizzati nel codice.  \n",
        "Il comando return permette di salvare questi oggetti creati, che altrimenti non verrebbero salvati in memoria."
      ],
      "metadata": {
        "id": "mFh0OnEfJSOh"
      }
    },
    {
      "cell_type": "code",
      "source": [
        "# Senza return\n",
        "def somma(a, b):\n",
        "  print(a + b)"
      ],
      "metadata": {
        "id": "D8AdV--xIsB-"
      },
      "execution_count": 14,
      "outputs": []
    },
    {
      "cell_type": "code",
      "source": [
        "risultato = somma(2,3)"
      ],
      "metadata": {
        "colab": {
          "base_uri": "https://localhost:8080/"
        },
        "id": "dv8RDpZLKE3Y",
        "outputId": "74559da2-abce-4d3a-87c5-b7183f891ad5"
      },
      "execution_count": 15,
      "outputs": [
        {
          "output_type": "stream",
          "name": "stdout",
          "text": [
            "5\n"
          ]
        }
      ]
    },
    {
      "cell_type": "code",
      "source": [
        "print(risultato) # Ci restituisce None ovvero un valore nullo poichè senza return il valore non viene salvato in memoria."
      ],
      "metadata": {
        "colab": {
          "base_uri": "https://localhost:8080/"
        },
        "id": "IYqm_2MnKE5a",
        "outputId": "3efa9f59-2b53-45b3-b668-4d8555dfe1cc"
      },
      "execution_count": 16,
      "outputs": [
        {
          "output_type": "stream",
          "name": "stdout",
          "text": [
            "None\n"
          ]
        }
      ]
    },
    {
      "cell_type": "code",
      "source": [
        "# Con return\n",
        "def somma(a, b):\n",
        "  print(a + b)\n",
        "  return a + b"
      ],
      "metadata": {
        "id": "59swmNE3KE7Z"
      },
      "execution_count": 17,
      "outputs": []
    },
    {
      "cell_type": "code",
      "source": [
        "risultato = somma(2,3)"
      ],
      "metadata": {
        "colab": {
          "base_uri": "https://localhost:8080/"
        },
        "id": "Q5TsqKy4KE-u",
        "outputId": "184064b5-7cd9-4924-a48b-1fa0712752e6"
      },
      "execution_count": 18,
      "outputs": [
        {
          "output_type": "stream",
          "name": "stdout",
          "text": [
            "5\n"
          ]
        }
      ]
    },
    {
      "cell_type": "code",
      "source": [
        "print(risultato) # il risultato è stato salvato ed è possibile usarlo in futuro nel codice"
      ],
      "metadata": {
        "colab": {
          "base_uri": "https://localhost:8080/"
        },
        "id": "ztZ2pzQwKmAB",
        "outputId": "235d0e24-d9a5-4e05-fdc2-c61811c17254"
      },
      "execution_count": 19,
      "outputs": [
        {
          "output_type": "stream",
          "name": "stdout",
          "text": [
            "5\n"
          ]
        }
      ]
    },
    {
      "cell_type": "markdown",
      "source": [
        "## Esercizi\n",
        "Vediamo degli esercizi, in quanto sono il metodo più veloce per capire ed imparare meglio ad usare le funzioni.  \n",
        "*Soluzioni a fondo pagina*"
      ],
      "metadata": {
        "id": "M8h8zfv8LCjz"
      }
    },
    {
      "cell_type": "markdown",
      "source": [
        "### 1.Convertitore di Temperature\n",
        "\n",
        "Scrivi una funzione che converte la temperatura da gradi Celsius a Fahrenheit.  \n",
        "La formula di conversione è Fahrenheit = Celsius * 9/5 + 32."
      ],
      "metadata": {
        "id": "b1PJZpNmLQAu"
      }
    },
    {
      "cell_type": "code",
      "source": [],
      "metadata": {
        "id": "2DtnJHTWLQZU"
      },
      "execution_count": 19,
      "outputs": []
    },
    {
      "cell_type": "code",
      "source": [],
      "metadata": {
        "id": "VFAHmghLMc7G"
      },
      "execution_count": 19,
      "outputs": []
    },
    {
      "cell_type": "markdown",
      "source": [
        "### 2.Calcolatore dell'area di un cerchio\n",
        "\n",
        "Crea una funzione che calcola l'area di un cerchio dato il suo raggio. La formula dell'area del cerchio è Area = π * raggio\\**2.  \n",
        "Suggerimento: Usa 3.14 come valore approssimativo di π (pi greco)."
      ],
      "metadata": {
        "id": "qAIkCwiKLQeX"
      }
    },
    {
      "cell_type": "code",
      "source": [],
      "metadata": {
        "id": "mqtAiB8kLQim"
      },
      "execution_count": 19,
      "outputs": []
    },
    {
      "cell_type": "code",
      "source": [],
      "metadata": {
        "id": "gWTqMUtgMdXw"
      },
      "execution_count": 19,
      "outputs": []
    },
    {
      "cell_type": "markdown",
      "source": [
        "### 3.Verificatore di Parole Palindrome\n",
        "\n",
        "Scrivi una funzione che controlla se una parola è un palindromo (una parola che si legge allo stesso modo sia da sinistra a destra che da destra a sinistra).  \n",
        "Esempio: \"anna\" è un palindromo."
      ],
      "metadata": {
        "id": "KF4xpLALLQoK"
      }
    },
    {
      "cell_type": "code",
      "source": [],
      "metadata": {
        "id": "o-tOpbgoKmDZ"
      },
      "execution_count": 19,
      "outputs": []
    },
    {
      "cell_type": "code",
      "source": [],
      "metadata": {
        "id": "Vnyv2ByWMd0O"
      },
      "execution_count": 19,
      "outputs": []
    },
    {
      "cell_type": "markdown",
      "source": [
        "## Soluzioni"
      ],
      "metadata": {
        "id": "F79T9IxLLiCJ"
      }
    },
    {
      "cell_type": "markdown",
      "source": [
        "### 1.Convertitore di Temperature\n",
        "\n",
        "Scrivi una funzione che converte la temperatura da gradi Celsius a Fahrenheit.  \n",
        "La formula di conversione è Fahrenheit = Celsius * 9/5 + 32."
      ],
      "metadata": {
        "id": "iEHu1vmwLpLj"
      }
    },
    {
      "cell_type": "code",
      "source": [
        "def celsius_a_fahrenheit(celsius):\n",
        "    fahrenheit = celsius * 9/5 + 32\n",
        "    return fahrenheit"
      ],
      "metadata": {
        "id": "ud_h6kVRLpQC"
      },
      "execution_count": 20,
      "outputs": []
    },
    {
      "cell_type": "code",
      "source": [
        "temperatura_celsius = 20\n",
        "temperatura_fahrenheit = celsius_a_fahrenheit(temperatura_celsius)\n",
        "print(f\"{temperatura_celsius}°C è uguale a {temperatura_fahrenheit}°F\")"
      ],
      "metadata": {
        "colab": {
          "base_uri": "https://localhost:8080/"
        },
        "id": "sY4OlWcLMaEc",
        "outputId": "636d77b8-79a3-4a12-f5d4-934ad9d5bf81"
      },
      "execution_count": 21,
      "outputs": [
        {
          "output_type": "stream",
          "name": "stdout",
          "text": [
            "20°C è uguale a 68.0°F\n"
          ]
        }
      ]
    },
    {
      "cell_type": "markdown",
      "source": [
        "### 2.Calcolatore dell'area di un cerchio\n",
        "\n",
        "Crea una funzione che calcola l'area di un cerchio dato il suo raggio. La formula dell'area del cerchio è Area = π * raggio\\**2.  "
      ],
      "metadata": {
        "id": "RUeysx-JLpUl"
      }
    },
    {
      "cell_type": "code",
      "source": [
        "def area_cerchio(raggio):\n",
        "    pi = 3.14\n",
        "    area = pi * raggio * raggio\n",
        "    return area"
      ],
      "metadata": {
        "id": "5s_JhVvDLpZW"
      },
      "execution_count": 22,
      "outputs": []
    },
    {
      "cell_type": "code",
      "source": [
        "raggio = 5\n",
        "area = area_cerchio(raggio)\n",
        "print(f\"L'area del cerchio con raggio {raggio} è {area}\")"
      ],
      "metadata": {
        "colab": {
          "base_uri": "https://localhost:8080/"
        },
        "id": "Apu_XXoXMay0",
        "outputId": "9d04ef90-b934-4f73-8feb-8925396dc798"
      },
      "execution_count": 23,
      "outputs": [
        {
          "output_type": "stream",
          "name": "stdout",
          "text": [
            "L'area del cerchio con raggio 5 è 78.5\n"
          ]
        }
      ]
    },
    {
      "cell_type": "markdown",
      "source": [
        "### 3.Verificatore di Parole Palindrome\n",
        "\n",
        "Scrivi una funzione che controlla se una parola è un palindromo (una parola che si legge allo stesso modo sia da sinistra a destra che da destra a sinistra).  \n",
        "Esempio: \"anna\" è un palindromo."
      ],
      "metadata": {
        "id": "CWtOGCvhLpdf"
      }
    },
    {
      "cell_type": "code",
      "source": [
        "def test_palindromo(parola):\n",
        "    # Converti la parola in minuscolo per evitare problemi con le lettere maiuscole\n",
        "    parola = parola.lower()\n",
        "    # Confronta la parola con la sua versione invertita\n",
        "    if parola == parola[::-1]:\n",
        "      print(f\"{parola} è un palindromo\")\n",
        "    else:\n",
        "      print(f\"{parola} non è un palindromo\")\n"
      ],
      "metadata": {
        "id": "5FSWSOjJLphe"
      },
      "execution_count": 24,
      "outputs": []
    },
    {
      "cell_type": "code",
      "source": [
        "parola = \"Anna\"\n",
        "test_palindromo(parola)"
      ],
      "metadata": {
        "colab": {
          "base_uri": "https://localhost:8080/"
        },
        "id": "p1yur7PMMbs2",
        "outputId": "6d9f768d-3b5c-45f7-8701-0c8f9f60bd7d"
      },
      "execution_count": 25,
      "outputs": [
        {
          "output_type": "stream",
          "name": "stdout",
          "text": [
            "anna è un palindromo\n"
          ]
        }
      ]
    },
    {
      "cell_type": "code",
      "source": [
        "parola = \"Computer\"\n",
        "test_palindromo(parola)"
      ],
      "metadata": {
        "colab": {
          "base_uri": "https://localhost:8080/"
        },
        "id": "Q0CJ0RbjN0Rh",
        "outputId": "b23d591d-351f-49bf-b1de-8584ad74f40c"
      },
      "execution_count": 26,
      "outputs": [
        {
          "output_type": "stream",
          "name": "stdout",
          "text": [
            "computer non è un palindromo\n"
          ]
        }
      ]
    }
  ]
}