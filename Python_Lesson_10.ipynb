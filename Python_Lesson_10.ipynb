{
  "nbformat": 4,
  "nbformat_minor": 0,
  "metadata": {
    "colab": {
      "provenance": [],
      "authorship_tag": "ABX9TyNYRa5/YvDZsFNV2lwFXx+m",
      "include_colab_link": true
    },
    "kernelspec": {
      "name": "python3",
      "display_name": "Python 3"
    },
    "language_info": {
      "name": "python"
    }
  },
  "cells": [
    {
      "cell_type": "markdown",
      "metadata": {
        "id": "view-in-github",
        "colab_type": "text"
      },
      "source": [
        "<a href=\"https://colab.research.google.com/github/Frosty-Bits/PythonFree/blob/main/Python_Lesson_10.ipynb\" target=\"_parent\"><img src=\"https://colab.research.google.com/assets/colab-badge.svg\" alt=\"Open In Colab\"/></a>"
      ]
    },
    {
      "cell_type": "markdown",
      "source": [
        "## Import librerie esterne\n",
        "pip install x"
      ],
      "metadata": {
        "id": "VTIK6AcNci-f"
      }
    },
    {
      "cell_type": "markdown",
      "source": [
        "import pandas as pd"
      ],
      "metadata": {
        "id": "eq6vpvjYcjIY"
      }
    },
    {
      "cell_type": "markdown",
      "source": [
        "import matplotlib.pyplot as plt"
      ],
      "metadata": {
        "id": "fIDEosodcjK1"
      }
    }
  ]
}