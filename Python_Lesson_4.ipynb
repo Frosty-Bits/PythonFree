{
  "nbformat": 4,
  "nbformat_minor": 0,
  "metadata": {
    "colab": {
      "provenance": [],
      "authorship_tag": "ABX9TyMl6TWHIfSXoUf99GABqpPc",
      "include_colab_link": true
    },
    "kernelspec": {
      "name": "python3",
      "display_name": "Python 3"
    },
    "language_info": {
      "name": "python"
    }
  },
  "cells": [
    {
      "cell_type": "markdown",
      "metadata": {
        "id": "view-in-github",
        "colab_type": "text"
      },
      "source": [
        "<a href=\"https://colab.research.google.com/github/Frosty-Bits/PythonFree/blob/main/Python_Lesson_4.ipynb\" target=\"_parent\"><img src=\"https://colab.research.google.com/assets/colab-badge.svg\" alt=\"Open In Colab\"/></a>"
      ]
    },
    {
      "cell_type": "markdown",
      "source": [
        "## Liste\n",
        "Un'altro tipo di dato molto usato sono le liste, esse ci permettono di ragruppare più elementi dentro la stessa variabile. Una lista si crea assegnano ad una variabile due parentesi quadre '**[ ]**', in cui saranno inseriti i diversi elementi, separti da virgole. Gli elementi all'interno possono essere di qualiasi tipo, anche un'altra lista, e possono anche essere ripetuti."
      ],
      "metadata": {
        "id": "zu5mXxziKE1N"
      }
    },
    {
      "cell_type": "code",
      "source": [
        "edifici = [\"casa\", \"scuola\",\"ospedale\",\"stadio\"]"
      ],
      "metadata": {
        "id": "he2l5D0tKG5q"
      },
      "execution_count": 59,
      "outputs": []
    },
    {
      "cell_type": "code",
      "source": [
        "numeri = [\"uno\", 2, 3, \"4\",10] # ci possono essere elementi di diversi tipi"
      ],
      "metadata": {
        "id": "wxn_DquELCH6"
      },
      "execution_count": 60,
      "outputs": []
    },
    {
      "cell_type": "code",
      "source": [
        "liste = [numeri, edifici] # può anche contenere altre liste"
      ],
      "metadata": {
        "id": "I0-imsv4LCLR"
      },
      "execution_count": 61,
      "outputs": []
    },
    {
      "cell_type": "code",
      "source": [
        "lista_vuota = []"
      ],
      "metadata": {
        "id": "4kNUfm5bLCeV"
      },
      "execution_count": 62,
      "outputs": []
    },
    {
      "cell_type": "markdown",
      "source": [
        "To access a specific index in a list we can use the slicing method like we saw for strings."
      ],
      "metadata": {
        "id": "w0DPDa2qP2nZ"
      }
    },
    {
      "cell_type": "code",
      "source": [
        "alunni = [\"Mario\", \"Anna\", \"Roberto\", \"Giulia\"]\n",
        "print(f'Il primo alunno è {alunni[0]}')\n",
        "print(f'Gli altri alunni sono {alunni[1:]}')"
      ],
      "metadata": {
        "colab": {
          "base_uri": "https://localhost:8080/"
        },
        "id": "CGgnKEbQLCh5",
        "outputId": "0879cf3e-ef35-4c5f-a7f0-92faa15e19d0"
      },
      "execution_count": 63,
      "outputs": [
        {
          "output_type": "stream",
          "name": "stdout",
          "text": [
            "Il primo alunno è Mario\n",
            "Gli altri alunni sono ['Anna', 'Roberto', 'Giulia']\n"
          ]
        }
      ]
    },
    {
      "cell_type": "markdown",
      "source": [
        "Vediamo ora un po' di esercizi con le funzioni più usate. Ricorda, non è importante ricordarsi esattamente il nome della funzione, ma sapere che è possibile fare una certa operazione con la variabile a cui stiamo lavorando"
      ],
      "metadata": {
        "id": "Q2plwSDnQoZY"
      }
    },
    {
      "cell_type": "code",
      "source": [
        "# len() -> Conta quanti elementi ci sono in una lista.\n",
        "alunni = [\"Mario\", \"Anna\", \"Roberto\", \"Giulia\"]\n",
        "print(len(alunni))\n"
      ],
      "metadata": {
        "colab": {
          "base_uri": "https://localhost:8080/"
        },
        "id": "mnTbj5CMQpp_",
        "outputId": "f16c3cbc-c0ad-4784-b080-6cc1262b5c17"
      },
      "execution_count": 64,
      "outputs": [
        {
          "output_type": "stream",
          "name": "stdout",
          "text": [
            "4\n"
          ]
        }
      ]
    },
    {
      "cell_type": "code",
      "source": [
        "# append() -> Aggiunge un elemento alla fine della lista.\n",
        "alunni.append('Sara')\n",
        "print(alunni)"
      ],
      "metadata": {
        "colab": {
          "base_uri": "https://localhost:8080/"
        },
        "id": "GeTD3pTTQpsz",
        "outputId": "f9fb0a4a-1e10-418a-9cc1-3e95f5c5d985"
      },
      "execution_count": 65,
      "outputs": [
        {
          "output_type": "stream",
          "name": "stdout",
          "text": [
            "['Mario', 'Anna', 'Roberto', 'Giulia', 'Sara']\n"
          ]
        }
      ]
    },
    {
      "cell_type": "code",
      "source": [
        "# extend() -> Sposta gli elementi di una lista in un'altra. (non inserisce la lista stessa, ma solo gli elementi all'interno)\n",
        "nuovi_alunni = [\"Paolo\", \"Chiara\"]\n",
        "alunni.extend(nuovi_alunni)\n",
        "print(alunni)"
      ],
      "metadata": {
        "colab": {
          "base_uri": "https://localhost:8080/"
        },
        "id": "R4uSBKrUQpv6",
        "outputId": "457ccc2b-cba2-47cc-cfad-b1750c1bf72f"
      },
      "execution_count": 66,
      "outputs": [
        {
          "output_type": "stream",
          "name": "stdout",
          "text": [
            "['Mario', 'Anna', 'Roberto', 'Giulia', 'Sara', 'Paolo', 'Chiara']\n"
          ]
        }
      ]
    },
    {
      "cell_type": "code",
      "source": [
        "# insert() -> Inserisce un valore in una posizione specifica data dall'indice.\n",
        "alunni.insert(0, 'Roberto') # All'indice 0 aggiungiamo il nome Andrea.\n",
        "print(alunni)"
      ],
      "metadata": {
        "colab": {
          "base_uri": "https://localhost:8080/"
        },
        "id": "iDNxdY0uQpyo",
        "outputId": "0f96fcc3-8813-4a79-cdb8-9e35b586341f"
      },
      "execution_count": 67,
      "outputs": [
        {
          "output_type": "stream",
          "name": "stdout",
          "text": [
            "['Roberto', 'Mario', 'Anna', 'Roberto', 'Giulia', 'Sara', 'Paolo', 'Chiara']\n"
          ]
        }
      ]
    },
    {
      "cell_type": "code",
      "source": [
        "# remove() -> Rimuove la prima occorenza del valore specificato come parametro\n",
        "alunni.remove('Roberto')\n",
        "print(alunni)"
      ],
      "metadata": {
        "colab": {
          "base_uri": "https://localhost:8080/"
        },
        "id": "yO_y-V4JQp1X",
        "outputId": "43eb62d3-d166-4b00-fc29-255012efeb91"
      },
      "execution_count": 68,
      "outputs": [
        {
          "output_type": "stream",
          "name": "stdout",
          "text": [
            "['Mario', 'Anna', 'Roberto', 'Giulia', 'Sara', 'Paolo', 'Chiara']\n"
          ]
        }
      ]
    },
    {
      "cell_type": "code",
      "source": [
        "# index() -> Restituisce l'indice della prima occorrenza del valore specificato\n",
        "alunni.index('Giulia')"
      ],
      "metadata": {
        "colab": {
          "base_uri": "https://localhost:8080/"
        },
        "id": "dHgRvnPqQp3g",
        "outputId": "b414aad1-be36-4a1c-8718-a78c3f85fe60"
      },
      "execution_count": 69,
      "outputs": [
        {
          "output_type": "execute_result",
          "data": {
            "text/plain": [
              "3"
            ]
          },
          "metadata": {},
          "execution_count": 69
        }
      ]
    },
    {
      "cell_type": "code",
      "source": [
        "# count() -> Conta il numero di elementi nella lista uguali al parametro\n",
        "alunni.count('Paolo')"
      ],
      "metadata": {
        "colab": {
          "base_uri": "https://localhost:8080/"
        },
        "id": "ULPEOe3DQp63",
        "outputId": "8048d1ad-b0ff-4c82-df90-8537d75a3b72"
      },
      "execution_count": 70,
      "outputs": [
        {
          "output_type": "execute_result",
          "data": {
            "text/plain": [
              "1"
            ]
          },
          "metadata": {},
          "execution_count": 70
        }
      ]
    },
    {
      "cell_type": "code",
      "source": [
        "# sort() -> Ordina la lista in ordine crescente\n",
        "alunni.sort()\n",
        "print(alunni)\n",
        "\n",
        "numeri = [2,7,4,1,3,8,9,5,2,5,1]\n",
        "numeri.sort()\n",
        "print(numeri)"
      ],
      "metadata": {
        "colab": {
          "base_uri": "https://localhost:8080/"
        },
        "id": "RYFn0hRuQqc0",
        "outputId": "3fcca7f5-4bfc-41eb-c574-97968062ed76"
      },
      "execution_count": 71,
      "outputs": [
        {
          "output_type": "stream",
          "name": "stdout",
          "text": [
            "['Anna', 'Chiara', 'Giulia', 'Mario', 'Paolo', 'Roberto', 'Sara']\n",
            "[1, 1, 2, 2, 3, 4, 5, 5, 7, 8, 9]\n"
          ]
        }
      ]
    },
    {
      "cell_type": "code",
      "source": [
        "# reverse() -> Inverte l'ordine della lista, che sia ordinata o meno.\n",
        "alunni.reverse()\n",
        "print(alunni)\n",
        "\n",
        "numeri.reverse()\n",
        "print(numeri)"
      ],
      "metadata": {
        "colab": {
          "base_uri": "https://localhost:8080/"
        },
        "id": "0E3PKpBdQqgP",
        "outputId": "161a3681-7bae-4df2-98e9-ff118cc6dffb"
      },
      "execution_count": 72,
      "outputs": [
        {
          "output_type": "stream",
          "name": "stdout",
          "text": [
            "['Sara', 'Roberto', 'Paolo', 'Mario', 'Giulia', 'Chiara', 'Anna']\n",
            "[9, 8, 7, 5, 5, 4, 3, 2, 2, 1, 1]\n"
          ]
        }
      ]
    },
    {
      "cell_type": "markdown",
      "source": [
        "## Dizionari\n",
        "I dizionari sono una struttura dati fondamentale in python, in quanto consentono di gestire meglio i dati, sia in termini di praticità che di velocità.  \n",
        "Un dizionario è composto da due elementi: la chiave e il valore.\n",
        "la chiave serve da etichetta al valore di cui abbiamo bisogno (simile all'indice di una lista), e può essere un numero o una stringa, ma deve essere sempre unico. Il valore invece può essere qualsiasi tipo di dato.  \n",
        "Per creare un dizionario si usano le parentesi graffe '**{}**'.  \n",
        "Vediamo ora come assegnare invece i valori"
      ],
      "metadata": {
        "id": "MNXxe4z6KHd7"
      }
    },
    {
      "cell_type": "code",
      "source": [
        "# primo metodo: Assegnazione dei valori al momento della creazione del dizionario\n",
        "studente = {'nome': 'Alice', 'età': 25, 'città': 'Roma'}"
      ],
      "metadata": {
        "id": "2ZxNhf3fKJmT"
      },
      "execution_count": 73,
      "outputs": []
    },
    {
      "cell_type": "code",
      "source": [
        "# secondo metodo: Aggiungere un valore dopo che il dizionario è già stato creato\n",
        "professore = {}\n",
        "professore['nome'] = 'Marco'\n",
        "professore['età'] = '48'\n",
        "professore['città'] = 'Milano'"
      ],
      "metadata": {
        "id": "7mOuVMmbVp-I"
      },
      "execution_count": 74,
      "outputs": []
    },
    {
      "cell_type": "code",
      "source": [
        "# per accedere ai dati, come abbiamo detto prima, si usa la chiave\n",
        "print(professore['nome'])"
      ],
      "metadata": {
        "colab": {
          "base_uri": "https://localhost:8080/"
        },
        "id": "AU76PLrcVqAE",
        "outputId": "e7ef04a4-d4c9-4a99-d445-a1192c4c43dd"
      },
      "execution_count": 75,
      "outputs": [
        {
          "output_type": "stream",
          "name": "stdout",
          "text": [
            "Marco\n"
          ]
        }
      ]
    },
    {
      "cell_type": "code",
      "source": [
        "# per modificare un valore è possibile farlo assegnando direttamente il nuovo valore che vogliamo\n",
        "professore['nome'] = 'Andrea'\n",
        "print(professore['nome'])"
      ],
      "metadata": {
        "colab": {
          "base_uri": "https://localhost:8080/"
        },
        "id": "pGvlEBPWVqDp",
        "outputId": "720a721a-bd1a-4a73-a0c9-dbaba9e640aa"
      },
      "execution_count": 76,
      "outputs": [
        {
          "output_type": "stream",
          "name": "stdout",
          "text": [
            "Andrea\n"
          ]
        }
      ]
    },
    {
      "cell_type": "markdown",
      "source": [
        "Vediamo ora le funzioni più comuni da usare con i dizionari"
      ],
      "metadata": {
        "id": "nLRu3kyrXI1I"
      }
    },
    {
      "cell_type": "code",
      "source": [
        "# Creiamo prima un dizionario con qualche dato\n",
        "partner = {\n",
        "    'nome': 'Luca',\n",
        "    'età': 30,\n",
        "    'città': 'Pisa',\n",
        "    'lavoro': 'Barista',\n",
        "    'hobby': ['reading', 'coding', 'hiking'],\n",
        "    'studente': False,\n",
        "    'voti': {'matematica': 9, 'inglese': 8, 'storia': 7}\n",
        "}"
      ],
      "metadata": {
        "id": "UjfFl7vKXPsJ"
      },
      "execution_count": 77,
      "outputs": []
    },
    {
      "cell_type": "code",
      "source": [
        "# len() -> Numero di coppie chiave-valore\n",
        "len(partner)"
      ],
      "metadata": {
        "colab": {
          "base_uri": "https://localhost:8080/"
        },
        "id": "WEuA8ytNXQMJ",
        "outputId": "1c6e70b3-1bf8-461a-bb0b-8120a6cf9fd9"
      },
      "execution_count": 78,
      "outputs": [
        {
          "output_type": "execute_result",
          "data": {
            "text/plain": [
              "7"
            ]
          },
          "metadata": {},
          "execution_count": 78
        }
      ]
    },
    {
      "cell_type": "code",
      "source": [
        "# keys() -> Elenca solo le chiavi\n",
        "print(partner.keys())"
      ],
      "metadata": {
        "colab": {
          "base_uri": "https://localhost:8080/"
        },
        "id": "WvB1xFJ_XQOf",
        "outputId": "8cd28061-2f01-4a98-8f8a-0521b0a085db"
      },
      "execution_count": 79,
      "outputs": [
        {
          "output_type": "stream",
          "name": "stdout",
          "text": [
            "dict_keys(['nome', 'età', 'città', 'lavoro', 'hobby', 'studente', 'voti'])\n"
          ]
        }
      ]
    },
    {
      "cell_type": "code",
      "source": [
        "# values() -> Elenca solo i valori\n",
        "print(partner.values())"
      ],
      "metadata": {
        "colab": {
          "base_uri": "https://localhost:8080/"
        },
        "id": "SPMtRrtpXQQu",
        "outputId": "e906e3a1-dbe9-4c5c-ea8d-4c0556821661"
      },
      "execution_count": 80,
      "outputs": [
        {
          "output_type": "stream",
          "name": "stdout",
          "text": [
            "dict_values(['Luca', 30, 'Pisa', 'Barista', ['reading', 'coding', 'hiking'], False, {'matematica': 9, 'inglese': 8, 'storia': 7}])\n"
          ]
        }
      ]
    },
    {
      "cell_type": "code",
      "source": [
        "# items() -> Elenca tutte le coppie chiave-valore\n",
        "partner.items()"
      ],
      "metadata": {
        "colab": {
          "base_uri": "https://localhost:8080/"
        },
        "id": "JCbScy6VXQS_",
        "outputId": "8e40c9b9-404c-4901-a918-64404ba7a7d5"
      },
      "execution_count": 81,
      "outputs": [
        {
          "output_type": "execute_result",
          "data": {
            "text/plain": [
              "dict_items([('nome', 'Luca'), ('età', 30), ('città', 'Pisa'), ('lavoro', 'Barista'), ('hobby', ['reading', 'coding', 'hiking']), ('studente', False), ('voti', {'matematica': 9, 'inglese': 8, 'storia': 7})])"
            ]
          },
          "metadata": {},
          "execution_count": 81
        }
      ]
    },
    {
      "cell_type": "code",
      "source": [
        "# get() -> Restituice il valore della chiave specificata se presente, altrimenti possiamo scegliere un valore di default\n",
        "print(partner.get('nome', 'nome non presente'))\n",
        "\n",
        "print(partner.get('cognome', 'cognome non presente'))"
      ],
      "metadata": {
        "colab": {
          "base_uri": "https://localhost:8080/"
        },
        "id": "HkHRlVDeXQVd",
        "outputId": "b49a390d-2493-48dd-8631-50bdcf347a8b"
      },
      "execution_count": 82,
      "outputs": [
        {
          "output_type": "stream",
          "name": "stdout",
          "text": [
            "Luca\n",
            "cognome non presente\n"
          ]
        }
      ]
    },
    {
      "cell_type": "code",
      "source": [
        "# pop() -> Elimina una coppia chiave-valore e restituisce solo il valore\n",
        "dato_eliminato = partner.pop('città')\n",
        "print(dato_eliminato)\n",
        "print(partner.get('città', 'città non presente nel dizionario'))"
      ],
      "metadata": {
        "colab": {
          "base_uri": "https://localhost:8080/"
        },
        "id": "zWZmOh5LXQXn",
        "outputId": "7fdbf5d4-3290-4eda-cd7a-12c485de7a0f"
      },
      "execution_count": 83,
      "outputs": [
        {
          "output_type": "stream",
          "name": "stdout",
          "text": [
            "Pisa\n",
            "città non presente nel dizionario\n"
          ]
        }
      ]
    },
    {
      "cell_type": "code",
      "source": [
        "# popitem() -> Elimina l'ultima coppia chiave-valore del dizionario e restituisce entrambi\n",
        "dato_eliminato = partner.popitem()\n",
        "print('1 ', dato_eliminato)\n",
        "print('2 ', partner)"
      ],
      "metadata": {
        "colab": {
          "base_uri": "https://localhost:8080/"
        },
        "id": "6qCFaVdjXQZ0",
        "outputId": "f9fcb349-7f80-40e0-f4da-6b1f0dab1a1e"
      },
      "execution_count": 84,
      "outputs": [
        {
          "output_type": "stream",
          "name": "stdout",
          "text": [
            "1  ('voti', {'matematica': 9, 'inglese': 8, 'storia': 7})\n",
            "2  {'nome': 'Luca', 'età': 30, 'lavoro': 'Barista', 'hobby': ['reading', 'coding', 'hiking'], 'studente': False}\n"
          ]
        }
      ]
    },
    {
      "cell_type": "code",
      "source": [
        "# update() -> Aggiorna le coppie chiave-valore con quelle di un'altro dizionario\n",
        "print('Dizionario prima: ', partner.items())\n",
        "nuovi_dati = {'età': 35, 'lavoro': 'insegnante', 'sposato': True}\n",
        "partner.update(nuovi_dati)\n",
        "print('Dizionario dopo: ', partner.items())"
      ],
      "metadata": {
        "colab": {
          "base_uri": "https://localhost:8080/"
        },
        "id": "Mo1DQTwsXQdg",
        "outputId": "1e36d1ca-ba62-47fe-f09d-e6b99bf887b7"
      },
      "execution_count": 85,
      "outputs": [
        {
          "output_type": "stream",
          "name": "stdout",
          "text": [
            "Dizionario prima:  dict_items([('nome', 'Luca'), ('età', 30), ('lavoro', 'Barista'), ('hobby', ['reading', 'coding', 'hiking']), ('studente', False)])\n",
            "Dizionario dopo:  dict_items([('nome', 'Luca'), ('età', 35), ('lavoro', 'insegnante'), ('hobby', ['reading', 'coding', 'hiking']), ('studente', False), ('sposato', True)])\n"
          ]
        }
      ]
    },
    {
      "cell_type": "markdown",
      "source": [
        "## Facciamo un po' di pratica:"
      ],
      "metadata": {
        "id": "Y4wSb1A9zeXB"
      }
    },
    {
      "cell_type": "code",
      "source": [
        "# Hai appena creato un nuovo social network e vuoi creare un utente fittizio per testare il suo funzionamento\n",
        "# Crea un dizionario che contenga alcune informazioni sul tuo utente fittizio (nome, cognome, età, luogo, interessi)\n",
        "utente = {\"nome\":\"Mario\",\n",
        "          \"cognome\":\"Rossi\",\n",
        "          \"età\":30,\n",
        "          \"luogo\":\"Parma\",\n",
        "          \"interessi\":['natura', 'sport', 'cibo']}"
      ],
      "metadata": {
        "id": "yUt0DxrJzlk1"
      },
      "execution_count": 86,
      "outputs": []
    },
    {
      "cell_type": "code",
      "source": [
        "# Ti accorgi di aver sbagliato gli interessi e vuoi sostituire sport con Netflix\n",
        "utente['interessi'][1] = 'Netflix'"
      ],
      "metadata": {
        "id": "GsPzibbNznSI"
      },
      "execution_count": 87,
      "outputs": []
    },
    {
      "cell_type": "code",
      "source": [
        "# l'utente ha da poco compiuto gli anni, aggiungi 1 anno alla sua età\n",
        "utente['età'] += 1"
      ],
      "metadata": {
        "id": "9InfGXmd1UKE"
      },
      "execution_count": 88,
      "outputs": []
    },
    {
      "cell_type": "code",
      "source": [
        "# Una nuova legge ti vieta di memorizzare il luogo degli utenti. Eliminalo.\n",
        "utente.pop('luogo')\n",
        "# oppure\n",
        "# del utente['luogo']"
      ],
      "metadata": {
        "colab": {
          "base_uri": "https://localhost:8080/",
          "height": 35
        },
        "id": "A3pY64us1X4T",
        "outputId": "87f32edd-881e-4bff-a569-60ecdd919431"
      },
      "execution_count": 89,
      "outputs": [
        {
          "output_type": "execute_result",
          "data": {
            "text/plain": [
              "'Parma'"
            ],
            "application/vnd.google.colaboratory.intrinsic+json": {
              "type": "string"
            }
          },
          "metadata": {},
          "execution_count": 89
        }
      ]
    },
    {
      "cell_type": "code",
      "source": [
        "# Decidi di aggiornare il tuo social network e hai bisogno di ulteriori informazioni (studente, lavoro_desiderato, account_privato)\n",
        "aggiornamento = {'studente': True,\n",
        "                 'lavoro_desiderato': 'veterinario',\n",
        "                 'account_privato': False}\n",
        "utente.update(aggiornamento)"
      ],
      "metadata": {
        "id": "CL0fR1l91YBG"
      },
      "execution_count": 90,
      "outputs": []
    },
    {
      "cell_type": "code",
      "source": [
        "print(utente)"
      ],
      "metadata": {
        "colab": {
          "base_uri": "https://localhost:8080/"
        },
        "id": "eot1YqN23iaL",
        "outputId": "236f0ab0-435c-46ee-e381-37f0e8a4044a"
      },
      "execution_count": 91,
      "outputs": [
        {
          "output_type": "stream",
          "name": "stdout",
          "text": [
            "{'nome': 'Mario', 'cognome': 'Rossi', 'età': 31, 'interessi': ['natura', 'Netflix', 'cibo'], 'studente': True, 'lavoro_desiderato': 'veterinario', 'account_privato': False}\n"
          ]
        }
      ]
    }
  ]
}