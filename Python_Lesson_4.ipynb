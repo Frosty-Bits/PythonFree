{
  "nbformat": 4,
  "nbformat_minor": 0,
  "metadata": {
    "colab": {
      "provenance": [],
      "authorship_tag": "ABX9TyP0TzUD91NKOxY5kFQmUGxO",
      "include_colab_link": true
    },
    "kernelspec": {
      "name": "python3",
      "display_name": "Python 3"
    },
    "language_info": {
      "name": "python"
    }
  },
  "cells": [
    {
      "cell_type": "markdown",
      "metadata": {
        "id": "view-in-github",
        "colab_type": "text"
      },
      "source": [
        "<a href=\"https://colab.research.google.com/github/Frosty-Bits/PythonFree/blob/main/Python_Lesson_4.ipynb\" target=\"_parent\"><img src=\"https://colab.research.google.com/assets/colab-badge.svg\" alt=\"Open In Colab\"/></a>"
      ]
    },
    {
      "cell_type": "markdown",
      "source": [
        "## Liste\n",
        "Un'altro tipo di dato molto usato sono le liste, esse ci permettono di ragruppare più elementi dentro la stessa variabile. Una lista si crea assegnano ad una variabile due parentesi quadre '**[ ]**', in cui saranno inseriti i diversi elementi, separti da virgole. Gli elementi all'interno possono essere di qualiasi tipo, anche un'altra lista, e possono anche essere ripetuti."
      ],
      "metadata": {
        "id": "zu5mXxziKE1N"
      }
    },
    {
      "cell_type": "code",
      "source": [
        "edifici = [\"casa\", \"scuola\",\"ospedale\",\"stadio\"]"
      ],
      "metadata": {
        "id": "he2l5D0tKG5q"
      },
      "execution_count": 1,
      "outputs": []
    },
    {
      "cell_type": "code",
      "source": [
        "numeri = [\"uno\", 2, 3, \"4\",10] # ci possono essere elementi di diversi tipi"
      ],
      "metadata": {
        "id": "wxn_DquELCH6"
      },
      "execution_count": 2,
      "outputs": []
    },
    {
      "cell_type": "code",
      "source": [
        "liste = [numeri, edifici] # può anche contenere altre liste"
      ],
      "metadata": {
        "id": "I0-imsv4LCLR"
      },
      "execution_count": 3,
      "outputs": []
    },
    {
      "cell_type": "code",
      "source": [
        "lista_vuota = []"
      ],
      "metadata": {
        "id": "4kNUfm5bLCeV"
      },
      "execution_count": 4,
      "outputs": []
    },
    {
      "cell_type": "markdown",
      "source": [
        "Per accedere ad un indice specifico in una lista possiamo utilizzare il metodo di slicing come abbiamo visto per le stringhe."
      ],
      "metadata": {
        "id": "w0DPDa2qP2nZ"
      }
    },
    {
      "cell_type": "code",
      "source": [
        "alunni = [\"Mario\", \"Anna\", \"Roberto\", \"Giulia\"]\n",
        "print(f'Il primo alunno è {alunni[0]}')\n",
        "print(f'Gli altri alunni sono {alunni[1:]}')"
      ],
      "metadata": {
        "colab": {
          "base_uri": "https://localhost:8080/"
        },
        "id": "CGgnKEbQLCh5",
        "outputId": "6f61d62f-9343-4e48-cf6f-bbbbd45ce216"
      },
      "execution_count": 5,
      "outputs": [
        {
          "output_type": "stream",
          "name": "stdout",
          "text": [
            "Il primo alunno è Mario\n",
            "Gli altri alunni sono ['Anna', 'Roberto', 'Giulia']\n"
          ]
        }
      ]
    },
    {
      "cell_type": "markdown",
      "source": [
        "Vediamo ora un po' di esercizi con le funzioni più usate.  \n",
        "Ricorda: non è importante ricordarsi esattamente il nome della funzione, ma sapere che è possibile fare una certa operazione con la variabile a cui stiamo lavorando"
      ],
      "metadata": {
        "id": "Q2plwSDnQoZY"
      }
    },
    {
      "cell_type": "markdown",
      "source": [
        "### len()  \n",
        "Conta quanti elementi ci sono in una lista."
      ],
      "metadata": {
        "id": "IJRVknGE2tTi"
      }
    },
    {
      "cell_type": "code",
      "source": [
        "alunni = [\"Mario\", \"Anna\", \"Roberto\", \"Giulia\"]\n",
        "print(len(alunni))"
      ],
      "metadata": {
        "colab": {
          "base_uri": "https://localhost:8080/"
        },
        "id": "mnTbj5CMQpp_",
        "outputId": "abd5efcc-a25a-47b0-da18-0cb4846ce6d2"
      },
      "execution_count": 6,
      "outputs": [
        {
          "output_type": "stream",
          "name": "stdout",
          "text": [
            "4\n"
          ]
        }
      ]
    },
    {
      "cell_type": "markdown",
      "source": [
        "### append()  \n",
        "Aggiunge un elemento alla fine della lista."
      ],
      "metadata": {
        "id": "v8RffvJL2xld"
      }
    },
    {
      "cell_type": "code",
      "source": [
        "alunni = [\"Mario\", \"Anna\", \"Roberto\", \"Giulia\"]\n",
        "alunni.append('Sara')\n",
        "print(alunni)"
      ],
      "metadata": {
        "colab": {
          "base_uri": "https://localhost:8080/"
        },
        "id": "GeTD3pTTQpsz",
        "outputId": "8a00ec91-091b-48a6-d1aa-405d3666f7be"
      },
      "execution_count": 7,
      "outputs": [
        {
          "output_type": "stream",
          "name": "stdout",
          "text": [
            "['Mario', 'Anna', 'Roberto', 'Giulia', 'Sara']\n"
          ]
        }
      ]
    },
    {
      "cell_type": "markdown",
      "source": [
        "### extend()  \n",
        "Sposta gli elementi di una lista in un'altra.  \n",
        "(non inserisce la lista stessa, ma solo gli elementi all'interno)"
      ],
      "metadata": {
        "id": "RkAlyUfz2_fN"
      }
    },
    {
      "cell_type": "code",
      "source": [
        "alunni = [\"Mario\", \"Anna\", \"Roberto\", \"Giulia\"]\n",
        "nuovi_alunni = [\"Paolo\", \"Chiara\"]\n",
        "alunni.extend(nuovi_alunni)\n",
        "print(alunni)"
      ],
      "metadata": {
        "colab": {
          "base_uri": "https://localhost:8080/"
        },
        "id": "R4uSBKrUQpv6",
        "outputId": "8dcff991-f3db-4451-8c48-06cd9a466f0a"
      },
      "execution_count": 8,
      "outputs": [
        {
          "output_type": "stream",
          "name": "stdout",
          "text": [
            "['Mario', 'Anna', 'Roberto', 'Giulia', 'Paolo', 'Chiara']\n"
          ]
        }
      ]
    },
    {
      "cell_type": "markdown",
      "source": [
        "### insert()  \n",
        "Inserisce un valore in una posizione specifica data dall'indice."
      ],
      "metadata": {
        "id": "M7p4hA0P3aZ1"
      }
    },
    {
      "cell_type": "code",
      "source": [
        "alunni = [\"Mario\", \"Anna\", \"Roberto\", \"Giulia\"]\n",
        "alunni.insert(0, \"Andrea\") # All'indice 0 aggiungiamo il nome Andrea.\n",
        "print(alunni)"
      ],
      "metadata": {
        "colab": {
          "base_uri": "https://localhost:8080/"
        },
        "id": "iDNxdY0uQpyo",
        "outputId": "b6ce7aa7-19ef-45e3-db76-7eb240248643"
      },
      "execution_count": 9,
      "outputs": [
        {
          "output_type": "stream",
          "name": "stdout",
          "text": [
            "['Andrea', 'Mario', 'Anna', 'Roberto', 'Giulia']\n"
          ]
        }
      ]
    },
    {
      "cell_type": "markdown",
      "source": [
        "### remove()  \n",
        "Rimuove la prima occorenza del valore specificato come parametro"
      ],
      "metadata": {
        "id": "KCKiJ9W63sKd"
      }
    },
    {
      "cell_type": "code",
      "source": [
        "alunni = [\"Mario\", \"Anna\", \"Roberto\", \"Giulia\"]\n",
        "alunni.remove(\"Roberto\")\n",
        "print(alunni)"
      ],
      "metadata": {
        "colab": {
          "base_uri": "https://localhost:8080/"
        },
        "id": "yO_y-V4JQp1X",
        "outputId": "3aad9a8a-5034-4b2d-e615-fcc9ef8a5fb4"
      },
      "execution_count": 10,
      "outputs": [
        {
          "output_type": "stream",
          "name": "stdout",
          "text": [
            "['Mario', 'Anna', 'Giulia']\n"
          ]
        }
      ]
    },
    {
      "cell_type": "markdown",
      "source": [
        "### index()  \n",
        "Restituisce l'indice della prima occorrenza del valore specificato"
      ],
      "metadata": {
        "id": "Qz_GWqXk33p9"
      }
    },
    {
      "cell_type": "code",
      "source": [
        "alunni = [\"Mario\", \"Anna\", \"Roberto\", \"Giulia\"]\n",
        "alunni.index(\"Giulia\")"
      ],
      "metadata": {
        "colab": {
          "base_uri": "https://localhost:8080/"
        },
        "id": "dHgRvnPqQp3g",
        "outputId": "a04b63b4-c7ec-4564-d391-efd1b96c109b"
      },
      "execution_count": 11,
      "outputs": [
        {
          "output_type": "execute_result",
          "data": {
            "text/plain": [
              "3"
            ]
          },
          "metadata": {},
          "execution_count": 11
        }
      ]
    },
    {
      "cell_type": "markdown",
      "source": [
        "### count()  \n",
        "Conta il numero di elementi nella lista uguali al parametro"
      ],
      "metadata": {
        "id": "iWRepnm33-dx"
      }
    },
    {
      "cell_type": "code",
      "source": [
        "alunni = [\"Mario\", \"Anna\", \"Roberto\", \"Giulia\"]\n",
        "alunni.count(\"Paolo\")\n",
        "alunni.count(\"Anna\")"
      ],
      "metadata": {
        "colab": {
          "base_uri": "https://localhost:8080/"
        },
        "id": "ULPEOe3DQp63",
        "outputId": "76402514-da64-48f4-ca9a-fdb29df7d634"
      },
      "execution_count": 12,
      "outputs": [
        {
          "output_type": "execute_result",
          "data": {
            "text/plain": [
              "1"
            ]
          },
          "metadata": {},
          "execution_count": 12
        }
      ]
    },
    {
      "cell_type": "markdown",
      "source": [
        "### sort()  \n",
        "Ordina la lista in ordine crescente per i numeri, e in ordine alfabetico per le stringhe."
      ],
      "metadata": {
        "id": "14yglib34Gem"
      }
    },
    {
      "cell_type": "code",
      "source": [
        "alunni = [\"Mario\", \"Anna\", \"Roberto\", \"Giulia\"]\n",
        "alunni.sort()\n",
        "print(alunni)\n",
        "\n",
        "numeri = [2,7,4,1,3,8,9,5,2,5,1]\n",
        "numeri.sort()\n",
        "print(numeri)"
      ],
      "metadata": {
        "colab": {
          "base_uri": "https://localhost:8080/"
        },
        "id": "RYFn0hRuQqc0",
        "outputId": "6bef8089-ddca-4d9b-9b95-faf1805b4ca8"
      },
      "execution_count": 13,
      "outputs": [
        {
          "output_type": "stream",
          "name": "stdout",
          "text": [
            "['Anna', 'Giulia', 'Mario', 'Roberto']\n",
            "[1, 1, 2, 2, 3, 4, 5, 5, 7, 8, 9]\n"
          ]
        }
      ]
    },
    {
      "cell_type": "markdown",
      "source": [
        "### reverse()  \n",
        "Inverte l'ordine della lista, che sia ordinata o meno."
      ],
      "metadata": {
        "id": "gwICYfwQ4eQZ"
      }
    },
    {
      "cell_type": "code",
      "source": [
        "alunni = [\"Mario\", \"Anna\", \"Roberto\", \"Giulia\"]\n",
        "alunni.reverse()\n",
        "print(alunni)\n",
        "\n",
        "numeri = [2,7,4,1,3,8,9,5,2,5,1]\n",
        "numeri.reverse()\n",
        "print(numeri)"
      ],
      "metadata": {
        "colab": {
          "base_uri": "https://localhost:8080/"
        },
        "id": "0E3PKpBdQqgP",
        "outputId": "2caf1f0c-9ef7-4a5e-cb18-6c4ca08c7d33"
      },
      "execution_count": 14,
      "outputs": [
        {
          "output_type": "stream",
          "name": "stdout",
          "text": [
            "['Giulia', 'Roberto', 'Anna', 'Mario']\n",
            "[1, 5, 2, 5, 9, 8, 3, 1, 4, 7, 2]\n"
          ]
        }
      ]
    },
    {
      "cell_type": "markdown",
      "source": [
        "## Dizionari\n",
        "I dizionari sono una struttura dati fondamentale in python, in quanto consentono di gestire meglio i dati, sia in termini di praticità che di velocità.  \n",
        "\n",
        "Un dizionario è composto da due elementi: la chiave e il valore.  \n",
        "**la chiave** ha una funzione di etichetta per richiamare uno specifico valore (simile all'indice di una lista). Può essere una stringa o un numero, e deve sempre essere univoco.  \n",
        "**Il valore** invece può essere qualsiasi tipo di dato.  \n",
        "\n",
        "Per creare un dizionario si usano le parentesi graffe '**{}**'.  \n",
        "Vediamo ora come assegnare invece i valori"
      ],
      "metadata": {
        "id": "MNXxe4z6KHd7"
      }
    },
    {
      "cell_type": "markdown",
      "source": [
        "### primo metodo  \n",
        "Assegnazione dei valori al momento della creazione del dizionario"
      ],
      "metadata": {
        "id": "sq1tx_Dw6Xiu"
      }
    },
    {
      "cell_type": "code",
      "source": [
        "studente = {'nome': 'Alice', 'età': 25, 'città': 'Roma'}\n",
        "print(studente)"
      ],
      "metadata": {
        "id": "2ZxNhf3fKJmT",
        "colab": {
          "base_uri": "https://localhost:8080/"
        },
        "outputId": "183c6453-0936-46d0-dd99-70d3b69a3db9"
      },
      "execution_count": 15,
      "outputs": [
        {
          "output_type": "stream",
          "name": "stdout",
          "text": [
            "{'nome': 'Alice', 'età': 25, 'città': 'Roma'}\n"
          ]
        }
      ]
    },
    {
      "cell_type": "markdown",
      "source": [
        "### secondo metodo  \n",
        "Aggiungere un valore dopo che il dizionario è già stato creato"
      ],
      "metadata": {
        "id": "lmLicVs76dXf"
      }
    },
    {
      "cell_type": "code",
      "source": [
        "professore = {}\n",
        "professore['nome'] = 'Marco'\n",
        "professore['età'] = '48'\n",
        "professore['città'] = 'Milano'"
      ],
      "metadata": {
        "id": "7mOuVMmbVp-I"
      },
      "execution_count": 16,
      "outputs": []
    },
    {
      "cell_type": "markdown",
      "source": [
        "### accesso ai dati\n",
        "come abbiamo detto prima, si usa la chiave"
      ],
      "metadata": {
        "id": "h10h4x2q6mTT"
      }
    },
    {
      "cell_type": "code",
      "source": [
        "print(professore['nome'])"
      ],
      "metadata": {
        "colab": {
          "base_uri": "https://localhost:8080/"
        },
        "id": "AU76PLrcVqAE",
        "outputId": "dfe74a70-08a4-4d6d-fdca-b5d7699fdbac"
      },
      "execution_count": 17,
      "outputs": [
        {
          "output_type": "stream",
          "name": "stdout",
          "text": [
            "Marco\n"
          ]
        }
      ]
    },
    {
      "cell_type": "markdown",
      "source": [
        "### modificare un valore\n",
        "è possibile assegnando direttamente il nuovo valore al campo (chiave) specifico"
      ],
      "metadata": {
        "id": "aCBIaoxF67Ue"
      }
    },
    {
      "cell_type": "code",
      "source": [
        "# Vecchio dizionario:\n",
        "professore = {}\n",
        "professore['nome'] = 'Marco'\n",
        "professore['età'] = '48'\n",
        "professore['città'] = 'Milano'\n",
        "\n",
        "# Nuovo dizionario corretto:\n",
        "professore['nome'] = 'Andrea'\n",
        "print(professore)"
      ],
      "metadata": {
        "colab": {
          "base_uri": "https://localhost:8080/"
        },
        "id": "pGvlEBPWVqDp",
        "outputId": "b9f2c87e-ede1-4125-a78a-183148e81166"
      },
      "execution_count": 18,
      "outputs": [
        {
          "output_type": "stream",
          "name": "stdout",
          "text": [
            "{'nome': 'Andrea', 'età': '48', 'città': 'Milano'}\n"
          ]
        }
      ]
    },
    {
      "cell_type": "markdown",
      "source": [
        "Vediamo ora le funzioni più comuni da usare con i dizionari"
      ],
      "metadata": {
        "id": "nLRu3kyrXI1I"
      }
    },
    {
      "cell_type": "code",
      "source": [
        "# Creiamo prima un dizionario con qualche dato che useremo per i prossimi esempi:\n",
        "partner = {\n",
        "    'nome': 'Luca',\n",
        "    'età': 30,\n",
        "    'città': 'Pisa',\n",
        "    'lavoro': 'Barista',\n",
        "    'hobby': ['reading', 'coding', 'hiking'],\n",
        "    'studente': False,\n",
        "    'voti': {'matematica': 9, 'inglese': 8, 'storia': 7}\n",
        "}"
      ],
      "metadata": {
        "id": "UjfFl7vKXPsJ"
      },
      "execution_count": 19,
      "outputs": []
    },
    {
      "cell_type": "markdown",
      "source": [
        "### len()\n",
        "Resituisce il numero di coppie chiave-valore"
      ],
      "metadata": {
        "id": "_0PAzBLZ7sSi"
      }
    },
    {
      "cell_type": "code",
      "source": [
        "len(partner)"
      ],
      "metadata": {
        "colab": {
          "base_uri": "https://localhost:8080/"
        },
        "id": "WEuA8ytNXQMJ",
        "outputId": "f7a6f978-ea8e-4c1a-f83b-9b3b6b1ddaa7"
      },
      "execution_count": 20,
      "outputs": [
        {
          "output_type": "execute_result",
          "data": {
            "text/plain": [
              "7"
            ]
          },
          "metadata": {},
          "execution_count": 20
        }
      ]
    },
    {
      "cell_type": "markdown",
      "source": [
        "### keys()\n",
        "Elenca solo le chiavi"
      ],
      "metadata": {
        "id": "aAoyx8x87yD9"
      }
    },
    {
      "cell_type": "code",
      "source": [
        "print(partner.keys())"
      ],
      "metadata": {
        "colab": {
          "base_uri": "https://localhost:8080/"
        },
        "id": "WvB1xFJ_XQOf",
        "outputId": "1930a64a-cc8f-4398-cb3d-afc9ba5b457c"
      },
      "execution_count": 21,
      "outputs": [
        {
          "output_type": "stream",
          "name": "stdout",
          "text": [
            "dict_keys(['nome', 'età', 'città', 'lavoro', 'hobby', 'studente', 'voti'])\n"
          ]
        }
      ]
    },
    {
      "cell_type": "markdown",
      "source": [
        "### values()\n",
        "Elenca solo i valori"
      ],
      "metadata": {
        "id": "Oc6oSiAR71oa"
      }
    },
    {
      "cell_type": "code",
      "source": [
        "print(partner.values())"
      ],
      "metadata": {
        "colab": {
          "base_uri": "https://localhost:8080/"
        },
        "id": "SPMtRrtpXQQu",
        "outputId": "046cbd7a-b8c1-41e3-ff1c-9fcb0ea9f4b2"
      },
      "execution_count": 22,
      "outputs": [
        {
          "output_type": "stream",
          "name": "stdout",
          "text": [
            "dict_values(['Luca', 30, 'Pisa', 'Barista', ['reading', 'coding', 'hiking'], False, {'matematica': 9, 'inglese': 8, 'storia': 7}])\n"
          ]
        }
      ]
    },
    {
      "cell_type": "markdown",
      "source": [
        "### items()\n",
        "Elenca tutte le coppie chiave-valore"
      ],
      "metadata": {
        "id": "zF_P6rGd74Ll"
      }
    },
    {
      "cell_type": "code",
      "source": [
        "partner.items()"
      ],
      "metadata": {
        "colab": {
          "base_uri": "https://localhost:8080/"
        },
        "id": "JCbScy6VXQS_",
        "outputId": "e0acbc85-e7d6-4c11-cf43-4b67755173c6"
      },
      "execution_count": 23,
      "outputs": [
        {
          "output_type": "execute_result",
          "data": {
            "text/plain": [
              "dict_items([('nome', 'Luca'), ('età', 30), ('città', 'Pisa'), ('lavoro', 'Barista'), ('hobby', ['reading', 'coding', 'hiking']), ('studente', False), ('voti', {'matematica': 9, 'inglese': 8, 'storia': 7})])"
            ]
          },
          "metadata": {},
          "execution_count": 23
        }
      ]
    },
    {
      "cell_type": "markdown",
      "source": [
        "### get()\n",
        "Restituice il valore della chiave specificata se presente, altrimenti restiuisce un valore di default da noi specificato"
      ],
      "metadata": {
        "id": "J6ac2tRA78BH"
      }
    },
    {
      "cell_type": "code",
      "source": [
        "print(partner.get('nome', 'nome non presente'))\n",
        "\n",
        "print(partner.get('cognome', 'cognome non presente'))"
      ],
      "metadata": {
        "colab": {
          "base_uri": "https://localhost:8080/"
        },
        "id": "HkHRlVDeXQVd",
        "outputId": "a7a610f0-59a3-4dbd-a071-c2c260ce4fb0"
      },
      "execution_count": 24,
      "outputs": [
        {
          "output_type": "stream",
          "name": "stdout",
          "text": [
            "Luca\n",
            "cognome non presente\n"
          ]
        }
      ]
    },
    {
      "cell_type": "markdown",
      "source": [
        "### pop()\n",
        "Elimina una coppia chiave-valore e restituisce solo il valore eliminato"
      ],
      "metadata": {
        "id": "0H2NHIm58N3t"
      }
    },
    {
      "cell_type": "code",
      "source": [
        "dato_eliminato = partner.pop('città')\n",
        "print(dato_eliminato)\n",
        "print(partner.get('città', 'città non presente nel dizionario'))"
      ],
      "metadata": {
        "colab": {
          "base_uri": "https://localhost:8080/"
        },
        "id": "zWZmOh5LXQXn",
        "outputId": "b9235e7e-0865-463d-d5d0-ce552af7d6f5"
      },
      "execution_count": 25,
      "outputs": [
        {
          "output_type": "stream",
          "name": "stdout",
          "text": [
            "Pisa\n",
            "città non presente nel dizionario\n"
          ]
        }
      ]
    },
    {
      "cell_type": "markdown",
      "source": [
        "### popitem()\n",
        "Elimina l'ultima coppia chiave-valore del dizionario e restituisce entrambi"
      ],
      "metadata": {
        "id": "arhxNfup8XYK"
      }
    },
    {
      "cell_type": "code",
      "source": [
        "dato_eliminato = partner.popitem()\n",
        "print('1 ', dato_eliminato)\n",
        "print('2 ', partner)"
      ],
      "metadata": {
        "colab": {
          "base_uri": "https://localhost:8080/"
        },
        "id": "6qCFaVdjXQZ0",
        "outputId": "587cea42-b96c-4b7e-d03b-6e0f035baeac"
      },
      "execution_count": 26,
      "outputs": [
        {
          "output_type": "stream",
          "name": "stdout",
          "text": [
            "1  ('voti', {'matematica': 9, 'inglese': 8, 'storia': 7})\n",
            "2  {'nome': 'Luca', 'età': 30, 'lavoro': 'Barista', 'hobby': ['reading', 'coding', 'hiking'], 'studente': False}\n"
          ]
        }
      ]
    },
    {
      "cell_type": "markdown",
      "source": [
        "### update()\n",
        "Aggiorna le coppie chiave-valore con quelle di un'altro dizionario"
      ],
      "metadata": {
        "id": "-CrXXh5d8bSj"
      }
    },
    {
      "cell_type": "code",
      "source": [
        "print('Dizionario prima: ', partner.items())\n",
        "\n",
        "# Creo un nuovo dizionario\n",
        "nuovi_dati = {'età': 35, 'lavoro': 'Insegnante', 'sposato': True}\n",
        "partner.update(nuovi_dati)\n",
        "\n",
        "# Vediamo il dizionario vecchio aggiornato\n",
        "print('Dizionario dopo: ', partner.items())"
      ],
      "metadata": {
        "colab": {
          "base_uri": "https://localhost:8080/"
        },
        "id": "Mo1DQTwsXQdg",
        "outputId": "304239f3-4b60-488f-cf8f-3f3afe14a133"
      },
      "execution_count": 27,
      "outputs": [
        {
          "output_type": "stream",
          "name": "stdout",
          "text": [
            "Dizionario prima:  dict_items([('nome', 'Luca'), ('età', 30), ('lavoro', 'Barista'), ('hobby', ['reading', 'coding', 'hiking']), ('studente', False)])\n",
            "Dizionario dopo:  dict_items([('nome', 'Luca'), ('età', 35), ('lavoro', 'Insegnante'), ('hobby', ['reading', 'coding', 'hiking']), ('studente', False), ('sposato', True)])\n"
          ]
        }
      ]
    },
    {
      "cell_type": "markdown",
      "source": [
        "## Facciamo un po' di pratica:"
      ],
      "metadata": {
        "id": "Y4wSb1A9zeXB"
      }
    },
    {
      "cell_type": "markdown",
      "source": [
        "Hai appena creato un nuovo social network e vuoi creare un utente fittizio per testare il suo funzionamento\n",
        "Crea un dizionario che contenga alcune informazioni sul tuo utente fittizio (nome, cognome, età, luogo, interessi)"
      ],
      "metadata": {
        "id": "TXqHVoqb8-V8"
      }
    },
    {
      "cell_type": "code",
      "source": [
        "utente = {\"nome\":\"Mario\",\n",
        "          \"cognome\":\"Rossi\",\n",
        "          \"età\":30,\n",
        "          \"luogo\":\"Parma\",\n",
        "          \"interessi\":['natura', 'sport', 'cibo']}"
      ],
      "metadata": {
        "id": "yUt0DxrJzlk1"
      },
      "execution_count": 28,
      "outputs": []
    },
    {
      "cell_type": "markdown",
      "source": [
        "Ti accorgi di aver sbagliato gli interessi e vuoi sostituire sport con Netflix"
      ],
      "metadata": {
        "id": "t7mQC2T-9HnZ"
      }
    },
    {
      "cell_type": "code",
      "source": [
        "utente['interessi'][1] = 'Netflix'"
      ],
      "metadata": {
        "id": "GsPzibbNznSI"
      },
      "execution_count": 29,
      "outputs": []
    },
    {
      "cell_type": "markdown",
      "source": [
        "L'utente ha da poco compiuto gli anni, aggiungi 1 anno alla sua età"
      ],
      "metadata": {
        "id": "VH1-gSrx9Op4"
      }
    },
    {
      "cell_type": "code",
      "source": [
        "utente['età'] += 1"
      ],
      "metadata": {
        "id": "9InfGXmd1UKE"
      },
      "execution_count": 30,
      "outputs": []
    },
    {
      "cell_type": "markdown",
      "source": [
        "Una nuova legge ti vieta di memorizzare il luogo degli utenti. Eliminalo."
      ],
      "metadata": {
        "id": "sM_KK6G79Sjs"
      }
    },
    {
      "cell_type": "code",
      "source": [
        "utente.pop('luogo')\n",
        "# oppure\n",
        "# del utente['luogo']"
      ],
      "metadata": {
        "colab": {
          "base_uri": "https://localhost:8080/",
          "height": 36
        },
        "id": "A3pY64us1X4T",
        "outputId": "7f1354df-a781-4a82-b834-1507f20fade0"
      },
      "execution_count": 31,
      "outputs": [
        {
          "output_type": "execute_result",
          "data": {
            "text/plain": [
              "'Parma'"
            ],
            "application/vnd.google.colaboratory.intrinsic+json": {
              "type": "string"
            }
          },
          "metadata": {},
          "execution_count": 31
        }
      ]
    },
    {
      "cell_type": "markdown",
      "source": [
        "Decidi di aggiornare il tuo social network e hai bisogno di ulteriori informazioni (studente, lavoro_desiderato, account_privato)"
      ],
      "metadata": {
        "id": "PHarKak29Wv2"
      }
    },
    {
      "cell_type": "code",
      "source": [
        "aggiornamento = {'studente': True,\n",
        "                 'lavoro_desiderato': 'veterinario',\n",
        "                 'account_privato': False}\n",
        "utente.update(aggiornamento)"
      ],
      "metadata": {
        "id": "CL0fR1l91YBG"
      },
      "execution_count": 32,
      "outputs": []
    },
    {
      "cell_type": "code",
      "source": [
        "print(utente)"
      ],
      "metadata": {
        "colab": {
          "base_uri": "https://localhost:8080/"
        },
        "id": "eot1YqN23iaL",
        "outputId": "074ba25b-bede-4c50-e987-2e34d1d08437"
      },
      "execution_count": 33,
      "outputs": [
        {
          "output_type": "stream",
          "name": "stdout",
          "text": [
            "{'nome': 'Mario', 'cognome': 'Rossi', 'età': 31, 'interessi': ['natura', 'Netflix', 'cibo'], 'studente': True, 'lavoro_desiderato': 'veterinario', 'account_privato': False}\n"
          ]
        }
      ]
    }
  ]
}