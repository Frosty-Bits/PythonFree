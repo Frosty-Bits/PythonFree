{
  "nbformat": 4,
  "nbformat_minor": 0,
  "metadata": {
    "colab": {
      "provenance": [],
      "authorship_tag": "ABX9TyPIY5fg6ZtgFbfL1j/4ToAR",
      "include_colab_link": true
    },
    "kernelspec": {
      "name": "python3",
      "display_name": "Python 3"
    },
    "language_info": {
      "name": "python"
    }
  },
  "cells": [
    {
      "cell_type": "markdown",
      "metadata": {
        "id": "view-in-github",
        "colab_type": "text"
      },
      "source": [
        "<a href=\"https://colab.research.google.com/github/Frosty-Bits/PythonFree/blob/main/Python_Lesson_7.ipynb\" target=\"_parent\"><img src=\"https://colab.research.google.com/assets/colab-badge.svg\" alt=\"Open In Colab\"/></a>"
      ]
    },
    {
      "cell_type": "markdown",
      "source": [
        "## Loops\n",
        "Immagina di essere un influencer di fama mondiale, con oltre un milione di followers. Hai un ottimo rapporto con i tuoi fans e ti piace ringraziarli sotto ogni commento che fanno, ma farlo manualemente ti sta impiegando troppo tempo. Hai bisogno di automatizzare questo processo e creare un programma che per ogni commento, risponda con un ringraziamento."
      ],
      "metadata": {
        "id": "OC1ZtkYBBXr9"
      }
    },
    {
      "cell_type": "code",
      "source": [
        "# Processo manuale\n",
        "commenti = [\"Utente1: Bel video\", \"Utente2: Sei il numero 1\", \"Utente3: Bro 💀\", \"Utente4: Ti prego salutami\", \"Utente5: Con questa tecnica segreta ho perso 5 kg al giorno, scrivimi in DM per saperne di più\"]\n",
        "print(\"Grazie Utente1!\")\n",
        "print(\"Grazie Utente2!\")\n",
        "print(\"Grazie Utente3!\")\n",
        "print(\"Grazie Utente4!\")\n",
        "print(\"Grazie Utente5!\")"
      ],
      "metadata": {
        "id": "QrkRI3ELEDEx",
        "colab": {
          "base_uri": "https://localhost:8080/"
        },
        "outputId": "935e6dfd-eb50-4d22-fab9-1d31668d27e3"
      },
      "execution_count": 12,
      "outputs": [
        {
          "output_type": "stream",
          "name": "stdout",
          "text": [
            "Grazie Utente1!\n",
            "Grazie Utente2!\n",
            "Grazie Utente3!\n",
            "Grazie Utente4!\n",
            "Grazie Utente5!\n"
          ]
        }
      ]
    },
    {
      "cell_type": "markdown",
      "source": [
        "Come vedi scrivere a ciascuna persona può richiedere un sacco di tempo, soprattutto quando i numeri scalano a livello di migliaia di persone.  \n",
        "Proviamo ora un metodo più veloce usando un loop"
      ],
      "metadata": {
        "id": "xr-0miGBkcFX"
      }
    },
    {
      "cell_type": "code",
      "source": [
        "# Processo automatizzato\n",
        "commenti = [\"Utente1: Bel video\", \"Utente2: Sei il numero 1\", \"Utente3: Bro 💀\", \"Utente4: Ti prego salutami\", \"Utente5: Con questa tecnica segreta ho perso 5 kg al giorno, scrivimi in DM per saperne di più\"]\n",
        "for commento in commenti:\n",
        "  x = commento.find(\":\")\n",
        "  print(f\"Grazie {commento[:x]}!\")"
      ],
      "metadata": {
        "colab": {
          "base_uri": "https://localhost:8080/"
        },
        "id": "MYBBuHb-hhOE",
        "outputId": "7a19354f-2308-4487-b1e5-0745466993f9"
      },
      "execution_count": 13,
      "outputs": [
        {
          "output_type": "stream",
          "name": "stdout",
          "text": [
            "Grazie Utente1!\n",
            "Grazie Utente2!\n",
            "Grazie Utente3!\n",
            "Grazie Utente4!\n",
            "Grazie Utente5!\n"
          ]
        }
      ]
    },
    {
      "cell_type": "markdown",
      "source": [
        "Analizziamo il codice appena visto:  \n",
        "\n",
        "\n",
        "```python\n",
        "for commento in commenti:\n",
        "```\n",
        "Il **for** serve a far capire alla macchina che vogliamo iniziare un loop,  \n",
        "il **commento** è una variabile che stiamo creando a turno (per ogni loop) che avrà come valore un singolo elemento alla volta della lista,  \n",
        "**in** indica su quale oggetto il ciclo deve iterare, ovvero da dove prendere uno ad uno i valori al suo interno\n",
        "**commenti** è la nostra lista che verrà spezzettata per elementi. Il loop funziona non solo con le liste come in questo caso, ma anche tutti gli oggetti iterabili: stringhe, dizionari, tuple, range ed altri elementi che vedremo a breve.\n",
        "\n",
        "\n",
        "```python\n",
        "x = commento.find(\":\")\n",
        "```\n",
        "La funzione find controlla nella variabile \"commento\" a quale indice si trova la prima sottostringa \":\" ovvero i due punti e ci restituisci come int l'indice che salviamo nella variabile x.  \n",
        "\n",
        "```python\n",
        "print(f\"Grazie {commento[:x]}!\")\n",
        "```\n",
        "Grazie allo slicing possiamo separare il nome dell'utente usando la x trovata prima come parametro di dove chiudere lo slicing."
      ],
      "metadata": {
        "id": "ccMaP1EhKqPx"
      }
    },
    {
      "cell_type": "markdown",
      "source": [
        "## Ciclo for:\n",
        "Quello che abbiamo appena visto si chiama \"ciclo for\". Esso si distingue perchè a seconda dell'oggetto su cui stiamo iterando, restitusice un valore diverso.\n",
        "Vediamo qualche esempio:"
      ],
      "metadata": {
        "id": "92qgtXaDNit_"
      }
    },
    {
      "cell_type": "markdown",
      "source": [
        "### Stringhe"
      ],
      "metadata": {
        "id": "4jDpXWeHoGru"
      }
    },
    {
      "cell_type": "code",
      "source": [
        "for lettera in \"Alfabeto\": # la variabile lettera è assegnata da noi, siamo noi a chiamarla \"lettera\", ma potrebbe avere qualsiasi altro nome\n",
        "  print(lettera)"
      ],
      "metadata": {
        "colab": {
          "base_uri": "https://localhost:8080/"
        },
        "id": "mbCLMvpWNb3X",
        "outputId": "f1531ad6-92cb-42fd-8cdf-33687d8174b6"
      },
      "execution_count": 14,
      "outputs": [
        {
          "output_type": "stream",
          "name": "stdout",
          "text": [
            "A\n",
            "l\n",
            "f\n",
            "a\n",
            "b\n",
            "e\n",
            "t\n",
            "o\n"
          ]
        }
      ]
    },
    {
      "cell_type": "markdown",
      "source": [
        "### Liste"
      ],
      "metadata": {
        "id": "JJNBQHgkoJyp"
      }
    },
    {
      "cell_type": "code",
      "source": [
        "numeri = [1,2,3,4]\n",
        "for x in numeri: # creiamo la variabile x e la usiamo nel print() nella riga successiva\n",
        "  print(x)\n"
      ],
      "metadata": {
        "colab": {
          "base_uri": "https://localhost:8080/"
        },
        "id": "9O61JGm5N4YX",
        "outputId": "cc879b28-cfcf-4e4b-b1c1-a7961f6d5cc3"
      },
      "execution_count": 15,
      "outputs": [
        {
          "output_type": "stream",
          "name": "stdout",
          "text": [
            "1\n",
            "2\n",
            "3\n",
            "4\n"
          ]
        }
      ]
    },
    {
      "cell_type": "markdown",
      "source": [
        "### Dizionari"
      ],
      "metadata": {
        "id": "P2N9TuxCoNUl"
      }
    },
    {
      "cell_type": "code",
      "source": [
        "dizionario = {\"a\": 1, \"b\": 2, \"c\": 3}\n",
        "# quando stiamo iterando su un dizionario, ci viene restituita di default la chiave\n",
        "for chiave in dizionario:\n",
        "    print(chiave)"
      ],
      "metadata": {
        "colab": {
          "base_uri": "https://localhost:8080/"
        },
        "id": "ACIRgdwEN4ac",
        "outputId": "2ad935e3-7bcc-41f0-a30a-eb6660c1a7dc"
      },
      "execution_count": 16,
      "outputs": [
        {
          "output_type": "stream",
          "name": "stdout",
          "text": [
            "a\n",
            "b\n",
            "c\n"
          ]
        }
      ]
    },
    {
      "cell_type": "code",
      "source": [
        "dizionario = {\"a\": 1, \"b\": 2, \"c\": 3}\n",
        "# possiamo anche però iterare su coppia-valore in questo modo:\n",
        "for chiave, valore in dizionario.items():\n",
        "    print(f'La chiave {chiave} ha valore {valore}')"
      ],
      "metadata": {
        "id": "Ac3NI14WN4cl",
        "colab": {
          "base_uri": "https://localhost:8080/"
        },
        "outputId": "cb70eb87-e9ff-4858-d0d2-77cebaa621ed"
      },
      "execution_count": 17,
      "outputs": [
        {
          "output_type": "stream",
          "name": "stdout",
          "text": [
            "La chiave a ha valore 1\n",
            "La chiave b ha valore 2\n",
            "La chiave c ha valore 3\n"
          ]
        }
      ]
    },
    {
      "cell_type": "markdown",
      "source": [
        "### Funzione range()\n",
        "uno dei modi più utilizzati del ciclo for è insieme alla funzione range().  \n",
        "La funzione range(x,y,z) crea una lista di numeri che parte da x e arriva fino a y-1 aggiungendo z a x finchè non arriva al valore y-1.  \n",
        "Il parametro z può non essere specificato, in quel caso il valore di default è 1.  \n",
        "Aggiungendo la funzione list() si può creare una lista con i numeri creati da range()"
      ],
      "metadata": {
        "id": "HHUeTIH6oRgj"
      }
    },
    {
      "cell_type": "code",
      "source": [
        "print(list(range(1,10)))"
      ],
      "metadata": {
        "colab": {
          "base_uri": "https://localhost:8080/"
        },
        "id": "f06Q7H4Lo9wA",
        "outputId": "9d97afef-fce4-4a9c-8018-6249418cfca2"
      },
      "execution_count": 18,
      "outputs": [
        {
          "output_type": "stream",
          "name": "stdout",
          "text": [
            "[1, 2, 3, 4, 5, 6, 7, 8, 9]\n"
          ]
        }
      ]
    },
    {
      "cell_type": "code",
      "source": [
        "print(list(range(1,10,2)))"
      ],
      "metadata": {
        "colab": {
          "base_uri": "https://localhost:8080/"
        },
        "id": "9sw00j7tpRl5",
        "outputId": "a684d89a-9ec6-4854-8d4f-abff8c1dbc4d"
      },
      "execution_count": 19,
      "outputs": [
        {
          "output_type": "stream",
          "name": "stdout",
          "text": [
            "[1, 3, 5, 7, 9]\n"
          ]
        }
      ]
    },
    {
      "cell_type": "code",
      "source": [
        "for x in range(1,11):\n",
        "  print(x)"
      ],
      "metadata": {
        "id": "QXgnuXYMN4gO",
        "colab": {
          "base_uri": "https://localhost:8080/"
        },
        "outputId": "04302e06-70df-49f9-d2ee-fdf6c5f72eaa"
      },
      "execution_count": 20,
      "outputs": [
        {
          "output_type": "stream",
          "name": "stdout",
          "text": [
            "1\n",
            "2\n",
            "3\n",
            "4\n",
            "5\n",
            "6\n",
            "7\n",
            "8\n",
            "9\n",
            "10\n"
          ]
        }
      ]
    },
    {
      "cell_type": "markdown",
      "source": [
        "## Ciclo while:\n",
        "Un altro metodo per creare dei loop è usare il **while**, che in italiano possiamo tradurre con \"fino a quando\".  \n",
        "Immagina di preparare l'espresso per i tuoi amici. Vuoi continuare a versare il caffè finché la tazza non sarà piena.  \n",
        "Un ciclo while è perfetto per le situazioni in cui desideri continuare a fare qualcosa finché non viene soddisfatta una determinata condizione."
      ],
      "metadata": {
        "id": "Jqlvt4a0CyXL"
      }
    },
    {
      "cell_type": "code",
      "source": [
        "capacità_massima_tazza = 30 #ml\n",
        "caffè_versato_alla_volta = 5 #ml\n",
        "contenuto_attuale_tazza = 0 #ml\n",
        "\n",
        "while contenuto_attuale_tazza < capacità_massima_tazza:\n",
        "  print(f'Sto versando 5 ml di caffè')\n",
        "  contenuto_attuale_tazza += caffè_versato_alla_volta\n",
        "\n",
        "print(\"Il caffè è pronto!\")"
      ],
      "metadata": {
        "colab": {
          "base_uri": "https://localhost:8080/"
        },
        "id": "EmRDUTeXCYPR",
        "outputId": "ce7d9833-2c9d-4f2f-8da1-373c54b14dba"
      },
      "execution_count": 21,
      "outputs": [
        {
          "output_type": "stream",
          "name": "stdout",
          "text": [
            "Sto versando 5 ml di caffè\n",
            "Sto versando 5 ml di caffè\n",
            "Sto versando 5 ml di caffè\n",
            "Sto versando 5 ml di caffè\n",
            "Sto versando 5 ml di caffè\n",
            "Sto versando 5 ml di caffè\n",
            "Il caffè è pronto!\n"
          ]
        }
      ]
    },
    {
      "cell_type": "markdown",
      "source": [
        "In questo caso non stiamo iterando con nessun elemento, bensì lo stesso codice verrà ripetuto per tutte le volte che la codizione \"contenuto_attuale_tazza < capacità_massima_tazza\" sarà rispettata.  \n",
        "All'ultima riga con \"contenuto_attuale_tazza += caffè_versato_alla_volta\" aggiorniamo il valore del contenuto della tazza affinchè il codice non giri all'infito, ma solo 6 volte (5+5+5+5+5+5 = 30 ml)"
      ],
      "metadata": {
        "id": "8MUYCcEaEvbc"
      }
    },
    {
      "cell_type": "markdown",
      "source": [
        "## Testa le tue abilità\n",
        "*Soluzioni a fondo pagina*"
      ],
      "metadata": {
        "id": "YZU1anK0HkEN"
      }
    },
    {
      "cell_type": "code",
      "source": [
        "# chiedi all'utente che ingredienti vuole sulla pizza, poi usa il ciclo for per dirgli che li stai aggiungendo sulla pizza."
      ],
      "metadata": {
        "id": "SVp8qkZNET-a"
      },
      "execution_count": 22,
      "outputs": []
    },
    {
      "cell_type": "code",
      "source": [
        "# sei una guida turistica al Colosseo e devi limitare il tour a 10 persone alla volta. Stampa a schermo \"Avanti un'altro!\" finchè non arrivi a 10 persone."
      ],
      "metadata": {
        "id": "pUq8mARmH0t6"
      },
      "execution_count": 23,
      "outputs": []
    },
    {
      "cell_type": "code",
      "source": [
        "# sei a Venezia con i tuoi parenti e volete farvi un giro in gondola.\n",
        "# La gondola ha un limite di 6 persone, stampa a schermo \"C'è ancora spazio!\" finchè non si raggiunge il limite."
      ],
      "metadata": {
        "id": "6pT5aL9cH0v4"
      },
      "execution_count": 24,
      "outputs": []
    },
    {
      "cell_type": "code",
      "source": [
        "# sei una maestra delle elementari e i tuoi alunni hanno sbagliato a scrivere delle parole nel dettato.\n",
        "# Dato come input la lista di errori, riscrivi le parole con la prima lettera maiuscola\n",
        "errori = [\"olanda\", \"italia\", \"mario\", \"vesuvio\", \"natale\", \"parlamento\"]"
      ],
      "metadata": {
        "id": "0r1-o7jSH05I"
      },
      "execution_count": 25,
      "outputs": []
    },
    {
      "cell_type": "markdown",
      "source": [
        "## Extra sui loop\n",
        "Esistono due altre funzioni che ci permettono di interagire con i loop.  \n",
        "la prima è **continue**, ovvero \"salta questo giro\".  \n",
        "la seconda è **break**, ovvero blocca tutto il loop e terminalo.  \n",
        "Queste funzioni ci permettono di gestire casi speciali nei nostri loop.  \n",
        "Vediamo degli esempi:"
      ],
      "metadata": {
        "id": "kqVTjOivLAsx"
      }
    },
    {
      "cell_type": "markdown",
      "source": [
        "### continue"
      ],
      "metadata": {
        "id": "O6hvokd6p9QH"
      }
    },
    {
      "cell_type": "code",
      "source": [
        "numeri = [1,2,3,4,5]\n",
        "for numero in numeri:\n",
        "  if numero == 3:\n",
        "    continue\n",
        "  print(numero)"
      ],
      "metadata": {
        "colab": {
          "base_uri": "https://localhost:8080/"
        },
        "id": "5I-ZbBoOLA1D",
        "outputId": "16884766-2fce-4cc0-bade-017a0e4241af"
      },
      "execution_count": 26,
      "outputs": [
        {
          "output_type": "stream",
          "name": "stdout",
          "text": [
            "1\n",
            "2\n",
            "4\n",
            "5\n"
          ]
        }
      ]
    },
    {
      "cell_type": "markdown",
      "source": [
        "### break"
      ],
      "metadata": {
        "id": "G0Rr9hWnqAjn"
      }
    },
    {
      "cell_type": "code",
      "source": [
        "numeri = [1,2,3,4,5]\n",
        "for numero in numeri:\n",
        "  if numero == 3:\n",
        "    break\n",
        "  print(numero)"
      ],
      "metadata": {
        "colab": {
          "base_uri": "https://localhost:8080/"
        },
        "id": "yOuoA2rPLA3x",
        "outputId": "8ed9e21b-6c40-4c6f-c7d8-57d14f5969a9"
      },
      "execution_count": 27,
      "outputs": [
        {
          "output_type": "stream",
          "name": "stdout",
          "text": [
            "1\n",
            "2\n"
          ]
        }
      ]
    },
    {
      "cell_type": "markdown",
      "source": [
        "### else\n",
        "Alla fine di un loop è anche possibile aggiungere un **else** che verrà eseguito solo se il loop ha girato correttamente  \n",
        "(nessun break è stato attivato)\n"
      ],
      "metadata": {
        "id": "QDOv09PwO2z8"
      }
    },
    {
      "cell_type": "code",
      "source": [
        "numeri = [1,2,3,4,5]\n",
        "for numero in numeri:\n",
        "  print(numero)\n",
        "else:\n",
        "  print(\"Tutti i numeri stampati correttamente\")"
      ],
      "metadata": {
        "colab": {
          "base_uri": "https://localhost:8080/"
        },
        "id": "IISBCIbdO292",
        "outputId": "72c39358-1bd8-459a-983e-87ceab8974fd"
      },
      "execution_count": 28,
      "outputs": [
        {
          "output_type": "stream",
          "name": "stdout",
          "text": [
            "1\n",
            "2\n",
            "3\n",
            "4\n",
            "5\n",
            "Tutti i numeri stampati correttamente\n"
          ]
        }
      ]
    },
    {
      "cell_type": "markdown",
      "source": [
        "## Esercizi\n",
        "*Soluzioni della lezione su youtube*"
      ],
      "metadata": {
        "id": "EUgWoSQjOLxh"
      }
    },
    {
      "cell_type": "markdown",
      "source": [
        "1. Quante volte verrà eseguito questo codice?\n",
        "\n",
        "\n",
        "```python\n",
        "for i in range(2, 10, 3):\n",
        "    print(i)\n",
        "```\n",
        "- [ ] 2\n",
        "- [ ] 3\n",
        "- [ ] 4\n",
        "- [ ] 5\n"
      ],
      "metadata": {
        "id": "tUnWnC5hOPkp"
      }
    },
    {
      "cell_type": "markdown",
      "source": [
        "2. A cosa serve l'else alla fine di un loop?\n",
        "- [ ] Per specificare la condizione per il loop\n",
        "- [ ] Per eseguire il codice dopo che il ciclo termina normalmente (ovvero senza interruzioni).\n",
        "- [ ] Per eseguire il codice all'inizio di ogni iterazione del ciclo\n",
        "- [ ] Per rilevare eccezioni o errori durante l'esecuzione del ciclo"
      ],
      "metadata": {
        "id": "C5pNteimOPm_"
      }
    },
    {
      "cell_type": "markdown",
      "source": [
        "3. Quale sarà l'output del seguente codice?\n",
        "\n",
        "```python\n",
        "x = 0\n",
        "while x < 3:\n",
        "    print(x)\n",
        "    x += 1\n",
        "```\n",
        "- [ ] 0 1 2 3\n",
        "- [ ] 1 2 3\n",
        "- [ ] 0 1 2\n",
        "- [ ] 1 2"
      ],
      "metadata": {
        "id": "D6yZqfwHOPpW"
      }
    },
    {
      "cell_type": "markdown",
      "source": [
        "4. Cosa fa l'istruzione **continue** in un ciclo?\n",
        "- [ ] Arresta il ciclo.\n",
        "- [ ] Passa alla successiva iterazione del ciclo.\n",
        "- [ ] Riavvia il ciclo dall'inizio.\n",
        "- [ ] Mette in pausa il ciclo"
      ],
      "metadata": {
        "id": "zzowHGgWOPrm"
      }
    },
    {
      "cell_type": "markdown",
      "source": [
        "5. Quale dei seguenti cicli verrà eseguito indefinitamente in Python?\n",
        "- [ ] for i in range(5): print(i)\n",
        "- [ ] while False: print(\"Looping\")\n",
        "- [ ] while True: print(\"Looping\")\n",
        "- [ ] for i in range(5, 0): print(i)"
      ],
      "metadata": {
        "id": "cEhIG7MtOPtp"
      }
    },
    {
      "cell_type": "markdown",
      "source": [
        "## Soluzioni"
      ],
      "metadata": {
        "id": "HHa4QS9JH1F_"
      }
    },
    {
      "cell_type": "code",
      "source": [
        "# chiedi all'utente che ingredienti vuole sulla pizza nel formato (ingrediente1,ingradiente2,...), poi usa il ciclo for per dirgli che li stai aggiungendo sulla pizza.\n",
        "ingredienti = input(\"Quali ingredienti vuoi sulla pizza? (ingrediente1,ingradiente2,...) \")\n",
        "ingredienti = list(ingredienti.split(\",\"))\n",
        "for ingradiente in ingredienti:\n",
        "  print(f\"Sto aggiungendo {ingradiente} alla pizza!\")"
      ],
      "metadata": {
        "colab": {
          "base_uri": "https://localhost:8080/"
        },
        "id": "EF43iJXaLAOr",
        "outputId": "c9e07fae-b9e8-4694-c9d6-fd7427c67099"
      },
      "execution_count": 29,
      "outputs": [
        {
          "output_type": "stream",
          "name": "stdout",
          "text": [
            "Quali ingredienti vuoi sulla pizza? (ingrediente1,ingradiente2,...) farina,pomodoro,lievito,basilico\n",
            "Sto aggiungendo farina alla pizza!\n",
            "Sto aggiungendo pomodoro alla pizza!\n",
            "Sto aggiungendo lievito alla pizza!\n",
            "Sto aggiungendo basilico alla pizza!\n"
          ]
        }
      ]
    },
    {
      "cell_type": "code",
      "source": [
        "# sei una guida turistica al Colosseo e devi limitare il tour a 5 persone alla volta. Stampa a schermo \"Avanti un'altro!\" finchè non arrivi a 10 persone.\n",
        "max_turisti = 5\n",
        "turisti_entrati = 0\n",
        "while turisti_entrati < max_turisti:\n",
        "  print(\"Avanti un'altro!\")\n",
        "  turisti_entrati += 1\n",
        "\n",
        "print(\"Siamo pieni, aspettate il prossimo giro\")"
      ],
      "metadata": {
        "colab": {
          "base_uri": "https://localhost:8080/"
        },
        "id": "X_b7O9hdLARU",
        "outputId": "b05c72cb-e0cb-4b29-f4c8-c81d7ce772e8"
      },
      "execution_count": 30,
      "outputs": [
        {
          "output_type": "stream",
          "name": "stdout",
          "text": [
            "Avanti un'altro!\n",
            "Avanti un'altro!\n",
            "Avanti un'altro!\n",
            "Avanti un'altro!\n",
            "Avanti un'altro!\n",
            "Siamo pieni, aspettate il prossimo giro\n"
          ]
        }
      ]
    },
    {
      "cell_type": "code",
      "source": [
        "# sei a Venezia con i tuoi parenti e volete farvi un giro in gondola.\n",
        "# La gondola ha un limite di 6 persone, stampa a schermo \"C'è ancora spazio!\" finchè non si raggiunge il limite.\n",
        "max_persone = 6\n",
        "persone_sulla_gondola = 0\n",
        "while persone_sulla_gondola < max_persone:\n",
        "  print(\"C'è ancora spazio!\")\n",
        "  persone_sulla_gondola += 1\n",
        "\n",
        "print(\"Se sale qualcun'altro affondiamo!\")"
      ],
      "metadata": {
        "colab": {
          "base_uri": "https://localhost:8080/"
        },
        "id": "_KLZwPwjLATb",
        "outputId": "9bcfb486-d411-40f6-be72-a91be41be1e5"
      },
      "execution_count": 31,
      "outputs": [
        {
          "output_type": "stream",
          "name": "stdout",
          "text": [
            "C'è ancora spazio!\n",
            "C'è ancora spazio!\n",
            "C'è ancora spazio!\n",
            "C'è ancora spazio!\n",
            "C'è ancora spazio!\n",
            "C'è ancora spazio!\n",
            "Se sale qualcun'altro affondiamo!\n"
          ]
        }
      ]
    },
    {
      "cell_type": "code",
      "source": [
        "# sei una maestra delle elementari e i tuoi alunni hanno sbagliato a scrivere delle parole nel dettato.\n",
        "# Dato come input la lista di errori, riscrivi le parole con la prima lettera maiuscola\n",
        "errori = [\"olanda\", \"italia\", \"mario\", \"vesuvio\", \"natale\", \"parlamento\"]\n",
        "for errore in errori:\n",
        "  print(errore.capitalize())"
      ],
      "metadata": {
        "colab": {
          "base_uri": "https://localhost:8080/"
        },
        "id": "xiP1aGurLAeF",
        "outputId": "f343b2d4-5ecd-4af1-ec4c-74081728505e"
      },
      "execution_count": 32,
      "outputs": [
        {
          "output_type": "stream",
          "name": "stdout",
          "text": [
            "Olanda\n",
            "Italia\n",
            "Mario\n",
            "Vesuvio\n",
            "Natale\n",
            "Parlamento\n"
          ]
        }
      ]
    }
  ]
}