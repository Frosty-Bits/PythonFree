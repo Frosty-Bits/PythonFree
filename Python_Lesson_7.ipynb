{
  "nbformat": 4,
  "nbformat_minor": 0,
  "metadata": {
    "colab": {
      "provenance": [],
      "authorship_tag": "ABX9TyMgAj+4duBgQbQCLjVtpST2",
      "include_colab_link": true
    },
    "kernelspec": {
      "name": "python3",
      "display_name": "Python 3"
    },
    "language_info": {
      "name": "python"
    }
  },
  "cells": [
    {
      "cell_type": "markdown",
      "metadata": {
        "id": "view-in-github",
        "colab_type": "text"
      },
      "source": [
        "<a href=\"https://colab.research.google.com/github/Frosty-Bits/PythonFree/blob/main/Python_Lesson_7.ipynb\" target=\"_parent\"><img src=\"https://colab.research.google.com/assets/colab-badge.svg\" alt=\"Open In Colab\"/></a>"
      ]
    },
    {
      "cell_type": "markdown",
      "source": [
        "## Loops\n",
        "Immagina di essere un'insegnante e di dover mettere una nota a tutti gli studenti che non hanno fatto i compiti e che di conseguenza non sono preparati per la lezione odierna. Inoltre vuoi premiare gli studenti che i compiti li hanno fatti.  \n",
        "Hai già una lista con i nomi di tutti gli studenti e una lista di solo quelli che non hanno fatto i compiti.  \n",
        "Invece che scrivere manualmente una nota alla volta, puoi automatizzare questo processo.  \n",
        "Vediamo come:"
      ],
      "metadata": {
        "id": "OC1ZtkYBBXr9"
      }
    },
    {
      "cell_type": "code",
      "source": [
        "# Lista di tutti gli studenti\n",
        "studenti = [\"Alessandro\",\"Beatrice\",\"Carlo\",\"Daniela\",\"Emanuele\",\"Francesca\",\"Giovanni\",\"Helena\",\"Ignazio\",\"Jessica\"]\n",
        "\n",
        "# Lista di studenti che non hanno fatto i compiti\n",
        "studenti_pigri = [\"Alessandro\",\"Daniela\",\"Francesca\",\"Giovanni\",\"Ignazio\"]"
      ],
      "metadata": {
        "id": "QrkRI3ELEDEx"
      },
      "execution_count": 28,
      "outputs": []
    },
    {
      "cell_type": "code",
      "source": [
        "# Una possibile soluzione, ma molto lenta sarebbe risolvere il problema con diversi print()\n",
        "print(\"Alessandro non ha svolto i compiti, dimostrandosi impreparato per la lezione di oggi\")\n",
        "print(\"Beatrice ha completato i compiti richiesti, dimostrando ottime capacità di comprensione\")\n",
        "print(\"Carlo ha completato i compiti richiesti, dimostrando ottime capacità di comprensione\")\n",
        "print(\"Daniela non ha svolto i compiti, dimostrandosi impreparata per la lezione di oggi\")\n",
        "# .... Questo processo manuale richiedo molto tempo, soprattutto se la dimensione della classe è più grande, rischiando così di perdere tutta la lezione"
      ],
      "metadata": {
        "id": "M3bdZH_CEDVb",
        "colab": {
          "base_uri": "https://localhost:8080/"
        },
        "outputId": "70443223-226c-4b49-89cc-582a46e6826e"
      },
      "execution_count": 29,
      "outputs": [
        {
          "output_type": "stream",
          "name": "stdout",
          "text": [
            "Alessandro non ha svolto i compiti, dimostrandosi impreparato per la lezione di oggi\n",
            "Beatrice ha completato i compiti richiesti, dimostrando ottime capacità di comprensione\n",
            "Carlo ha completato i compiti richiesti, dimostrando ottime capacità di comprensione\n",
            "Daniela non ha svolto i compiti, dimostrandosi impreparata per la lezione di oggi\n"
          ]
        }
      ]
    },
    {
      "cell_type": "code",
      "source": [
        "# Utilizziamo invece un ciclo for\n",
        "for nome in studenti:\n",
        "  if nome in studenti_pigri:\n",
        "    print(f\"{nome} non ha svolto i compiti, dimostrandosi impreparato/a per la lezione di oggi\")\n",
        "  else:\n",
        "    print(f\"{nome} ha completato i compiti richiesti, dimostrando ottime capacità di comprensione\")"
      ],
      "metadata": {
        "id": "q2KInVeZEDXQ",
        "colab": {
          "base_uri": "https://localhost:8080/"
        },
        "outputId": "b8fb2453-609b-46a8-8ae0-79385185919a"
      },
      "execution_count": 30,
      "outputs": [
        {
          "output_type": "stream",
          "name": "stdout",
          "text": [
            "Alessandro non ha svolto i compiti, dimostrandosi impreparato/a per la lezione di oggi\n",
            "Beatrice ha completato i compiti richiesti, dimostrando ottime capacità di comprensione\n",
            "Carlo ha completato i compiti richiesti, dimostrando ottime capacità di comprensione\n",
            "Daniela non ha svolto i compiti, dimostrandosi impreparato/a per la lezione di oggi\n",
            "Emanuele ha completato i compiti richiesti, dimostrando ottime capacità di comprensione\n",
            "Francesca non ha svolto i compiti, dimostrandosi impreparato/a per la lezione di oggi\n",
            "Giovanni non ha svolto i compiti, dimostrandosi impreparato/a per la lezione di oggi\n",
            "Helena ha completato i compiti richiesti, dimostrando ottime capacità di comprensione\n",
            "Ignazio non ha svolto i compiti, dimostrandosi impreparato/a per la lezione di oggi\n",
            "Jessica ha completato i compiti richiesti, dimostrando ottime capacità di comprensione\n"
          ]
        }
      ]
    },
    {
      "cell_type": "markdown",
      "source": [
        "Analizziamo il codice appena visto:  \n",
        "\n",
        "\n",
        "```python\n",
        "for nome in studenti:\n",
        "```\n",
        "il **for** serve a far capire alla macchina che vogliamo iniziare un loop,  \n",
        "il **nome** è una variabile che stiamo creando a turno (per ogni loop) che avrà come valore un singolo elemento alla volta della lista,  \n",
        "**in** è una funzione in python che restitusce True se la variabile che lo precede è contenuta nella variabile che lo segue (in questo caso: \"nome\" in \"studenti\",  \n",
        "**studenti** è la nostra lista che verrà spezzettata per elementi. Il loop funziona non solo con le liste come in questo caso, ma anche tutti gli oggetti iterabili: stringhe, dizionari, tuple, range ed altri elementi che vedremo a breve.\n",
        "\n",
        "\n",
        "```python\n",
        "if nome in studenti_pigri:\n",
        "```\n",
        "Questa riga è indentata per rispettare le regole di python in termini di chiarezza del codice.  \n",
        "Il codice è una semplice condizione che usa come variabile \"nome\" ovvero l'elemento preso dalla nostra lista.  \n",
        "Il resto del codice segue le logiche già studiate.\n"
      ],
      "metadata": {
        "id": "ccMaP1EhKqPx"
      }
    },
    {
      "cell_type": "markdown",
      "source": [
        "## Ciclo for:\n",
        "Quello che abbiamo appena visto si chiama \"ciclo for\". Esso si distingue perchè a seconda dell'oggetto su cui stiamo iterando, restitusice un valore diverso.\n",
        "Vediamo qualche esempio:"
      ],
      "metadata": {
        "id": "92qgtXaDNit_"
      }
    },
    {
      "cell_type": "code",
      "source": [
        "for lettera in \"Alfabeto\": # la variabile lettera è assegnata da noi, siamo noi a chiamarla \"lettera\", ma potrebbe avere qualsiasi altro nome\n",
        "  print(lettera)"
      ],
      "metadata": {
        "colab": {
          "base_uri": "https://localhost:8080/"
        },
        "id": "mbCLMvpWNb3X",
        "outputId": "28a797b6-39c4-4064-e491-3a285ce8b8d2"
      },
      "execution_count": 31,
      "outputs": [
        {
          "output_type": "stream",
          "name": "stdout",
          "text": [
            "A\n",
            "l\n",
            "f\n",
            "a\n",
            "b\n",
            "e\n",
            "t\n",
            "o\n"
          ]
        }
      ]
    },
    {
      "cell_type": "code",
      "source": [
        "numeri = [1,2,3,4]\n",
        "for x in numeri: # creiamo la variabile x e la usiamo nel print() nella riga successiva\n",
        "  print(x)\n"
      ],
      "metadata": {
        "colab": {
          "base_uri": "https://localhost:8080/"
        },
        "id": "9O61JGm5N4YX",
        "outputId": "f9efa8ae-d833-4d15-8373-bda7a83dd742"
      },
      "execution_count": 32,
      "outputs": [
        {
          "output_type": "stream",
          "name": "stdout",
          "text": [
            "1\n",
            "2\n",
            "3\n",
            "4\n"
          ]
        }
      ]
    },
    {
      "cell_type": "code",
      "source": [
        "dizionario = {\"a\": 1, \"b\": 2, \"c\": 3}\n",
        "# quando stiamo iterando su un dizionario, ci viene restituita di default la chiave\n",
        "for chiave in dizionario:\n",
        "    print(chiave)"
      ],
      "metadata": {
        "colab": {
          "base_uri": "https://localhost:8080/"
        },
        "id": "ACIRgdwEN4ac",
        "outputId": "0199beaf-41df-41fa-8aeb-4b8877c98067"
      },
      "execution_count": 33,
      "outputs": [
        {
          "output_type": "stream",
          "name": "stdout",
          "text": [
            "a\n",
            "b\n",
            "c\n"
          ]
        }
      ]
    },
    {
      "cell_type": "code",
      "source": [
        "dizionario = {\"a\": 1, \"b\": 2, \"c\": 3}\n",
        "# possiamo anche però iterare su coppia-valore in questo modo:\n",
        "for chiave, valore in dizionario.items():\n",
        "    print(f'La chiave {chiave} ha valore {valore}')"
      ],
      "metadata": {
        "id": "Ac3NI14WN4cl",
        "colab": {
          "base_uri": "https://localhost:8080/"
        },
        "outputId": "7bebcdb2-dc91-449e-9486-9e362081725e"
      },
      "execution_count": 34,
      "outputs": [
        {
          "output_type": "stream",
          "name": "stdout",
          "text": [
            "La chiave a ha valore 1\n",
            "La chiave b ha valore 2\n",
            "La chiave c ha valore 3\n"
          ]
        }
      ]
    },
    {
      "cell_type": "code",
      "source": [
        "# uno dei modi più utilizzati del ciclo for è insieme alla funzione range()\n",
        "\n",
        "for x in range(1,6):\n",
        "  print(x)\n",
        "\n",
        "# la funzione range(x,y,z) crea una lista di numeri che parte da x, arriva fino a y-1 e fa salti di z. Se z non è specificato il passo è 1"
      ],
      "metadata": {
        "id": "QXgnuXYMN4gO",
        "colab": {
          "base_uri": "https://localhost:8080/"
        },
        "outputId": "8b5d57ca-293c-4eb7-cf3b-35b8cc5094fe"
      },
      "execution_count": 35,
      "outputs": [
        {
          "output_type": "stream",
          "name": "stdout",
          "text": [
            "1\n",
            "2\n",
            "3\n",
            "4\n",
            "5\n"
          ]
        }
      ]
    },
    {
      "cell_type": "markdown",
      "source": [
        "## Ciclo while:\n",
        "Un altro metodo per creare dei loop è usare il **while**, che in italiano possiamo tradurre con \"fino a quando\".  \n",
        "Immagina di preparare l'espresso per i tuoi amici. Vuoi continuare a versare il caffè finché la tazza non sarà piena.  \n",
        "Un ciclo while è perfetto per le situazioni in cui desideri continuare a fare qualcosa finché non viene soddisfatta una determinata condizione."
      ],
      "metadata": {
        "id": "Jqlvt4a0CyXL"
      }
    },
    {
      "cell_type": "code",
      "source": [
        "capacità_massima_tazza = 30 #ml\n",
        "caffè_versato_alla_volta = 5 #ml\n",
        "capacità_attuale_tazza = 0 #ml\n",
        "\n",
        "while capacità_attuale_tazza < capacità_massima_tazza:\n",
        "  print(f'Sto versando 5 ml di caffè')\n",
        "  capacità_attuale_tazza += caffè_versato_alla_volta\n",
        "\n",
        "print(\"Il caffè è pronto!\")"
      ],
      "metadata": {
        "colab": {
          "base_uri": "https://localhost:8080/"
        },
        "id": "EmRDUTeXCYPR",
        "outputId": "b0e52d23-907c-497f-981c-a6d2609a36e8"
      },
      "execution_count": 36,
      "outputs": [
        {
          "output_type": "stream",
          "name": "stdout",
          "text": [
            "Sto versando 5 ml di caffè\n",
            "Sto versando 5 ml di caffè\n",
            "Sto versando 5 ml di caffè\n",
            "Sto versando 5 ml di caffè\n",
            "Sto versando 5 ml di caffè\n",
            "Sto versando 5 ml di caffè\n",
            "Il caffè è pronto!\n"
          ]
        }
      ]
    },
    {
      "cell_type": "markdown",
      "source": [
        "In questo caso non stiamo iterando con nessun elemento, bensì lo stesso codice verrà ripetuto per tutte le volte che la codizione \"capacità_attuale_tazza < capacità_massima_tazza\" sarà rispettata.  \n",
        "All'ultima riga con \"capacità_attuale_tazza += caffè_versato_alla_volta\" aggiorniamo il valore del contenuto della tazza affinchè il codice non giri all'infito, ma solo 6 volte (5+5+5+5+5+5 = 30 ml)"
      ],
      "metadata": {
        "id": "8MUYCcEaEvbc"
      }
    },
    {
      "cell_type": "markdown",
      "source": [
        "## Testa le tue abilità\n",
        "*Soluzioni a fondo pagina*"
      ],
      "metadata": {
        "id": "YZU1anK0HkEN"
      }
    },
    {
      "cell_type": "code",
      "source": [
        "# chiedi all'utente che ingredienti vuole sulla pizza, poi usa il ciclo for per dirgli che li stai aggiungendo sulla pizza."
      ],
      "metadata": {
        "id": "SVp8qkZNET-a"
      },
      "execution_count": 37,
      "outputs": []
    },
    {
      "cell_type": "code",
      "source": [
        "# sei una guida turistica al Colosseo e devi limitare il tour a 10 persone alla volta. Stampa a schermo \"Avanti un'altro!\" finchè non arrivi a 10 persone."
      ],
      "metadata": {
        "id": "pUq8mARmH0t6"
      },
      "execution_count": 38,
      "outputs": []
    },
    {
      "cell_type": "code",
      "source": [
        "# sei a Venezia con i tuoi parenti e volete farvi un giro in gondola.\n",
        "# La gondola ha un limite di 6 persone, stampa a schermo \"C'è ancora spazio!\" finchè non si raggiunge il limite."
      ],
      "metadata": {
        "id": "6pT5aL9cH0v4"
      },
      "execution_count": 39,
      "outputs": []
    },
    {
      "cell_type": "code",
      "source": [
        "# sei una maestra delle elementari e i tuoi alunni hanno sbagliato a scrivere delle parole nel dettato.\n",
        "# Dato come input la lista di errori, riscrivi le parole con la prima lettera maiuscola\n",
        "errori = [\"olanda\", \"italia\", \"mario\", \"vesuvio\", \"natale\", \"parlamento\"]"
      ],
      "metadata": {
        "id": "0r1-o7jSH05I"
      },
      "execution_count": 40,
      "outputs": []
    },
    {
      "cell_type": "markdown",
      "source": [
        "## Extra sui loop\n",
        "Esistono due altre funzioni che ci permettono di interagire con i loop.  \n",
        "la prima è **continue**, ovvero \"salta questo giro\".  \n",
        "la seconda è **break**, ovvero blocca tutto il loop e terminalo.  \n",
        "Queste funzioni ci permettono di gestire casi speciali nei nostri loop.  \n",
        "Vediamo degli esempi:"
      ],
      "metadata": {
        "id": "kqVTjOivLAsx"
      }
    },
    {
      "cell_type": "code",
      "source": [
        "numeri = [1,2,3,4,5]\n",
        "for numero in numeri:\n",
        "  if numero == 3:\n",
        "    continue\n",
        "  print(numero)"
      ],
      "metadata": {
        "colab": {
          "base_uri": "https://localhost:8080/"
        },
        "id": "5I-ZbBoOLA1D",
        "outputId": "c11b1397-ea76-4580-d5fe-632b4267d720"
      },
      "execution_count": 41,
      "outputs": [
        {
          "output_type": "stream",
          "name": "stdout",
          "text": [
            "1\n",
            "2\n",
            "4\n",
            "5\n"
          ]
        }
      ]
    },
    {
      "cell_type": "code",
      "source": [
        "numeri = [1,2,3,4,5]\n",
        "for numero in numeri:\n",
        "  if numero == 3:\n",
        "    break\n",
        "  print(numero)"
      ],
      "metadata": {
        "colab": {
          "base_uri": "https://localhost:8080/"
        },
        "id": "yOuoA2rPLA3x",
        "outputId": "ea7163b7-c4a4-41eb-c70c-8bbb5fb1a764"
      },
      "execution_count": 42,
      "outputs": [
        {
          "output_type": "stream",
          "name": "stdout",
          "text": [
            "1\n",
            "2\n"
          ]
        }
      ]
    },
    {
      "cell_type": "markdown",
      "source": [
        "Alla fine di un loop è anche possibile aggiungere un **else** che verrà eseguito solo se il loop ha girato correttamente  \n",
        "(nessun break è stato attivato)\n"
      ],
      "metadata": {
        "id": "QDOv09PwO2z8"
      }
    },
    {
      "cell_type": "code",
      "source": [
        "numeri = [1,2,3,4,5]\n",
        "for numero in numeri:\n",
        "  print(numero)\n",
        "else:\n",
        "  print(\"Tutti i numeri stampati correttamente\")"
      ],
      "metadata": {
        "colab": {
          "base_uri": "https://localhost:8080/"
        },
        "id": "IISBCIbdO292",
        "outputId": "480b3f44-693a-4ed2-dcad-1d4bd00b5587"
      },
      "execution_count": 43,
      "outputs": [
        {
          "output_type": "stream",
          "name": "stdout",
          "text": [
            "1\n",
            "2\n",
            "3\n",
            "4\n",
            "5\n",
            "Tutti i numeri stampati correttamente\n"
          ]
        }
      ]
    },
    {
      "cell_type": "markdown",
      "source": [
        "## Esercizi\n",
        "*Soluzioni della lezione su youtube*"
      ],
      "metadata": {
        "id": "EUgWoSQjOLxh"
      }
    },
    {
      "cell_type": "markdown",
      "source": [
        "1. Quante volte verrà eseguito questo codice?\n",
        "\n",
        "\n",
        "```python\n",
        "for i in range(2, 10, 3):\n",
        "    print(i)\n",
        "```\n",
        "- [ ] 2\n",
        "- [ ] 3\n",
        "- [ ] 4\n",
        "- [ ] 5\n"
      ],
      "metadata": {
        "id": "tUnWnC5hOPkp"
      }
    },
    {
      "cell_type": "markdown",
      "source": [
        "2. A cosa serve l'else alla fine di un loop?\n",
        "- [ ] Per specificare la condizione per il loop\n",
        "- [ ] Per eseguire il codice dopo che il ciclo termina normalmente (ovvero senza interruzioni).\n",
        "- [ ] Per eseguire il codice all'inizio di ogni iterazione del ciclo\n",
        "- [ ] Per rilevare eccezioni o errori durante l'esecuzione del ciclo"
      ],
      "metadata": {
        "id": "C5pNteimOPm_"
      }
    },
    {
      "cell_type": "markdown",
      "source": [
        "3. Quale sarà l'output del seguente codice?\n",
        "\n",
        "```python\n",
        "x = 0\n",
        "while x < 3:\n",
        "    print(x)\n",
        "    x += 1\n",
        "```\n",
        "- [ ] 0 1 2 3\n",
        "- [ ] 1 2 3\n",
        "- [ ] 0 1 2\n",
        "- [ ] 1 2"
      ],
      "metadata": {
        "id": "D6yZqfwHOPpW"
      }
    },
    {
      "cell_type": "markdown",
      "source": [
        "4. Cosa fa l'istruzione **continue** in un ciclo?\n",
        "- [ ] Arresta il ciclo.\n",
        "- [ ] Passa alla successiva iterazione del ciclo.\n",
        "- [ ] Riavvia il ciclo dall'inizio.\n",
        "- [ ] Mette in pausa il ciclo"
      ],
      "metadata": {
        "id": "zzowHGgWOPrm"
      }
    },
    {
      "cell_type": "markdown",
      "source": [
        "5. Quale dei seguenti cicli verrà eseguito indefinitamente in Python?\n",
        "- [ ] for i in range(5): print(i)\n",
        "- [ ] while False: print(\"Looping\")\n",
        "- [ ] while True: print(\"Looping\")\n",
        "- [ ] for i in range(5, 0): print(i)"
      ],
      "metadata": {
        "id": "cEhIG7MtOPtp"
      }
    },
    {
      "cell_type": "markdown",
      "source": [
        "## Soluzioni"
      ],
      "metadata": {
        "id": "HHa4QS9JH1F_"
      }
    },
    {
      "cell_type": "code",
      "source": [
        "# chiedi all'utente che ingredienti vuole sulla pizza nel formato (ingrediente1,ingradiente2,...), poi usa il ciclo for per dirgli che li stai aggiungendo sulla pizza.\n",
        "ingredienti = input(\"Quali ingredienti vuoi sulla pizza? (ingrediente1,ingradiente2,...) \")\n",
        "ingredienti = list(ingredienti.split(\",\"))\n",
        "for ingradiente in ingredienti:\n",
        "  print(f\"Sto aggiungendo {ingradiente} alla pizza!\")"
      ],
      "metadata": {
        "colab": {
          "base_uri": "https://localhost:8080/"
        },
        "id": "EF43iJXaLAOr",
        "outputId": "6bd023da-2518-4677-c3d2-fa8d321ff2d1"
      },
      "execution_count": 44,
      "outputs": [
        {
          "output_type": "stream",
          "name": "stdout",
          "text": [
            "Quali ingredienti vuoi sulla pizza? (ingrediente1,ingradiente2,...) sugo,mozzarella,prosciutto,funghi,patatine\n",
            "Sto aggiungendo sugo alla pizza!\n",
            "Sto aggiungendo mozzarella alla pizza!\n",
            "Sto aggiungendo prosciutto alla pizza!\n",
            "Sto aggiungendo funghi alla pizza!\n",
            "Sto aggiungendo patatine alla pizza!\n"
          ]
        }
      ]
    },
    {
      "cell_type": "code",
      "source": [
        "# sei una guida turistica al Colosseo e devi limitare il tour a 5 persone alla volta. Stampa a schermo \"Avanti un'altro!\" finchè non arrivi a 10 persone.\n",
        "max_turisti = 5\n",
        "turisti_entrati = 0\n",
        "while turisti_entrati < max_turisti:\n",
        "  print(\"Avanti un'altro!\")\n",
        "  turisti_entrati += 1\n",
        "\n",
        "print(\"Siamo pieni, aspettate il prossimo giro\")"
      ],
      "metadata": {
        "colab": {
          "base_uri": "https://localhost:8080/"
        },
        "id": "X_b7O9hdLARU",
        "outputId": "fbdbf4a8-bdc1-4cb2-93e9-4b45f0f78668"
      },
      "execution_count": 45,
      "outputs": [
        {
          "output_type": "stream",
          "name": "stdout",
          "text": [
            "Avanti un'altro!\n",
            "Avanti un'altro!\n",
            "Avanti un'altro!\n",
            "Avanti un'altro!\n",
            "Avanti un'altro!\n",
            "Siamo pieni, aspettate il prossimo giro\n"
          ]
        }
      ]
    },
    {
      "cell_type": "code",
      "source": [
        "# sei a Venezia con i tuoi parenti e volete farvi un giro in gondola.\n",
        "# La gondola ha un limite di 6 persone, stampa a schermo \"C'è ancora spazio!\" finchè non si raggiunge il limite.\n",
        "max_persone = 6\n",
        "persone_sulla_gondola = 0\n",
        "while persone_sulla_gondola < max_persone:\n",
        "  print(\"C'è ancora spazio!\")\n",
        "  persone_sulla_gondola += 1\n",
        "\n",
        "print(\"Se sale qualcun'altro affondiamo!\")"
      ],
      "metadata": {
        "colab": {
          "base_uri": "https://localhost:8080/"
        },
        "id": "_KLZwPwjLATb",
        "outputId": "b2eda59c-6b05-419b-d31d-346eb14c1686"
      },
      "execution_count": 46,
      "outputs": [
        {
          "output_type": "stream",
          "name": "stdout",
          "text": [
            "C'è ancora spazio!\n",
            "C'è ancora spazio!\n",
            "C'è ancora spazio!\n",
            "C'è ancora spazio!\n",
            "C'è ancora spazio!\n",
            "C'è ancora spazio!\n",
            "Se sale qualcun'altro affondiamo!\n"
          ]
        }
      ]
    },
    {
      "cell_type": "code",
      "source": [
        "# sei una maestra delle elementari e i tuoi alunni hanno sbagliato a scrivere delle parole nel dettato.\n",
        "# Dato come input la lista di errori, riscrivi le parole con la prima lettera maiuscola\n",
        "errori = [\"olanda\", \"italia\", \"mario\", \"vesuvio\", \"natale\", \"parlamento\"]\n",
        "for errore in errori:\n",
        "  print(errore.capitalize())"
      ],
      "metadata": {
        "colab": {
          "base_uri": "https://localhost:8080/"
        },
        "id": "xiP1aGurLAeF",
        "outputId": "7098343f-3fee-4f0a-9485-d07607f922dd"
      },
      "execution_count": 47,
      "outputs": [
        {
          "output_type": "stream",
          "name": "stdout",
          "text": [
            "Olanda\n",
            "Italia\n",
            "Mario\n",
            "Vesuvio\n",
            "Natale\n",
            "Parlamento\n"
          ]
        }
      ]
    }
  ]
}