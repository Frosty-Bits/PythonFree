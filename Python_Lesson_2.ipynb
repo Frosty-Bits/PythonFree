{
  "nbformat": 4,
  "nbformat_minor": 0,
  "metadata": {
    "colab": {
      "provenance": [],
      "authorship_tag": "ABX9TyNXw1piLDAbZ2H+zhhe58tP",
      "include_colab_link": true
    },
    "kernelspec": {
      "name": "python3",
      "display_name": "Python 3"
    },
    "language_info": {
      "name": "python"
    }
  },
  "cells": [
    {
      "cell_type": "markdown",
      "metadata": {
        "id": "view-in-github",
        "colab_type": "text"
      },
      "source": [
        "<a href=\"https://colab.research.google.com/github/Frosty-Bits/PythonFree/blob/main/Python_Lesson_2.ipynb\" target=\"_parent\"><img src=\"https://colab.research.google.com/assets/colab-badge.svg\" alt=\"Open In Colab\"/></a>"
      ]
    },
    {
      "cell_type": "markdown",
      "source": [
        "## Variabili\n",
        "Una variabile è un nome che si riferisce a un valore. Puoi immaginarla come un contenitore che tiene un dato, e il nome della variabile è l'etichetta del contenitore. Questo ti permette di memorizzare e manipolare dati in modo più flessibile nel tuo programma.\n",
        "Python è un linguaggio **dinamico**, il che significa che non è necessario dichiarare il tipo di una variabile quando la crei. Il tipo viene assegnato dinamicamente in base al valore che assegni alla variabile.\n",
        "\n",
        "Per assegnare un valore a una variabile, si usa il segno '**=**'.\n",
        "\n",
        "Ad esempio:\n",
        "\n",
        "\n",
        "\n",
        "```python\n",
        "nome = 'Andrea'\n",
        "```\n",
        "\n",
        "si può anche modificare il valore contenuto nella variabile con una nuova assegnazione\n",
        "\n",
        "```python\n",
        "nome = 'Andrea'\n",
        "nome = 'Stefania'\n",
        "```"
      ],
      "metadata": {
        "id": "qpmeUE0zQrZv"
      }
    },
    {
      "cell_type": "markdown",
      "source": [
        "## Commenti\n",
        "I linguaggi di programmazione offrono la possibiltà di scrivere dei commenti nel codice, ovvero del testo che non viene interpretato dalla macchina, ma che viene utilizzato dallo sviluppatore per dare un'idea a chi legge il codice di quello che succede e il perchè di certe scelte.\n",
        "In python è possibile iniziare un commento usando il simbolo '**#**'.\n",
        "Ad esempio:\n",
        "\n",
        "```python\n",
        "#Questo è un commento\n",
        "```\n",
        "\n",
        "In questo caso, per uscire dal commento è sufficiente andare a capo.\n",
        "Per scrivere un commento su più righe invece è possibile rinchiudere il testo tra tre apici ad inizio e fine.\n",
        "\n",
        "```python\n",
        "'''Questo commento\n",
        "occupa due linee'''\n",
        "```\n",
        "\n",
        "Per la precisione in questo caso stiamo scrivendo una stringa di testo, che però non essendo collegata ad una variabile o non applicando nessuna funzione, viene solo letta e poi ignorata dal programma."
      ],
      "metadata": {
        "id": "tBHuiV8AMsxC"
      }
    },
    {
      "cell_type": "markdown",
      "source": [
        "## Comando print()\n",
        "Quando lavoriamo su un codice, spesso non riusciamo a vedere quello che la macchina sta facendo, in quanto ogni operazione è interna e lo sviluppatore/utente non è in grado di vederla.  \n",
        "Per esplicitare una variabile o il risultato di un'operazione si usa il comando **print()**. In cui nelle parentesi va specificato che cosa ci interessa sapere.  \n",
        "Prova a lanciare i due seguenti comandi. Quali differenze noti?"
      ],
      "metadata": {
        "id": "K9_NiWofUtXq"
      }
    },
    {
      "cell_type": "code",
      "source": [
        "cognome = 'Rossi'"
      ],
      "metadata": {
        "id": "eHk9NlReVjFT"
      },
      "execution_count": null,
      "outputs": []
    },
    {
      "cell_type": "code",
      "source": [
        "nome = 'Andrea'\n",
        "print(nome)"
      ],
      "metadata": {
        "colab": {
          "base_uri": "https://localhost:8080/"
        },
        "id": "Uzh4h0rXVfTI",
        "outputId": "aac572c6-d6cd-495d-9bd9-a3f7c9414165"
      },
      "execution_count": null,
      "outputs": [
        {
          "output_type": "stream",
          "name": "stdout",
          "text": [
            "Andrea\n"
          ]
        }
      ]
    },
    {
      "cell_type": "markdown",
      "source": [
        "# Tipi di dati"
      ],
      "metadata": {
        "id": "dK-Hfq3kMs0Z"
      }
    },
    {
      "cell_type": "markdown",
      "source": [
        "## Boolean\n",
        "I valori booleani sono solamente due: True, False.\n",
        "Vengono utilizzati principalemte per espressioni condizionali:  \n",
        "```markdown\n",
        "Se <condizione> è True (Vera):\n",
        "     allora esegui <comando>\n",
        "```\n",
        "\n",
        "è possibile inoltre effettuare delle operazioni tra booleani, in particolari le più comuni sono **and**, **or** , **not**.  \n",
        "Vediamo qui i risultati:"
      ],
      "metadata": {
        "id": "-WGA-phvQhy9"
      }
    },
    {
      "cell_type": "code",
      "source": [
        "# and operator -> restituisce True solo se tutte le condizioni sono vere,\n",
        "\n",
        "print('Risultato 1 ', True and True)\n",
        "print('Risultato 2 ', True and False)\n",
        "print('Risultato 3 ', False and True)\n",
        "print('Risultato 4 ', False and False)\n",
        "\n",
        "# è possibile passare come parametro a print() più di una variabile/operazione, semplicemente dividendole con una virgola."
      ],
      "metadata": {
        "colab": {
          "base_uri": "https://localhost:8080/"
        },
        "id": "tGhklvRiUYpw",
        "outputId": "14d6620e-5796-4b42-d7fb-e8bd2e87a9b8"
      },
      "execution_count": null,
      "outputs": [
        {
          "output_type": "stream",
          "name": "stdout",
          "text": [
            "Risultato 1  True\n",
            "Risultato 2  False\n",
            "Risultato 3  False\n",
            "Risultato 4  False\n"
          ]
        }
      ]
    },
    {
      "cell_type": "code",
      "source": [
        "# or operator -> Restituisce True quando almeno una condizione è vera.\n",
        "print('Risultato 1 ', True or True)\n",
        "print('Risultato 2 ', True or False)\n",
        "print('Risultato 3 ', False or True)\n",
        "print('Risultato 4 ', False or False)"
      ],
      "metadata": {
        "colab": {
          "base_uri": "https://localhost:8080/"
        },
        "id": "X_8WlwZNUagn",
        "outputId": "e41f0371-3607-40a9-e39b-f3c5a0363e6f"
      },
      "execution_count": null,
      "outputs": [
        {
          "output_type": "stream",
          "name": "stdout",
          "text": [
            "Risultato 1  True\n",
            "Risultato 2  True\n",
            "Risultato 3  True\n",
            "Risultato 4  False\n"
          ]
        }
      ]
    },
    {
      "cell_type": "code",
      "source": [
        "# not operator -> Restituisce l'opposto della condizione\n",
        "print('Risultato 1 ', not True)\n",
        "print('Risultato 2 ', not False)"
      ],
      "metadata": {
        "colab": {
          "base_uri": "https://localhost:8080/"
        },
        "id": "LPFFcB3XUa7A",
        "outputId": "b0a65633-ad4f-4c94-c09e-da60624c2aa7"
      },
      "execution_count": null,
      "outputs": [
        {
          "output_type": "stream",
          "name": "stdout",
          "text": [
            "Risultato 1  False\n",
            "Risultato 2  True\n"
          ]
        }
      ]
    },
    {
      "cell_type": "markdown",
      "source": [
        "## Numeri\n",
        "Esistono 3 diversi tipi di numeri in python:  \n",
        "Gli **integer** sono i più comuni e sono i numeri interi\n",
        "```python\n",
        "posizione = 3\n",
        "temperatura = -8\n",
        "```\n",
        "I **float** sono i numeri con la virgola (in python si utilizza il punto al posto della virgola).\n",
        "```python\n",
        "pi = 3.14\n",
        "nepero = 2.71\n",
        "```\n",
        "I **complex** sono i numeri complessi.\n",
        "```python\n",
        "result = 3 + 2j\n",
        "answer = -1j\n",
        "```\n",
        "\n",
        "Vediamo ora le operazioni più importanti:"
      ],
      "metadata": {
        "id": "Lzyfad6wQh1U"
      }
    },
    {
      "cell_type": "code",
      "source": [
        "# Addizione\n",
        "print(5 + 3)"
      ],
      "metadata": {
        "colab": {
          "base_uri": "https://localhost:8080/"
        },
        "id": "HkcWoxLCZLy1",
        "outputId": "1d11b624-f27d-4cf0-9468-4b9c1a02ae0a"
      },
      "execution_count": null,
      "outputs": [
        {
          "output_type": "stream",
          "name": "stdout",
          "text": [
            "8\n"
          ]
        }
      ]
    },
    {
      "cell_type": "code",
      "source": [
        "# Sottrazione\n",
        "print(5 - 3)"
      ],
      "metadata": {
        "colab": {
          "base_uri": "https://localhost:8080/"
        },
        "id": "9fzTEjXsZL7p",
        "outputId": "1a994dbe-0980-4297-8f31-1b52969b3f93"
      },
      "execution_count": null,
      "outputs": [
        {
          "output_type": "stream",
          "name": "stdout",
          "text": [
            "2\n"
          ]
        }
      ]
    },
    {
      "cell_type": "code",
      "source": [
        "# Moltiplicazione\n",
        "print(5 * 3)"
      ],
      "metadata": {
        "colab": {
          "base_uri": "https://localhost:8080/"
        },
        "id": "ehkDqsb3Z6wk",
        "outputId": "855e2eed-97a3-4bba-ce4f-7db4d0e39b72"
      },
      "execution_count": null,
      "outputs": [
        {
          "output_type": "stream",
          "name": "stdout",
          "text": [
            "15\n"
          ]
        }
      ]
    },
    {
      "cell_type": "code",
      "source": [
        "# Divisione (restituisce un float, ovvero un numero con la virgola/ il punto)\n",
        "print(15 / 3)"
      ],
      "metadata": {
        "colab": {
          "base_uri": "https://localhost:8080/"
        },
        "id": "rjDVuTKIZL-E",
        "outputId": "ea547126-8d38-4b3d-bb5b-61bea96bb2d0"
      },
      "execution_count": null,
      "outputs": [
        {
          "output_type": "stream",
          "name": "stdout",
          "text": [
            "5.0\n"
          ]
        }
      ]
    },
    {
      "cell_type": "code",
      "source": [
        "# Divisione intera (restituisce la parte intera della divisione)\n",
        "print(10 // 3)"
      ],
      "metadata": {
        "colab": {
          "base_uri": "https://localhost:8080/"
        },
        "id": "w_GBQY8tZMAP",
        "outputId": "fcfd9629-00b1-498f-fca5-8d31e1331707"
      },
      "execution_count": null,
      "outputs": [
        {
          "output_type": "stream",
          "name": "stdout",
          "text": [
            "3\n"
          ]
        }
      ]
    },
    {
      "cell_type": "code",
      "source": [
        "# Resto della divisione (restituisce solo il resto di una divisione)\n",
        "print(10 % 3)"
      ],
      "metadata": {
        "colab": {
          "base_uri": "https://localhost:8080/"
        },
        "id": "_vu0kgxjZMCi",
        "outputId": "b0f39a31-d25e-44e2-be95-01fe3678b798"
      },
      "execution_count": null,
      "outputs": [
        {
          "output_type": "stream",
          "name": "stdout",
          "text": [
            "1\n"
          ]
        }
      ]
    },
    {
      "cell_type": "code",
      "source": [
        "# Esponenziale (restituisce il primo numero alla potenza del secondo 2^3)\n",
        "print(2 ** 3)"
      ],
      "metadata": {
        "colab": {
          "base_uri": "https://localhost:8080/"
        },
        "id": "0IhfkLDfZMEY",
        "outputId": "d3c57317-afe2-46c2-bc07-d636d2b4d507"
      },
      "execution_count": null,
      "outputs": [
        {
          "output_type": "stream",
          "name": "stdout",
          "text": [
            "8\n"
          ]
        }
      ]
    },
    {
      "cell_type": "markdown",
      "source": [
        "Per creare operazioni più complesse è possibile usare le parentesi tonde () per raggruppare delle operazioni"
      ],
      "metadata": {
        "id": "n5YNuidEbJ02"
      }
    },
    {
      "cell_type": "code",
      "source": [
        "print((10-2)//(2+2)) #-> 8 // 4"
      ],
      "metadata": {
        "colab": {
          "base_uri": "https://localhost:8080/"
        },
        "id": "TFqoYSDQbDHj",
        "outputId": "94386bee-2e38-4646-8933-ad5256680a87"
      },
      "execution_count": null,
      "outputs": [
        {
          "output_type": "stream",
          "name": "stdout",
          "text": [
            "2\n"
          ]
        }
      ]
    },
    {
      "cell_type": "markdown",
      "source": [
        "## Testo\n",
        "In python il testo viene definito stringa, ed è caratterizzato dal fatto che è preceduto e finisce con degli apici, singoli ' o doppi \".\n",
        "\n",
        "```python\n",
        "struttura = 'Casa'\n",
        "lavoro = \"Cameriere\"\n",
        "```\n",
        "è possibile anche salvare una stringa su più linee di codice usando 3 apici ad inizio e fine.\n",
        "\n",
        "```python\n",
        "testo = \"\"\"Computers will never fully\n",
        "replace humans until they learn\n",
        "to laugh at the boss's jokes\n",
        "\"\"\"\n",
        "```\n",
        "Bisogna fare molta attenzione se ci troviamo a lavorare con una stringa o meno, spesso può essere meno evidente.  \n",
        "Quali differenze noti?\n"
      ],
      "metadata": {
        "id": "deOUlrOQbsmi"
      }
    },
    {
      "cell_type": "code",
      "source": [
        "print(10 + 8)"
      ],
      "metadata": {
        "colab": {
          "base_uri": "https://localhost:8080/"
        },
        "id": "jr1cipi8fuzy",
        "outputId": "ed7d8ed5-2082-4ca6-c901-4089050e8b87"
      },
      "execution_count": null,
      "outputs": [
        {
          "output_type": "stream",
          "name": "stdout",
          "text": [
            "18\n"
          ]
        }
      ]
    },
    {
      "cell_type": "code",
      "source": [
        "print('10' + '8')"
      ],
      "metadata": {
        "colab": {
          "base_uri": "https://localhost:8080/"
        },
        "id": "1zw6DYZ8fu13",
        "outputId": "04de0c68-3a65-4827-f67e-902026cfb091"
      },
      "execution_count": null,
      "outputs": [
        {
          "output_type": "stream",
          "name": "stdout",
          "text": [
            "108\n"
          ]
        }
      ]
    },
    {
      "cell_type": "code",
      "source": [
        "print(1 * 5)"
      ],
      "metadata": {
        "colab": {
          "base_uri": "https://localhost:8080/"
        },
        "id": "DuqmpSJObYIW",
        "outputId": "32b5800f-241a-48fc-f256-668f845357a7"
      },
      "execution_count": null,
      "outputs": [
        {
          "output_type": "stream",
          "name": "stdout",
          "text": [
            "5\n"
          ]
        }
      ]
    },
    {
      "cell_type": "code",
      "source": [
        "print('1' * 5)"
      ],
      "metadata": {
        "colab": {
          "base_uri": "https://localhost:8080/"
        },
        "id": "Q_sgyK7YfGQV",
        "outputId": "a84b5c19-7949-4463-823c-1d306bc3d31f"
      },
      "execution_count": null,
      "outputs": [
        {
          "output_type": "stream",
          "name": "stdout",
          "text": [
            "11111\n"
          ]
        }
      ]
    },
    {
      "cell_type": "markdown",
      "source": [
        "Le stringe posso essere addizionate, ma il risultato è la loro concatenazione.  \n",
        "È anche possibile eseguire una moltiplicazione tra una stringa ed un numero n, in questo caso la stringa sarà ripetuta n volte."
      ],
      "metadata": {
        "id": "VXwN91fffPNI"
      }
    },
    {
      "cell_type": "markdown",
      "source": [
        "### Slicing\n",
        "Lo slicing è una tecnica molto utilizzata per selezionare esclusivamente alcuni caratteri di una stringa o anche di altre strutture di dati.  \n",
        "Per utilizzarla è sufficente aggiungere delle parentesi quadre '**[ ]**' dopo la variabile e usare degli indici per specificare la posizione.  \n",
        "In python si inizia sempre a contare da 0. A meno che non decidiamo di partire dal fondo, in quel caso si parte da -1.  \n",
        "Di seguito un'immagine per dare un'idea, ma vediamo in pratica come funziona."
      ],
      "metadata": {
        "id": "ScQn-qiDhVK_"
      }
    },
    {
      "cell_type": "markdown",
      "source": [
        "![Python slicing](https://raw.githubusercontent.com/Frosty-Bits/PythonFree/main/diagrams/PythonSlicing.png)"
      ],
      "metadata": {
        "id": "EaD_eAPZqcbX"
      }
    },
    {
      "cell_type": "code",
      "source": [
        "word = 'PYTHON'"
      ],
      "metadata": {
        "id": "9dIXB8Exse_T"
      },
      "execution_count": null,
      "outputs": []
    },
    {
      "cell_type": "code",
      "source": [
        "# Selezionare un singolo valore\n",
        "print(word[0]) # P\n",
        "print(word[2]) # T\n",
        "print(word[-2]) # O"
      ],
      "metadata": {
        "colab": {
          "base_uri": "https://localhost:8080/"
        },
        "id": "29UMYZRtsiCC",
        "outputId": "bc4b9b2c-751f-47ff-c334-f830927134df"
      },
      "execution_count": null,
      "outputs": [
        {
          "output_type": "stream",
          "name": "stdout",
          "text": [
            "P\n",
            "T\n",
            "O\n"
          ]
        }
      ]
    },
    {
      "cell_type": "code",
      "source": [
        "# Selezionare più valori consecutivi in ordine crescente\n",
        "\n",
        "print(word[3:]) # HON -> parte da 3 e non avendo specificato il secondo parametro seleziona tutto fino alla fine\n",
        "\n",
        "print(word[:5]) # PYTHO -> parte dall'inizio non avendo specificato il primo parametro e conclude all'indice 5 che viene escluso\n",
        "\n",
        "print(word[0:3]) # PYT -> Parte da 0, arriva fino a 3 ma non tiene in considerazione l'ultimo valore (H)\n",
        "\n",
        "print(word[-5:-1]) # YTHO -> Parte da -5, arriva fino a -1 ma non tiene in considerazione l'ultimo valore (N)"
      ],
      "metadata": {
        "colab": {
          "base_uri": "https://localhost:8080/"
        },
        "id": "2h58lgSlsiEY",
        "outputId": "df52abd6-23b0-47ce-8e62-adffbcd697f4"
      },
      "execution_count": null,
      "outputs": [
        {
          "output_type": "stream",
          "name": "stdout",
          "text": [
            "HON\n",
            "PYTHO\n",
            "PYT\n",
            "YTHO\n"
          ]
        }
      ]
    },
    {
      "cell_type": "code",
      "source": [
        "# Selezionare più valori consecutivi in ordine decrescente\n",
        "\n",
        "print(word[3:0:-1]) # HTY -> Parte da 3, arriva fino a 0 ma non tiene in considerazione l'ultimo valore (P)\n",
        "\n",
        "print(word[-1:-5:-1]) # NOHT -> Parte da -1, arriva fino a -5 ma non tiene in considerazione l'ultimo valore (Y)"
      ],
      "metadata": {
        "colab": {
          "base_uri": "https://localhost:8080/"
        },
        "id": "kCogay2JsiGY",
        "outputId": "89086e34-6842-4042-f5c3-1be2888fd3b8"
      },
      "execution_count": null,
      "outputs": [
        {
          "output_type": "stream",
          "name": "stdout",
          "text": [
            "HTY\n",
            "NOHT\n"
          ]
        }
      ]
    },
    {
      "cell_type": "code",
      "source": [
        "# Selezionare più valori non consecutivi\n",
        "\n",
        "print(word[::2]) # PTO -> Starts from the beginning then adds a letter every 2 steps."
      ],
      "metadata": {
        "colab": {
          "base_uri": "https://localhost:8080/"
        },
        "id": "34F3OmUpuWJz",
        "outputId": "8b23344b-780c-47f4-b7d1-7e5cc1b1d640"
      },
      "execution_count": null,
      "outputs": [
        {
          "output_type": "stream",
          "name": "stdout",
          "text": [
            "PTO\n"
          ]
        }
      ]
    },
    {
      "cell_type": "markdown",
      "source": [
        "### f-string\n",
        "f-string è un metodo molto utilizzato per inserire dentro una stringa valori differenti. Per utilizzarlo bisogna aggiungere una '**f**' prima dell'apice iniziale di una stringa e poi nel test aggiungere le parentesi graffe '**{}**' con all'interno la variabile o l'operazione che si vuole inserire"
      ],
      "metadata": {
        "id": "7KRsdcxD3bqs"
      }
    },
    {
      "cell_type": "code",
      "source": [
        "nome = 'Andrea'\n",
        "materia = 'fisica'\n",
        "frase = f'{nome} sta studiando molto {materia}!'\n",
        "print(frase)"
      ],
      "metadata": {
        "colab": {
          "base_uri": "https://localhost:8080/"
        },
        "id": "yPHzDA1R3vuO",
        "outputId": "921988cd-3e9d-456c-fed0-3482954dc6c0"
      },
      "execution_count": null,
      "outputs": [
        {
          "output_type": "stream",
          "name": "stdout",
          "text": [
            "Andrea sta studiando molto fisica!\n"
          ]
        }
      ]
    },
    {
      "cell_type": "markdown",
      "source": [
        "###find e replace\n",
        "altre due funzioni utilizzabili per le stringhe sono find e replace.\n",
        "find ci resituisce l'indice iniziale della posizione della parola che passiamo come parametro.\n",
        "replace invece sostituisce il prima parametro con il secondo nella stringa in cui viene utilizzato"
      ],
      "metadata": {
        "id": "MojVOsQ04fin"
      }
    },
    {
      "cell_type": "code",
      "source": [
        "frase = \"Andrea sta studiando molto fisica!\"\n",
        "posizione = frase.find(\"molto\")\n",
        "nuova_frase = frase.replace(\"molto\", \"poco\")\n",
        "print(f'La posizione è: {posizione}')\n",
        "print(nuova_frase)"
      ],
      "metadata": {
        "colab": {
          "base_uri": "https://localhost:8080/"
        },
        "id": "CmYxyagl4Sqd",
        "outputId": "eec3c1ee-2b84-44dd-81d7-f8110d7d9606"
      },
      "execution_count": null,
      "outputs": [
        {
          "output_type": "stream",
          "name": "stdout",
          "text": [
            "La posizione è: 21\n",
            "Andrea sta studiando poco fisica!\n"
          ]
        }
      ]
    },
    {
      "cell_type": "markdown",
      "source": [
        "### Funzioni per gestire il testo\n"
      ],
      "metadata": {
        "id": "dD74VsER5nSG"
      }
    },
    {
      "cell_type": "code",
      "source": [
        "parola = \"python\"\n",
        "capitalizzata = parola.capitalize() # Mette in maiuscolo la prima lettera della stringa\n",
        "maiuscola = parola.upper() # Scrive tutto in maisucolo\n",
        "minuscola = parola.lower() # Scrive tutto in minuscolo\n",
        "\n",
        "print(capitalizzata)\n",
        "print(maiuscola)\n",
        "print(minuscola)\n"
      ],
      "metadata": {
        "colab": {
          "base_uri": "https://localhost:8080/"
        },
        "id": "5-b2stzA5ZUG",
        "outputId": "07915276-7f0c-4b00-aef5-39cf737ec045"
      },
      "execution_count": null,
      "outputs": [
        {
          "output_type": "stream",
          "name": "stdout",
          "text": [
            "Python\n",
            "PYTHON\n",
            "python\n"
          ]
        }
      ]
    },
    {
      "cell_type": "markdown",
      "source": [
        "## comando input()\n",
        "Spesso abbiamo necessità di chiedere all'utente di inserire un valore, per fare questa operazione si usa la funzione **input()**, e passare come parametro una stringa con la richiesta di cui abbiamo bisogno.  \n",
        "Vediamo un esempio:"
      ],
      "metadata": {
        "id": "71_N6fxJSHko"
      }
    },
    {
      "cell_type": "code",
      "source": [
        "# chiedo all'utente di inserire il suo nome\n",
        "nome = input('Come ti chiami? ')\n",
        "\n",
        "# eseguo un'operazione usando il nome inserito dall'utente\n",
        "print(f'Ciao {nome}, è un piacere averti nel mio corso!')"
      ],
      "metadata": {
        "colab": {
          "base_uri": "https://localhost:8080/"
        },
        "id": "k5w91hKCTlCM",
        "outputId": "b36c6fe2-3249-458a-d659-9d57c4c9a534"
      },
      "execution_count": 2,
      "outputs": [
        {
          "output_type": "stream",
          "name": "stdout",
          "text": [
            "Come ti chiami? Stefania\n",
            "Ciao Stefania, è un piacere averti nel mio corso!\n"
          ]
        }
      ]
    },
    {
      "cell_type": "markdown",
      "source": [
        "## Testa ora le tue capacità rispondendo mentalmente o per scritto alle seguenti domande. Ricordi ancora qualcosa?\n",
        "\n",
        "1. Quali sono i 3 tipi di numeri che esistono in python?\n",
        "2. È possibile moltiplicare tra loro 2 stringhe?\n",
        "3. Come si può scrivere una stringa su più righe?\n",
        "4. Quali sono i 3 parametri che si possono utilizzare nello slicing?"
      ],
      "metadata": {
        "id": "9MHT8Sgz6fr-"
      }
    }
  ]
}