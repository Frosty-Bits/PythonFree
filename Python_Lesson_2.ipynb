{
  "nbformat": 4,
  "nbformat_minor": 0,
  "metadata": {
    "colab": {
      "provenance": [],
      "authorship_tag": "ABX9TyOQWDwag251cg9TEqJn3xtj",
      "include_colab_link": true
    },
    "kernelspec": {
      "name": "python3",
      "display_name": "Python 3"
    },
    "language_info": {
      "name": "python"
    }
  },
  "cells": [
    {
      "cell_type": "markdown",
      "metadata": {
        "id": "view-in-github",
        "colab_type": "text"
      },
      "source": [
        "<a href=\"https://colab.research.google.com/github/Frosty-Bits/PythonFree/blob/main/Python_Lesson_2.ipynb\" target=\"_parent\"><img src=\"https://colab.research.google.com/assets/colab-badge.svg\" alt=\"Open In Colab\"/></a>"
      ]
    },
    {
      "cell_type": "markdown",
      "source": [
        "## Variabili\n",
        "Una variabile in Python è come un'etichetta che si attacca a un dato. Funziona come un nome che puoi usare per richiamare quel dato nel tuo programma. Questo ti permette di salvare, cambiare e utilizzare i dati in modo facile mentre scrivi il codice.\n",
        "Python è un linguaggio **dinamico**, il che significa che non è necessario dichiarare il tipo di una variabile quando la crei in quanto viene assegnato dinamicamente in base al valore della variabile.\n",
        "\n",
        "Per assegnare un valore a una variabile, si usa il segno '**=**'.\n",
        "\n",
        "Ad esempio:\n",
        "\n",
        "\n",
        "\n",
        "```python\n",
        "nome = 'Andrea'\n",
        "```\n",
        "\n",
        "si può anche modificare il valore contenuto nella variabile con una nuova assegnazione\n",
        "\n",
        "```python\n",
        "nome = 'Andrea'\n",
        "nome = 'Luca'\n",
        "```\n",
        "\n",
        "Le linee di codice sono eseguite una dopo l'altra, dunque nella seconda riga il valore della variabile \"nome\" viene sovrascritto e diventa così 'Luca'."
      ],
      "metadata": {
        "id": "qpmeUE0zQrZv"
      }
    },
    {
      "cell_type": "markdown",
      "source": [
        "## Commenti\n",
        "I linguaggi di programmazione offrono la possibiltà di scrivere dei commenti nel codice, ovvero del testo che non viene interpretato dalla macchina, ma che viene utilizzato dallo sviluppatore per dare un'idea a chi legge il codice di quello che succede e il perchè di certe scelte.\n",
        "In python è possibile iniziare un commento usando il simbolo '**#**'.\n",
        "Ad esempio:\n",
        "\n",
        "```python\n",
        "#Questo è un commento\n",
        "```\n",
        "\n",
        "In questo caso, per uscire dal commento è sufficiente andare a capo.  \n",
        "Per scrivere un commento su più righe invece è possibile racchiudere il testo tra **tre apici** ad inizio e fine, anche su linee diverse.\n",
        "\n",
        "```python\n",
        "'''Questo commento\n",
        "occupa due linee'''\n",
        "```\n",
        "\n",
        "Per la precisione in questo caso stiamo scrivendo una stringa di testo, che però non essendo collegata ad una variabile o non applicando nessuna funzione, viene solo letta e poi ignorata dal programma."
      ],
      "metadata": {
        "id": "tBHuiV8AMsxC"
      }
    },
    {
      "cell_type": "markdown",
      "source": [
        "## Comando print()\n",
        "Quando lavoriamo su un codice, spesso non riusciamo a vedere quello che la macchina sta facendo, in quanto ogni operazione è interna e lo sviluppatore/utente non è in grado di vederla.  \n",
        "Per esplicitare una variabile o il risultato di un'operazione si usa il comando **print()**. In cui nelle parentesi va specificato che cosa ci interessa sapere.  \n",
        "Prova a lanciare i due seguenti comandi. Quali differenze noti?"
      ],
      "metadata": {
        "id": "K9_NiWofUtXq"
      }
    },
    {
      "cell_type": "code",
      "source": [
        "cognome = 'Rossi'"
      ],
      "metadata": {
        "id": "eHk9NlReVjFT"
      },
      "execution_count": 1,
      "outputs": []
    },
    {
      "cell_type": "code",
      "source": [
        "nome = 'Luca'\n",
        "print(nome)"
      ],
      "metadata": {
        "colab": {
          "base_uri": "https://localhost:8080/"
        },
        "id": "Uzh4h0rXVfTI",
        "outputId": "d918c7d2-5206-4bde-8c28-5d6a8ebf9bfc"
      },
      "execution_count": 2,
      "outputs": [
        {
          "output_type": "stream",
          "name": "stdout",
          "text": [
            "Luca\n"
          ]
        }
      ]
    },
    {
      "cell_type": "markdown",
      "source": [
        "# Tipi di dati"
      ],
      "metadata": {
        "id": "dK-Hfq3kMs0Z"
      }
    },
    {
      "cell_type": "markdown",
      "source": [
        "## Boolean\n",
        "I valori booleani sono solamente due: True, False.\n",
        "Vengono utilizzati principalmente per espressioni condizionali.   \n",
        "Il seguente è uno pseudocodice, ovvero un codice non funzionante ma che è facilmente leggibile da una persona, ed ha il fine di capire il funzionamento di un programma.  \n",
        "\n",
        "```markdown\n",
        "Se <condizione> è True:\n",
        "     allora esegui <comando>\n",
        "```\n",
        "\n",
        "è possibile inoltre effettuare delle operazioni tra booleani, in particolare le più comuni sono **and**, **or** , **not**.  \n",
        "Vediamo qui i risultati:"
      ],
      "metadata": {
        "id": "-WGA-phvQhy9"
      }
    },
    {
      "cell_type": "markdown",
      "source": [
        "### and\n",
        "Restituisce True solo se tutte le condizioni sono vere"
      ],
      "metadata": {
        "id": "IqNGzfSV9xL5"
      }
    },
    {
      "cell_type": "code",
      "source": [
        "# è possibile passare come parametro a print() più di una variabile o comandi, semplicemente dividendoli con una virgola.\n",
        "\n",
        "print('Risultato 1: ', True and True)\n",
        "print('Risultato 2: ', True and False)\n",
        "print('Risultato 3: ', False and True)\n",
        "print('Risultato 4: ', False and False)"
      ],
      "metadata": {
        "colab": {
          "base_uri": "https://localhost:8080/"
        },
        "id": "tGhklvRiUYpw",
        "outputId": "6355ab4e-8347-4679-a9af-4f3a961f1a93"
      },
      "execution_count": 3,
      "outputs": [
        {
          "output_type": "stream",
          "name": "stdout",
          "text": [
            "Risultato 1:  True\n",
            "Risultato 2:  False\n",
            "Risultato 3:  False\n",
            "Risultato 4:  False\n"
          ]
        }
      ]
    },
    {
      "cell_type": "markdown",
      "source": [
        "### or\n",
        "Restituisce True quando almeno una condizione è vera"
      ],
      "metadata": {
        "id": "d4WTU_gd939l"
      }
    },
    {
      "cell_type": "code",
      "source": [
        "print('Risultato 1: ', True or True)\n",
        "print('Risultato 2: ', True or False)\n",
        "print('Risultato 3: ', False or True)\n",
        "print('Risultato 4: ', False or False)"
      ],
      "metadata": {
        "colab": {
          "base_uri": "https://localhost:8080/"
        },
        "id": "X_8WlwZNUagn",
        "outputId": "c8af68b6-51aa-47ed-fb78-44e6d4a2e2db"
      },
      "execution_count": 4,
      "outputs": [
        {
          "output_type": "stream",
          "name": "stdout",
          "text": [
            "Risultato 1:  True\n",
            "Risultato 2:  True\n",
            "Risultato 3:  True\n",
            "Risultato 4:  False\n"
          ]
        }
      ]
    },
    {
      "cell_type": "markdown",
      "source": [
        "### not\n",
        "Restituisce l'opposto della condizione"
      ],
      "metadata": {
        "id": "v5BV4vf898dd"
      }
    },
    {
      "cell_type": "code",
      "source": [
        "print('Risultato 1: ', not True)\n",
        "print('Risultato 2: ', not False)"
      ],
      "metadata": {
        "colab": {
          "base_uri": "https://localhost:8080/"
        },
        "id": "LPFFcB3XUa7A",
        "outputId": "2c0a96cb-6903-4d97-ce79-d77ce18ebdf7"
      },
      "execution_count": 5,
      "outputs": [
        {
          "output_type": "stream",
          "name": "stdout",
          "text": [
            "Risultato 1:  False\n",
            "Risultato 2:  True\n"
          ]
        }
      ]
    },
    {
      "cell_type": "markdown",
      "source": [
        "## Numeri\n",
        "Esistono 3 diversi tipi di numeri in python:  \n",
        "Gli **integer** sono i più comuni e sono i numeri interi\n",
        "```python\n",
        "posizione = 3\n",
        "temperatura = -8\n",
        "```\n",
        "I **float** sono i numeri con la virgola (in python si utilizza il punto al posto della virgola).\n",
        "```python\n",
        "pi = 3.14\n",
        "nepero = 2.71\n",
        "```\n",
        "I **complex** sono i numeri complessi.\n",
        "```python\n",
        "result = 3 + 2j\n",
        "answer = -1j\n",
        "```\n",
        "\n",
        "Vediamo ora le operazioni più importanti:"
      ],
      "metadata": {
        "id": "Lzyfad6wQh1U"
      }
    },
    {
      "cell_type": "code",
      "source": [
        "# Addizione\n",
        "print(5 + 3)"
      ],
      "metadata": {
        "colab": {
          "base_uri": "https://localhost:8080/"
        },
        "id": "HkcWoxLCZLy1",
        "outputId": "75ca669a-1388-4f03-ee50-51195a44f2c5"
      },
      "execution_count": 6,
      "outputs": [
        {
          "output_type": "stream",
          "name": "stdout",
          "text": [
            "8\n"
          ]
        }
      ]
    },
    {
      "cell_type": "code",
      "source": [
        "# Sottrazione\n",
        "print(5 - 3)"
      ],
      "metadata": {
        "colab": {
          "base_uri": "https://localhost:8080/"
        },
        "id": "9fzTEjXsZL7p",
        "outputId": "7829e3ef-1e95-4dc2-ef94-e9c85efdab09"
      },
      "execution_count": 7,
      "outputs": [
        {
          "output_type": "stream",
          "name": "stdout",
          "text": [
            "2\n"
          ]
        }
      ]
    },
    {
      "cell_type": "code",
      "source": [
        "# Moltiplicazione\n",
        "print(5 * 3)"
      ],
      "metadata": {
        "colab": {
          "base_uri": "https://localhost:8080/"
        },
        "id": "ehkDqsb3Z6wk",
        "outputId": "13733516-dc99-405d-ecbe-8e4178218aeb"
      },
      "execution_count": 8,
      "outputs": [
        {
          "output_type": "stream",
          "name": "stdout",
          "text": [
            "15\n"
          ]
        }
      ]
    },
    {
      "cell_type": "code",
      "source": [
        "# Divisione (restituisce un float, ovvero un numero con la virgola/ il punto)\n",
        "print(15 / 3)"
      ],
      "metadata": {
        "colab": {
          "base_uri": "https://localhost:8080/"
        },
        "id": "rjDVuTKIZL-E",
        "outputId": "7cee077a-935f-4477-c4ff-25bc2ddf12ae"
      },
      "execution_count": 9,
      "outputs": [
        {
          "output_type": "stream",
          "name": "stdout",
          "text": [
            "5.0\n"
          ]
        }
      ]
    },
    {
      "cell_type": "code",
      "source": [
        "# Divisione intera (restituisce la parte intera della divisione)\n",
        "print(10 // 3)"
      ],
      "metadata": {
        "colab": {
          "base_uri": "https://localhost:8080/"
        },
        "id": "w_GBQY8tZMAP",
        "outputId": "7c8c298a-bf77-428f-f5f8-8756fb46e368"
      },
      "execution_count": 10,
      "outputs": [
        {
          "output_type": "stream",
          "name": "stdout",
          "text": [
            "3\n"
          ]
        }
      ]
    },
    {
      "cell_type": "code",
      "source": [
        "# Resto della divisione (restituisce solo il resto di una divisione)\n",
        "print(10 % 3)"
      ],
      "metadata": {
        "colab": {
          "base_uri": "https://localhost:8080/"
        },
        "id": "_vu0kgxjZMCi",
        "outputId": "44b5f473-0b14-402d-ba4b-01e5c4626441"
      },
      "execution_count": 11,
      "outputs": [
        {
          "output_type": "stream",
          "name": "stdout",
          "text": [
            "1\n"
          ]
        }
      ]
    },
    {
      "cell_type": "code",
      "source": [
        "# Esponenziale (restituisce il primo numero alla potenza del secondo 2^3)\n",
        "print(2 ** 3)"
      ],
      "metadata": {
        "colab": {
          "base_uri": "https://localhost:8080/"
        },
        "id": "0IhfkLDfZMEY",
        "outputId": "2cae4f54-3d57-4700-c2ee-d55ad094308b"
      },
      "execution_count": 12,
      "outputs": [
        {
          "output_type": "stream",
          "name": "stdout",
          "text": [
            "8\n"
          ]
        }
      ]
    },
    {
      "cell_type": "markdown",
      "source": [
        "Per creare operazioni più complesse è possibile usare le parentesi tonde () per raggruppare delle operazioni"
      ],
      "metadata": {
        "id": "n5YNuidEbJ02"
      }
    },
    {
      "cell_type": "code",
      "source": [
        "print((10-2)//(2+2)) #-> 8 // 4"
      ],
      "metadata": {
        "colab": {
          "base_uri": "https://localhost:8080/"
        },
        "id": "TFqoYSDQbDHj",
        "outputId": "0b422c77-30ce-46fb-ca33-3a4794c728e1"
      },
      "execution_count": 13,
      "outputs": [
        {
          "output_type": "stream",
          "name": "stdout",
          "text": [
            "2\n"
          ]
        }
      ]
    },
    {
      "cell_type": "markdown",
      "source": [
        "## Testo\n",
        "In python il testo viene definito stringa, ed è caratterizzato dal fatto che viene preceduto e termina con degli apici, singoli ' o doppi \".\n",
        "\n",
        "```python\n",
        "struttura = 'Casa'\n",
        "lavoro = \"Cameriere\"\n",
        "```\n",
        "è possibile anche salvare una stringa su più linee di codice usando 3 apici ad inizio e fine.\n",
        "\n",
        "```python\n",
        "testo = \"\"\"Computers will never fully\n",
        "replace humans until they learn\n",
        "to laugh at the boss's jokes\n",
        "\"\"\"\n",
        "```\n",
        "Bisogna fare molta attenzione se ci troviamo a lavorare con una stringa o meno, spesso può essere meno evidente.  \n",
        "Quali differenze noti?\n"
      ],
      "metadata": {
        "id": "deOUlrOQbsmi"
      }
    },
    {
      "cell_type": "code",
      "source": [
        "print(10 + 8)"
      ],
      "metadata": {
        "colab": {
          "base_uri": "https://localhost:8080/"
        },
        "id": "jr1cipi8fuzy",
        "outputId": "e1684c65-fefc-40c3-ddbd-d7fbfd852f50"
      },
      "execution_count": 14,
      "outputs": [
        {
          "output_type": "stream",
          "name": "stdout",
          "text": [
            "18\n"
          ]
        }
      ]
    },
    {
      "cell_type": "code",
      "source": [
        "print('10' + '8')"
      ],
      "metadata": {
        "colab": {
          "base_uri": "https://localhost:8080/"
        },
        "id": "1zw6DYZ8fu13",
        "outputId": "bd254205-5ff5-48b6-e4d7-7ebc4bfdbfb0"
      },
      "execution_count": 15,
      "outputs": [
        {
          "output_type": "stream",
          "name": "stdout",
          "text": [
            "108\n"
          ]
        }
      ]
    },
    {
      "cell_type": "code",
      "source": [
        "print(1 * 5)"
      ],
      "metadata": {
        "colab": {
          "base_uri": "https://localhost:8080/"
        },
        "id": "DuqmpSJObYIW",
        "outputId": "efd8fa4b-4092-41d3-bbb1-8fd2ff1759fa"
      },
      "execution_count": 16,
      "outputs": [
        {
          "output_type": "stream",
          "name": "stdout",
          "text": [
            "5\n"
          ]
        }
      ]
    },
    {
      "cell_type": "code",
      "source": [
        "print('1' * 5)"
      ],
      "metadata": {
        "colab": {
          "base_uri": "https://localhost:8080/"
        },
        "id": "Q_sgyK7YfGQV",
        "outputId": "83f8d6e2-117c-47d6-c9cc-6c5fe48dd737"
      },
      "execution_count": 17,
      "outputs": [
        {
          "output_type": "stream",
          "name": "stdout",
          "text": [
            "11111\n"
          ]
        }
      ]
    },
    {
      "cell_type": "markdown",
      "source": [
        "Le stringe posso essere addizionate, ma il risultato è la loro concatenazione.  \n",
        "È anche possibile eseguire una moltiplicazione tra una stringa ed un numero *n*, in questo caso la stringa sarà ripetuta *n* volte.\n",
        "\n",
        "Differenziare le stringhe dai numeri è molto importante perchè spesso ci troviamo a lavorare con dati come numero di telefono o il numero civico di un indirizzo, ma in questo caso il dato dovrà essere una stringa."
      ],
      "metadata": {
        "id": "VXwN91fffPNI"
      }
    },
    {
      "cell_type": "code",
      "source": [
        "prefisso = '39'\n",
        "numero_di_telefono = '123456790'"
      ],
      "metadata": {
        "id": "zK5zghVcGUV6"
      },
      "execution_count": 18,
      "outputs": []
    },
    {
      "cell_type": "markdown",
      "source": [
        "### Slicing\n",
        "Lo slicing è una tecnica molto utilizzata per selezionare esclusivamente alcuni caratteri di una stringa o di altre strutture dati.  \n",
        "Per utilizzarla è sufficiente aggiungere delle parentesi quadre '**[ ]**' dopo la variabile e usare degli indici per specificare la posizione."
      ],
      "metadata": {
        "id": "ScQn-qiDhVK_"
      }
    },
    {
      "cell_type": "code",
      "source": [
        "strumento = 'martello'\n",
        "print(strumento[2])"
      ],
      "metadata": {
        "colab": {
          "base_uri": "https://localhost:8080/"
        },
        "id": "mwkRhlCNGusE",
        "outputId": "3c832cac-ee3c-41b9-9cb5-89f2ddb0521c"
      },
      "execution_count": 19,
      "outputs": [
        {
          "output_type": "stream",
          "name": "stdout",
          "text": [
            "r\n"
          ]
        }
      ]
    },
    {
      "cell_type": "markdown",
      "source": [
        "In python si inizia sempre a contare dal numero 0 tranne quando si parte dal fondo per andare a ritroso, in quel caso si parte da -1.  \n",
        "\n",
        "Di seguito un'immagine per dare un'idea, ma vediamo in pratica come funziona."
      ],
      "metadata": {
        "id": "79126sFjGyis"
      }
    },
    {
      "cell_type": "markdown",
      "source": [
        "![Python slicing](https://raw.githubusercontent.com/Frosty-Bits/PythonFree/main/diagrams/PythonSlicing.png)"
      ],
      "metadata": {
        "id": "EaD_eAPZqcbX"
      }
    },
    {
      "cell_type": "code",
      "source": [
        "word = 'PYTHON'"
      ],
      "metadata": {
        "id": "9dIXB8Exse_T"
      },
      "execution_count": 20,
      "outputs": []
    },
    {
      "cell_type": "markdown",
      "source": [
        "Selezionare un singolo valore"
      ],
      "metadata": {
        "id": "i28A66SrG8bF"
      }
    },
    {
      "cell_type": "code",
      "source": [
        "print(word[0]) # P\n",
        "print(word[2]) # T\n",
        "print(word[-2]) # O"
      ],
      "metadata": {
        "colab": {
          "base_uri": "https://localhost:8080/"
        },
        "id": "29UMYZRtsiCC",
        "outputId": "3ffada0a-4eed-44f9-f970-7366c25e2fbd"
      },
      "execution_count": 21,
      "outputs": [
        {
          "output_type": "stream",
          "name": "stdout",
          "text": [
            "P\n",
            "T\n",
            "O\n"
          ]
        }
      ]
    },
    {
      "cell_type": "markdown",
      "source": [
        "Selezionare più valori consecutivi in ordine crescente"
      ],
      "metadata": {
        "id": "65jRQlC0G_t1"
      }
    },
    {
      "cell_type": "code",
      "source": [
        "print(word[3:]) # HON -> Parte da 3 e non avendo specificato il secondo parametro seleziona tutto fino alla fine\n",
        "\n",
        "print(word[:5]) # PYTHO -> Parte dall'inizio non avendo specificato il primo parametro e conclude all'indice 5 che viene escluso\n",
        "\n",
        "print(word[0:3]) # PYT -> Parte da 0, arriva fino a 3 ma non tiene in considerazione l'ultimo valore (H)\n",
        "\n",
        "print(word[-5:-1]) # YTHO -> Parte da -5, arriva fino a -1 ma non tiene in considerazione l'ultimo valore (N)"
      ],
      "metadata": {
        "colab": {
          "base_uri": "https://localhost:8080/"
        },
        "id": "2h58lgSlsiEY",
        "outputId": "b1434c55-9c23-4073-e10d-e64af7b896fc"
      },
      "execution_count": 22,
      "outputs": [
        {
          "output_type": "stream",
          "name": "stdout",
          "text": [
            "HON\n",
            "PYTHO\n",
            "PYT\n",
            "YTHO\n"
          ]
        }
      ]
    },
    {
      "cell_type": "markdown",
      "source": [
        "Selezionare più valori consecutivi in ordine decrescente"
      ],
      "metadata": {
        "id": "8OitvW-JHEPJ"
      }
    },
    {
      "cell_type": "code",
      "source": [
        "print(word[3:0:-1]) # HTY -> Parte da 3, arriva fino a 0 ma non tiene in considerazione l'ultimo valore (P)\n",
        "\n",
        "print(word[-1:-5:-1]) # NOHT -> Parte da -1, arriva fino a -5 ma non tiene in considerazione l'ultimo valore (Y)"
      ],
      "metadata": {
        "colab": {
          "base_uri": "https://localhost:8080/"
        },
        "id": "kCogay2JsiGY",
        "outputId": "75bcd381-95d2-4769-8440-94e39a043328"
      },
      "execution_count": 23,
      "outputs": [
        {
          "output_type": "stream",
          "name": "stdout",
          "text": [
            "HTY\n",
            "NOHT\n"
          ]
        }
      ]
    },
    {
      "cell_type": "markdown",
      "source": [
        "Selezionare più valori non consecutivi"
      ],
      "metadata": {
        "id": "H7lRFxi3HInV"
      }
    },
    {
      "cell_type": "code",
      "source": [
        "print(word[::2]) # PTO -> Parte dall'inizio e aggiunge una lettera ogni 2 passi"
      ],
      "metadata": {
        "colab": {
          "base_uri": "https://localhost:8080/"
        },
        "id": "34F3OmUpuWJz",
        "outputId": "79fc67e0-f6ac-47ca-e791-8bf5c6dac409"
      },
      "execution_count": 24,
      "outputs": [
        {
          "output_type": "stream",
          "name": "stdout",
          "text": [
            "PTO\n"
          ]
        }
      ]
    },
    {
      "cell_type": "markdown",
      "source": [
        "### f-string\n",
        "f-string è un metodo molto utilizzato per inserire dentro una stringa valori differenti. Per utilizzarlo bisogna aggiungere una '**f**' prima dell'apice iniziale di una stringa e poi nel test aggiungere le parentesi graffe '**{}**' con all'interno la variabile o l'operazione che si vuole inserire."
      ],
      "metadata": {
        "id": "7KRsdcxD3bqs"
      }
    },
    {
      "cell_type": "code",
      "source": [
        "nome = 'Marco'\n",
        "materia = 'fisica'\n",
        "frase = f'{nome} sta studiando molto {materia}!'\n",
        "print(frase)"
      ],
      "metadata": {
        "colab": {
          "base_uri": "https://localhost:8080/"
        },
        "id": "yPHzDA1R3vuO",
        "outputId": "cffd6134-a0b0-44af-a2bb-748d9241c88c"
      },
      "execution_count": 25,
      "outputs": [
        {
          "output_type": "stream",
          "name": "stdout",
          "text": [
            "Marco sta studiando molto fisica!\n"
          ]
        }
      ]
    },
    {
      "cell_type": "markdown",
      "source": [
        "###find e replace\n",
        "altre due funzioni per stringhe sono find e replace.  \n",
        "find ci resituisce l'indice iniziale della posizione della parola che passiamo come parametro.  \n",
        "replace invece sostituisce il prima parametro con il secondo nella stringa in cui viene utilizzato."
      ],
      "metadata": {
        "id": "MojVOsQ04fin"
      }
    },
    {
      "cell_type": "code",
      "source": [
        "frase = \"Marco sta studiando molto fisica!\"\n",
        "posizione = frase.find(\"molto\")\n",
        "nuova_frase = frase.replace(\"molto\", \"poco\")\n",
        "print(f'La posizione è: {posizione}')\n",
        "print(nuova_frase)"
      ],
      "metadata": {
        "colab": {
          "base_uri": "https://localhost:8080/"
        },
        "id": "CmYxyagl4Sqd",
        "outputId": "4592d303-1e2f-472a-f860-d267e37ffc27"
      },
      "execution_count": 26,
      "outputs": [
        {
          "output_type": "stream",
          "name": "stdout",
          "text": [
            "La posizione è: 20\n",
            "Marco sta studiando poco fisica!\n"
          ]
        }
      ]
    },
    {
      "cell_type": "markdown",
      "source": [
        "### Funzioni per gestire il testo\n"
      ],
      "metadata": {
        "id": "dD74VsER5nSG"
      }
    },
    {
      "cell_type": "code",
      "source": [
        "parola = \"python\"\n",
        "capitalizzata = parola.capitalize() # Mette in maiuscolo la prima lettera della stringa\n",
        "maiuscola = parola.upper() # Scrive tutto in maisucolo\n",
        "minuscola = parola.lower() # Scrive tutto in minuscolo\n",
        "\n",
        "print(capitalizzata)\n",
        "print(maiuscola)\n",
        "print(minuscola)\n"
      ],
      "metadata": {
        "colab": {
          "base_uri": "https://localhost:8080/"
        },
        "id": "5-b2stzA5ZUG",
        "outputId": "7bb8f823-f535-48f3-9d2e-af8e414a2986"
      },
      "execution_count": 27,
      "outputs": [
        {
          "output_type": "stream",
          "name": "stdout",
          "text": [
            "Python\n",
            "PYTHON\n",
            "python\n"
          ]
        }
      ]
    },
    {
      "cell_type": "markdown",
      "source": [
        "## comando input()\n",
        "Spesso abbiamo necessità di chiedere all'utente di inserire un valore, per fare questa operazione si usa la funzione **input()**, e passare come parametro una stringa con la richiesta di cui abbiamo bisogno.  \n",
        "Tieni presente che la funzione input() restituisce sempre una stringa come risultato, anche se verrà chiesto di inserire un numero. In questo caso come vederemo sarà possibile usare delle ulteriori funzioni per convertire il dato da stringa a integer, usando int(input()), o altri valori.  \n",
        "\n",
        "Vediamo un esempio:"
      ],
      "metadata": {
        "id": "71_N6fxJSHko"
      }
    },
    {
      "cell_type": "code",
      "source": [
        "# chiedo all'utente di inserire il suo nome\n",
        "nome = input('Come ti chiami? ')\n",
        "\n",
        "# eseguo un'operazione usando il nome inserito dall'utente\n",
        "print(f'Ciao {nome}, è un piacere averti nel mio corso!')"
      ],
      "metadata": {
        "colab": {
          "base_uri": "https://localhost:8080/"
        },
        "id": "k5w91hKCTlCM",
        "outputId": "48c5e380-1a71-411d-df0a-f01904d22794"
      },
      "execution_count": 28,
      "outputs": [
        {
          "output_type": "stream",
          "name": "stdout",
          "text": [
            "Come ti chiami? Gabbo\n",
            "Ciao Gabbo, è un piacere averti nel mio corso!\n"
          ]
        }
      ]
    },
    {
      "cell_type": "code",
      "source": [
        "# chiedo all'utente di inserire la sua età e la trasformo direttamente in un numero con int()\n",
        "età = int(input('Quanti anni hai? '))\n",
        "print(f'Tra 5 anni avrai {età + 5} anni!')"
      ],
      "metadata": {
        "colab": {
          "base_uri": "https://localhost:8080/"
        },
        "id": "heVuCANGHwK3",
        "outputId": "f8b811b5-12a6-4344-f1ec-8f4a79105653"
      },
      "execution_count": 29,
      "outputs": [
        {
          "output_type": "stream",
          "name": "stdout",
          "text": [
            "Quanti anni hai? 15\n",
            "Tra 5 anni avrai 20 anni!\n"
          ]
        }
      ]
    },
    {
      "cell_type": "markdown",
      "source": [
        "## Testa ora le tue capacità rispondendo alle seguenti domande.\n",
        "\n",
        "1. Quali sono i 3 tipi di numeri che esistono in python?\n",
        "2. È possibile moltiplicare tra loro 2 stringhe?\n",
        "3. Come si può scrivere una stringa su più righe?\n",
        "4. Quali sono i 3 parametri che si possono utilizzare nello slicing?"
      ],
      "metadata": {
        "id": "9MHT8Sgz6fr-"
      }
    }
  ]
}