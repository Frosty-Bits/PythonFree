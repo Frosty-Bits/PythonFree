{
  "nbformat": 4,
  "nbformat_minor": 0,
  "metadata": {
    "colab": {
      "provenance": [],
      "authorship_tag": "ABX9TyMhCY6Ngyp+Ri/E1L7M6E4c",
      "include_colab_link": true
    },
    "kernelspec": {
      "name": "python3",
      "display_name": "Python 3"
    },
    "language_info": {
      "name": "python"
    }
  },
  "cells": [
    {
      "cell_type": "markdown",
      "metadata": {
        "id": "view-in-github",
        "colab_type": "text"
      },
      "source": [
        "<a href=\"https://colab.research.google.com/github/Frosty-Bits/PythonFree/blob/main/Python_Lesson_2.ipynb\" target=\"_parent\"><img src=\"https://colab.research.google.com/assets/colab-badge.svg\" alt=\"Open In Colab\"/></a>"
      ]
    },
    {
      "cell_type": "markdown",
      "source": [
        "## Variabili\n",
        "Una variabile è un nome che si riferisce a un valore. Puoi immaginarla come un contenitore che tiene un dato, e il nome della variabile è l'etichetta del contenitore. Questo ti permette di memorizzare e manipolare dati in modo più flessibile nel tuo programma.\n",
        "Python è un linguaggio **dinamico**, il che significa che non è necessario dichiarare il tipo di una variabile quando la crei. Il tipo viene assegnato dinamicamente in base al valore che assegni alla variabile.\n",
        "\n",
        "Per assegnare un valore a una variabile, si usa il segno '**=**'.\n",
        "\n",
        "Ad esempio:\n",
        "\n",
        "\n",
        "\n",
        "```python\n",
        "nome = 'Andrea'\n",
        "```\n",
        "\n",
        "si può anche modificare il valore contenuto nella variabile con una nuova assegnazione\n",
        "\n",
        "```python\n",
        "nome = 'Andrea'\n",
        "nome = 'Stefania'\n",
        "```"
      ],
      "metadata": {
        "id": "qpmeUE0zQrZv"
      }
    },
    {
      "cell_type": "markdown",
      "source": [
        "## Commenti\n",
        "I linguaggi di programmazione offrono la possibiltà di scrivere dei commenti nel codice, ovvero del testo che non viene interpretato dalla macchina, ma che viene utilizzato dallo sviluppatore per dare un'idea a chi legge il codice di quello che succede e il perchè di certe scelte.\n",
        "In python è possibile iniziare un commento usando il simbolo '**#**'.\n",
        "Ad esempio:\n",
        "\n",
        "```python\n",
        "#Questo è un commento\n",
        "```\n",
        "\n",
        "In questo caso, per uscire dal commento è sufficiente andare a capo.\n",
        "Per scrivere un commento su più righe invece è possibile rinchiudere il testo tra tre apici ad inizio e fine.\n",
        "\n",
        "```python\n",
        "'''Questo commento\n",
        "occupa due linee'''\n",
        "```\n",
        "\n",
        "Per la precisione in questo caso stiamo scrivendo una stringa di testo, che però non essendo collegata ad una variabile o non applicando nessuna funzione, viene solo letta e poi ignorata dal programma."
      ],
      "metadata": {
        "id": "tBHuiV8AMsxC"
      }
    },
    {
      "cell_type": "markdown",
      "source": [
        "## Comando print()\n",
        "Quando lavoriamo su un codice, spesso non riusciamo a vedere quello che la macchina sta facendo, in quanto ogni operazione è interna e lo sviluppatore/utente non è in grado di vederla.  \n",
        "Per esplicitare una variabile o il risultato di un'operazione si usa il comando **print()**. In cui nelle parentesi va specificato che cosa ci interessa sapere.  \n",
        "Prova a lanciare i due seguenti comandi. Quali differenze noti?"
      ],
      "metadata": {
        "id": "K9_NiWofUtXq"
      }
    },
    {
      "cell_type": "code",
      "source": [
        "cognome = 'Rossi'"
      ],
      "metadata": {
        "id": "eHk9NlReVjFT"
      },
      "execution_count": 1,
      "outputs": []
    },
    {
      "cell_type": "code",
      "source": [
        "nome = 'Andrea'\n",
        "print(nome)"
      ],
      "metadata": {
        "colab": {
          "base_uri": "https://localhost:8080/"
        },
        "id": "Uzh4h0rXVfTI",
        "outputId": "a48e2ac7-f073-47ba-d089-d4d7d0e709db"
      },
      "execution_count": 2,
      "outputs": [
        {
          "output_type": "stream",
          "name": "stdout",
          "text": [
            "Andrea\n"
          ]
        }
      ]
    },
    {
      "cell_type": "markdown",
      "source": [
        "# Tipi di dati"
      ],
      "metadata": {
        "id": "dK-Hfq3kMs0Z"
      }
    },
    {
      "cell_type": "markdown",
      "source": [
        "## Boolean\n",
        "I valori booleani sono solamente due: True, False.\n",
        "Vengono utilizzati principalemte per espressioni condizionali:  \n",
        "```markdown\n",
        "Se <condizione> è True (Vera):\n",
        "     allora esegui <comando>\n",
        "```\n",
        "\n",
        "è possibile inoltre effettuare delle operazioni tra booleani, in particolari le più comuni sono **and**, **or** , **not**.  \n",
        "Vediamo qui i risultati:"
      ],
      "metadata": {
        "id": "-WGA-phvQhy9"
      }
    },
    {
      "cell_type": "code",
      "source": [
        "# and operator -> restituisce True solo se tutte le condizioni sono vere,\n",
        "\n",
        "print('Risultato 1 ', True and True)\n",
        "print('Risultato 2 ', True and False)\n",
        "print('Risultato 3 ', False and True)\n",
        "print('Risultato 4 ', False and False)\n",
        "\n",
        "# è possibile passare come parametro a print() più di una variabile/operazione, semplicemente dividendole con una virgola."
      ],
      "metadata": {
        "colab": {
          "base_uri": "https://localhost:8080/"
        },
        "id": "tGhklvRiUYpw",
        "outputId": "bbec184d-bd60-4310-cd40-14e9ff11e801"
      },
      "execution_count": 3,
      "outputs": [
        {
          "output_type": "stream",
          "name": "stdout",
          "text": [
            "Risultato 1  True\n",
            "Risultato 2  False\n",
            "Risultato 3  False\n",
            "Risultato 4  False\n"
          ]
        }
      ]
    },
    {
      "cell_type": "code",
      "source": [
        "# or operator -> Restituisce True quando almeno una condizione è vera.\n",
        "print('Risultato 1 ', True or True)\n",
        "print('Risultato 2 ', True or False)\n",
        "print('Risultato 3 ', False or True)\n",
        "print('Risultato 4 ', False or False)"
      ],
      "metadata": {
        "colab": {
          "base_uri": "https://localhost:8080/"
        },
        "id": "X_8WlwZNUagn",
        "outputId": "408dec1f-77eb-4eb9-facc-827a61f01b13"
      },
      "execution_count": 4,
      "outputs": [
        {
          "output_type": "stream",
          "name": "stdout",
          "text": [
            "Risultato 1  True\n",
            "Risultato 2  True\n",
            "Risultato 3  True\n",
            "Risultato 4  False\n"
          ]
        }
      ]
    },
    {
      "cell_type": "code",
      "source": [
        "# not operator -> Restituisce l'opposto della condizione\n",
        "print('Risultato 1 ', not True)\n",
        "print('Risultato 2 ', not False)"
      ],
      "metadata": {
        "colab": {
          "base_uri": "https://localhost:8080/"
        },
        "id": "LPFFcB3XUa7A",
        "outputId": "8549f8ed-1895-4eee-ec20-a56c01b2d1ed"
      },
      "execution_count": 5,
      "outputs": [
        {
          "output_type": "stream",
          "name": "stdout",
          "text": [
            "Risultato 1  False\n",
            "Risultato 2  True\n"
          ]
        }
      ]
    },
    {
      "cell_type": "markdown",
      "source": [
        "## Numeri\n",
        "Esistono 3 diversi tipi di numeri in python:  \n",
        "Gli **integer** sono i più comuni e sono i numeri interi\n",
        "```python\n",
        "posizione = 3\n",
        "temperatura = -8\n",
        "```\n",
        "I **float** sono i numeri con la virgola (in python si utilizza il punto al posto della virgola).\n",
        "```python\n",
        "pi = 3.14\n",
        "nepero = 2.71\n",
        "```\n",
        "I **complex** sono i numeri complessi.\n",
        "```python\n",
        "result = 3 + 2j\n",
        "answer = -1j\n",
        "```\n",
        "\n",
        "Vediamo ora le operazioni più importanti:"
      ],
      "metadata": {
        "id": "Lzyfad6wQh1U"
      }
    },
    {
      "cell_type": "code",
      "source": [
        "# Addizione\n",
        "print(5 + 3)"
      ],
      "metadata": {
        "colab": {
          "base_uri": "https://localhost:8080/"
        },
        "id": "HkcWoxLCZLy1",
        "outputId": "98e94ab5-0e91-46b8-9a52-c20ec0719240"
      },
      "execution_count": 6,
      "outputs": [
        {
          "output_type": "stream",
          "name": "stdout",
          "text": [
            "8\n"
          ]
        }
      ]
    },
    {
      "cell_type": "code",
      "source": [
        "# Sottrazione\n",
        "print(5 - 3)"
      ],
      "metadata": {
        "colab": {
          "base_uri": "https://localhost:8080/"
        },
        "id": "9fzTEjXsZL7p",
        "outputId": "927363d4-57ec-4ba5-e613-ce2fe0d7ae14"
      },
      "execution_count": 7,
      "outputs": [
        {
          "output_type": "stream",
          "name": "stdout",
          "text": [
            "2\n"
          ]
        }
      ]
    },
    {
      "cell_type": "code",
      "source": [
        "# Moltiplicazione\n",
        "print(5 * 3)"
      ],
      "metadata": {
        "colab": {
          "base_uri": "https://localhost:8080/"
        },
        "id": "ehkDqsb3Z6wk",
        "outputId": "96c49d6f-7085-4fc4-eec8-16ccf0501af3"
      },
      "execution_count": 8,
      "outputs": [
        {
          "output_type": "stream",
          "name": "stdout",
          "text": [
            "15\n"
          ]
        }
      ]
    },
    {
      "cell_type": "code",
      "source": [
        "# Divisione (restituisce un float, ovvero un numero con la virgola/ il punto)\n",
        "print(15 / 3)"
      ],
      "metadata": {
        "colab": {
          "base_uri": "https://localhost:8080/"
        },
        "id": "rjDVuTKIZL-E",
        "outputId": "c6bffe9c-ba50-4a25-fde7-700b053e65a7"
      },
      "execution_count": 9,
      "outputs": [
        {
          "output_type": "stream",
          "name": "stdout",
          "text": [
            "5.0\n"
          ]
        }
      ]
    },
    {
      "cell_type": "code",
      "source": [
        "# Divisione intera (restituisce la parte intera della divisione)\n",
        "print(10 // 3)"
      ],
      "metadata": {
        "colab": {
          "base_uri": "https://localhost:8080/"
        },
        "id": "w_GBQY8tZMAP",
        "outputId": "56667b05-8036-4a19-9913-cec4ab2578dc"
      },
      "execution_count": 10,
      "outputs": [
        {
          "output_type": "stream",
          "name": "stdout",
          "text": [
            "3\n"
          ]
        }
      ]
    },
    {
      "cell_type": "code",
      "source": [
        "# Resto della divisione (restituisce solo il resto di una divisione)\n",
        "print(10 % 3)"
      ],
      "metadata": {
        "colab": {
          "base_uri": "https://localhost:8080/"
        },
        "id": "_vu0kgxjZMCi",
        "outputId": "194fc717-f779-463c-8610-838c81acd3d6"
      },
      "execution_count": 11,
      "outputs": [
        {
          "output_type": "stream",
          "name": "stdout",
          "text": [
            "1\n"
          ]
        }
      ]
    },
    {
      "cell_type": "code",
      "source": [
        "# Esponenziale (restituisce il primo numero alla potenza del secondo 2^3)\n",
        "print(2 ** 3)"
      ],
      "metadata": {
        "colab": {
          "base_uri": "https://localhost:8080/"
        },
        "id": "0IhfkLDfZMEY",
        "outputId": "99f6bba6-2547-40da-b966-a0b7453fd88c"
      },
      "execution_count": 12,
      "outputs": [
        {
          "output_type": "stream",
          "name": "stdout",
          "text": [
            "8\n"
          ]
        }
      ]
    },
    {
      "cell_type": "markdown",
      "source": [
        "Per creare operazioni più complesse è possibile usare le parentesi tonde () per raggruppare delle operazioni"
      ],
      "metadata": {
        "id": "n5YNuidEbJ02"
      }
    },
    {
      "cell_type": "code",
      "source": [
        "print((10-2)//(2+2)) #-> 8 // 4"
      ],
      "metadata": {
        "colab": {
          "base_uri": "https://localhost:8080/"
        },
        "id": "TFqoYSDQbDHj",
        "outputId": "6d05411f-9988-47d4-ee75-5d642381a8ff"
      },
      "execution_count": 13,
      "outputs": [
        {
          "output_type": "stream",
          "name": "stdout",
          "text": [
            "2\n"
          ]
        }
      ]
    },
    {
      "cell_type": "markdown",
      "source": [
        "## Testo\n",
        "In python il testo viene definito stringa, ed è caratterizzato dal fatto che è preceduto e finisce con degli apici, singoli ' o doppi \".\n",
        "\n",
        "```python\n",
        "struttura = 'Casa'\n",
        "lavoro = \"Cameriere\"\n",
        "```\n",
        "è possibile anche salvare una stringa su più linee di codice usando 3 apici ad inizio e fine.\n",
        "\n",
        "```python\n",
        "testo = \"\"\"Computers will never fully\n",
        "replace humans until they learn\n",
        "to laugh at the boss's jokes\n",
        "\"\"\"\n",
        "```\n",
        "Bisogna fare molta attenzione se ci troviamo a lavorare con una stringa o meno, spesso può essere meno evidente.  \n",
        "Quali differenze noti?\n"
      ],
      "metadata": {
        "id": "deOUlrOQbsmi"
      }
    },
    {
      "cell_type": "code",
      "source": [
        "print(10 + 8)"
      ],
      "metadata": {
        "colab": {
          "base_uri": "https://localhost:8080/"
        },
        "id": "jr1cipi8fuzy",
        "outputId": "5fa8980b-be2d-4242-e4e4-bf6aac1fd4be"
      },
      "execution_count": 14,
      "outputs": [
        {
          "output_type": "stream",
          "name": "stdout",
          "text": [
            "18\n"
          ]
        }
      ]
    },
    {
      "cell_type": "code",
      "source": [
        "print('10' + '8')"
      ],
      "metadata": {
        "colab": {
          "base_uri": "https://localhost:8080/"
        },
        "id": "1zw6DYZ8fu13",
        "outputId": "9b091240-1aa9-443f-95b0-b21ce03bb0e7"
      },
      "execution_count": 15,
      "outputs": [
        {
          "output_type": "stream",
          "name": "stdout",
          "text": [
            "108\n"
          ]
        }
      ]
    },
    {
      "cell_type": "code",
      "source": [
        "print(1 * 5)"
      ],
      "metadata": {
        "colab": {
          "base_uri": "https://localhost:8080/"
        },
        "id": "DuqmpSJObYIW",
        "outputId": "fd2f0709-1a6e-4120-9912-343e1cb9a0fa"
      },
      "execution_count": 16,
      "outputs": [
        {
          "output_type": "stream",
          "name": "stdout",
          "text": [
            "5\n"
          ]
        }
      ]
    },
    {
      "cell_type": "code",
      "source": [
        "print('1' * 5)"
      ],
      "metadata": {
        "colab": {
          "base_uri": "https://localhost:8080/"
        },
        "id": "Q_sgyK7YfGQV",
        "outputId": "ce0f03f0-a7a6-4475-9912-85c179ff1bd2"
      },
      "execution_count": 17,
      "outputs": [
        {
          "output_type": "stream",
          "name": "stdout",
          "text": [
            "11111\n"
          ]
        }
      ]
    },
    {
      "cell_type": "markdown",
      "source": [
        "Le stringe posso essere addizionate, ma il risultato è la loro concatenazione.  \n",
        "È anche possibile eseguire una moltiplicazione tra una stringa ed un numero n, in questo caso la stringa sarà ripetuta n volte."
      ],
      "metadata": {
        "id": "VXwN91fffPNI"
      }
    },
    {
      "cell_type": "markdown",
      "source": [
        "### Slicing\n",
        "Lo slicing è una tecnica molto utilizzata per selezionare esclusivamente alcuni caratteri di una stringa o anche di altre strutture di dati.  \n",
        "Per utilizzarla è sufficente aggiungere delle parentesi quadre '**[ ]**' dopo la variabile e usare degli indici per specificare la posizione.  \n",
        "In python si inizia sempre a contare da 0. A meno che non decidiamo di partire dal fondo, in quel caso si parte da -1.  \n",
        "Di seguito un'immagine per dare un'idea, ma vediamo in pratica come funziona."
      ],
      "metadata": {
        "id": "ScQn-qiDhVK_"
      }
    },
    {
      "cell_type": "markdown",
      "source": [
        "![Python slicing](https://raw.githubusercontent.com/Frosty-Bits/PythonFree/main/diagrams/PythonSlicing.png)"
      ],
      "metadata": {
        "id": "EaD_eAPZqcbX"
      }
    },
    {
      "cell_type": "code",
      "source": [
        "word = 'PYTHON'"
      ],
      "metadata": {
        "id": "9dIXB8Exse_T"
      },
      "execution_count": 18,
      "outputs": []
    },
    {
      "cell_type": "code",
      "source": [
        "# Selezionare un singolo valore\n",
        "print(word[0]) # P\n",
        "print(word[2]) # T\n",
        "print(word[-2]) # O"
      ],
      "metadata": {
        "colab": {
          "base_uri": "https://localhost:8080/"
        },
        "id": "29UMYZRtsiCC",
        "outputId": "aa1dbb7e-5d64-4456-fb9b-754a7248a916"
      },
      "execution_count": 19,
      "outputs": [
        {
          "output_type": "stream",
          "name": "stdout",
          "text": [
            "P\n",
            "T\n",
            "O\n"
          ]
        }
      ]
    },
    {
      "cell_type": "code",
      "source": [
        "# Selezionare più valori consecutivi in ordine crescente\n",
        "\n",
        "print(word[3:]) # HON -> parte da 3 e non avendo specificato il secondo parametro seleziona tutto fino alla fine\n",
        "\n",
        "print(word[:5]) # PYTHO -> parte dall'inizio non avendo specificato il primo parametro e conclude all'indice 5 che viene escluso\n",
        "\n",
        "print(word[0:3]) # PYT -> Parte da 0, arriva fino a 3 ma non tiene in considerazione l'ultimo valore (H)\n",
        "\n",
        "print(word[-5:-1]) # YTHO -> Parte da -5, arriva fino a -1 ma non tiene in considerazione l'ultimo valore (N)"
      ],
      "metadata": {
        "colab": {
          "base_uri": "https://localhost:8080/"
        },
        "id": "2h58lgSlsiEY",
        "outputId": "74045593-8825-426b-8adc-9484f86a0665"
      },
      "execution_count": 20,
      "outputs": [
        {
          "output_type": "stream",
          "name": "stdout",
          "text": [
            "HON\n",
            "PYTHO\n",
            "PYT\n",
            "YTHO\n"
          ]
        }
      ]
    },
    {
      "cell_type": "code",
      "source": [
        "# Selezionare più valori consecutivi in ordine decrescente\n",
        "\n",
        "print(word[3:0:-1]) # HTY -> Parte da 3, arriva fino a 0 ma non tiene in considerazione l'ultimo valore (P)\n",
        "\n",
        "print(word[-1:-5:-1]) # NOHT -> Parte da -1, arriva fino a -5 ma non tiene in considerazione l'ultimo valore (Y)"
      ],
      "metadata": {
        "colab": {
          "base_uri": "https://localhost:8080/"
        },
        "id": "kCogay2JsiGY",
        "outputId": "c8e1592f-45ae-481a-c485-69a397a138d9"
      },
      "execution_count": 21,
      "outputs": [
        {
          "output_type": "stream",
          "name": "stdout",
          "text": [
            "HTY\n",
            "NOHT\n"
          ]
        }
      ]
    },
    {
      "cell_type": "code",
      "source": [
        "# Selezionare più valori non consecutivi\n",
        "\n",
        "print(word[::2]) # PTO -> Starts from the beginning then adds a letter every 2 steps."
      ],
      "metadata": {
        "colab": {
          "base_uri": "https://localhost:8080/"
        },
        "id": "34F3OmUpuWJz",
        "outputId": "ff26fd6b-8ff8-48b2-9407-ed7a5cb7ee3e"
      },
      "execution_count": 22,
      "outputs": [
        {
          "output_type": "stream",
          "name": "stdout",
          "text": [
            "PTO\n"
          ]
        }
      ]
    },
    {
      "cell_type": "markdown",
      "source": [
        "### f-string\n",
        "f-string è un metodo molto utilizzato per inserire dentro una stringa valori differenti. Per utilizzarlo bisogna aggiungere una '**f**' prima dell'apice iniziale di una stringa e poi nel test aggiungere le parentesi graffe '**{}**' con all'interno la variabile o l'operazione che si vuole inserire"
      ],
      "metadata": {
        "id": "7KRsdcxD3bqs"
      }
    },
    {
      "cell_type": "code",
      "source": [
        "nome = 'Andrea'\n",
        "materia = 'fisica'\n",
        "frase = f'{nome} sta studiando molto {materia}!'\n",
        "print(frase)"
      ],
      "metadata": {
        "colab": {
          "base_uri": "https://localhost:8080/"
        },
        "id": "yPHzDA1R3vuO",
        "outputId": "63b82c62-c297-4753-962a-bb30d795546c"
      },
      "execution_count": 24,
      "outputs": [
        {
          "output_type": "stream",
          "name": "stdout",
          "text": [
            "Andrea sta studiando molto fisica!\n"
          ]
        }
      ]
    },
    {
      "cell_type": "markdown",
      "source": [
        "###find e replace\n",
        "altre due funzioni utilizzabili per le stringhe sono find e replace.\n",
        "find ci resituisce l'indice iniziale della posizione della parola che passiamo come parametro.\n",
        "replace invece sostituisce il prima parametro con il secondo nella stringa in cui viene utilizzato"
      ],
      "metadata": {
        "id": "MojVOsQ04fin"
      }
    },
    {
      "cell_type": "code",
      "source": [
        "frase = \"Andrea sta studiando molto fisica!\"\n",
        "posizione = frase.find(\"molto\")\n",
        "nuova_frase = frase.replace(\"molto\", \"poco\")\n",
        "print(f'La posizione è: {posizione}')\n",
        "print(nuova_frase)"
      ],
      "metadata": {
        "colab": {
          "base_uri": "https://localhost:8080/"
        },
        "id": "CmYxyagl4Sqd",
        "outputId": "82a5d955-1005-4d02-ad61-7774819da1ed"
      },
      "execution_count": 25,
      "outputs": [
        {
          "output_type": "stream",
          "name": "stdout",
          "text": [
            "La posizione è: 21\n",
            "Andrea sta studiando poco fisica!\n"
          ]
        }
      ]
    },
    {
      "cell_type": "markdown",
      "source": [
        "### Funzioni per gestire il testo\n"
      ],
      "metadata": {
        "id": "dD74VsER5nSG"
      }
    },
    {
      "cell_type": "code",
      "source": [
        "parola = \"python\"\n",
        "capitalizzata = parola.capitalize() # Mette in maiuscolo la prima lettera della stringa\n",
        "maiuscola = parola.upper() # Scrive tutto in maisucolo\n",
        "minuscola = parola.lower() # Scrive tutto in minuscolo\n",
        "\n",
        "print(capitalizzata)\n",
        "print(maiuscola)\n",
        "print(minuscola)\n"
      ],
      "metadata": {
        "colab": {
          "base_uri": "https://localhost:8080/"
        },
        "id": "5-b2stzA5ZUG",
        "outputId": "bc5a429c-54dc-4fd4-cb35-c772309c52de"
      },
      "execution_count": 27,
      "outputs": [
        {
          "output_type": "stream",
          "name": "stdout",
          "text": [
            "Python\n",
            "PYTHON\n",
            "python\n"
          ]
        }
      ]
    },
    {
      "cell_type": "markdown",
      "source": [
        "## Testa ora le tue capacità rispondendo mentalmente o per scritto alle seguenti domande. Ricordi ancora qualcosa?\n",
        "\n",
        "1. Quali sono i 3 tipi di numeri che esistono in python?\n",
        "2. È possibile moltiplicare tra loro 2 stringhe?\n",
        "3. Come si può scrivere una stringa su più righe?\n",
        "4. Quali sono i 3 parametri che si possono utilizzare nello slicing?"
      ],
      "metadata": {
        "id": "9MHT8Sgz6fr-"
      }
    },
    {
      "cell_type": "code",
      "source": [],
      "metadata": {
        "id": "0GWg_isH7gO0"
      },
      "execution_count": null,
      "outputs": []
    }
  ]
}