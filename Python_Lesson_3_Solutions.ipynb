{
  "nbformat": 4,
  "nbformat_minor": 0,
  "metadata": {
    "colab": {
      "provenance": [],
      "authorship_tag": "ABX9TyNPjsUqUK+jWzm5ZATNV3IQ",
      "include_colab_link": true
    },
    "kernelspec": {
      "name": "python3",
      "display_name": "Python 3"
    },
    "language_info": {
      "name": "python"
    }
  },
  "cells": [
    {
      "cell_type": "markdown",
      "metadata": {
        "id": "view-in-github",
        "colab_type": "text"
      },
      "source": [
        "<a href=\"https://colab.research.google.com/github/Frosty-Bits/PythonFree/blob/main/Python_Lesson_3_Solutions.ipynb\" target=\"_parent\"><img src=\"https://colab.research.google.com/assets/colab-badge.svg\" alt=\"Open In Colab\"/></a>"
      ]
    },
    {
      "cell_type": "markdown",
      "source": [
        "# Esercitazione\n",
        "Vediamo ora degli esercizi per sperimentare con quanto visto fin'ora."
      ],
      "metadata": {
        "id": "bOOPbOYaVSvi"
      }
    },
    {
      "cell_type": "code",
      "source": [
        "# 1. Chiedi all'utente di inserire il nome e salvalo nella variabile <nome>\n",
        "nome = input(\"Come ti chiami? \")"
      ],
      "metadata": {
        "id": "7CdSKpcCVhZN",
        "colab": {
          "base_uri": "https://localhost:8080/"
        },
        "outputId": "cebf9ae3-466d-4f5a-c7bf-b4e6160d0273"
      },
      "execution_count": 32,
      "outputs": [
        {
          "name": "stdout",
          "output_type": "stream",
          "text": [
            "Come ti chiami? Antonio\n"
          ]
        }
      ]
    },
    {
      "cell_type": "code",
      "source": [
        "# 2. Chiedi all'utente di inserire la sua età e salvala nella variabile <età>\n",
        "età = input(\"Quanti anni hai? \")\n",
        "\n",
        "# Ricorda, la funzione input() salva ogni valore inserito dall'utente come una stringa. Non un numero."
      ],
      "metadata": {
        "id": "509wK-kIVhpe",
        "colab": {
          "base_uri": "https://localhost:8080/"
        },
        "outputId": "729ffd24-476b-4183-b562-ca699ef44953"
      },
      "execution_count": 33,
      "outputs": [
        {
          "name": "stdout",
          "output_type": "stream",
          "text": [
            "Quanti anni hai? 23\n"
          ]
        }
      ]
    },
    {
      "cell_type": "code",
      "source": [
        "# 3. Stampa a schermo la frase: Ciao <nome>! Hai <età> anni.\n",
        "print(f'Ciao {nome}! Hai {età} anni.')"
      ],
      "metadata": {
        "id": "sqDZR5qsVhyo",
        "colab": {
          "base_uri": "https://localhost:8080/"
        },
        "outputId": "5b90e796-5a9b-438e-8d57-9a753fe789d0"
      },
      "execution_count": 34,
      "outputs": [
        {
          "output_type": "stream",
          "name": "stdout",
          "text": [
            "Ciao Antonio! Hai 23 anni.\n"
          ]
        }
      ]
    },
    {
      "cell_type": "code",
      "source": [
        "# 4. Stampa a schermo il nome dell'utente e la sua età su due righe diverse\n",
        "print(nome, età, sep = '\\n')"
      ],
      "metadata": {
        "colab": {
          "base_uri": "https://localhost:8080/"
        },
        "id": "8VjAx936gszv",
        "outputId": "884ceb7b-f15e-48fa-c7d2-134b70d381f5"
      },
      "execution_count": 35,
      "outputs": [
        {
          "output_type": "stream",
          "name": "stdout",
          "text": [
            "Antonio\n",
            "23\n"
          ]
        }
      ]
    },
    {
      "cell_type": "code",
      "source": [
        "# 5. Stampa a schermo quanti anni avrà l'utente precedente tra 60 mesi.\n",
        "anni = 60//12 # mesi//anno\n",
        "print(int(età) + anni)"
      ],
      "metadata": {
        "id": "f7FQJNGIVh1Q",
        "colab": {
          "base_uri": "https://localhost:8080/"
        },
        "outputId": "ac281241-3642-4e81-d1c3-ccf0ceee5e32"
      },
      "execution_count": 36,
      "outputs": [
        {
          "output_type": "stream",
          "name": "stdout",
          "text": [
            "28\n"
          ]
        }
      ]
    },
    {
      "cell_type": "code",
      "source": [
        "# 6. Stampa a schermo la somma dei numeri da 1 a 10\n",
        "print(1+2+3+4+5+6+7+8+9+10)\n",
        "\n",
        "# oppure\n",
        "print(10 * 11 // 2) # è più veloce"
      ],
      "metadata": {
        "id": "qcRNjzueVh3u",
        "colab": {
          "base_uri": "https://localhost:8080/"
        },
        "outputId": "89448472-e0a8-4233-f581-ebb89afb3d3e"
      },
      "execution_count": 37,
      "outputs": [
        {
          "output_type": "stream",
          "name": "stdout",
          "text": [
            "55\n",
            "55\n"
          ]
        }
      ]
    },
    {
      "cell_type": "code",
      "source": [
        "# 7. Stampa a schermo un numero con 50 zeri\n",
        "print(10 ** 50)"
      ],
      "metadata": {
        "id": "Y0Os4dD-Vh6Q",
        "colab": {
          "base_uri": "https://localhost:8080/"
        },
        "outputId": "5eacebb1-6793-4842-9043-4c24a4ca0dd9"
      },
      "execution_count": 38,
      "outputs": [
        {
          "output_type": "stream",
          "name": "stdout",
          "text": [
            "100000000000000000000000000000000000000000000000000\n"
          ]
        }
      ]
    },
    {
      "cell_type": "code",
      "source": [
        "# 8. Stampa a schermo un animale\n",
        "print(\"\"\"\n",
        "_______$$$$$$\n",
        "______$$_____$$\n",
        "_____$__(•)____$$\n",
        "__$$$__________$\n",
        "______$$_____$\n",
        "_____$____$\n",
        "____$____$__$$$__$$______$\n",
        "__$$_____$_____$$__$$__$$$\n",
        "__$______$___________$$__$\n",
        "__$$_______$______$$_____$\n",
        "__$$________$$$$$$______$\n",
        "___$$$________________$\n",
        "_____$$$$__________$$\n",
        "_______$$$$$$$$$$$$\n",
        "\"\"\")"
      ],
      "metadata": {
        "id": "6k0AQkJGVh_G",
        "colab": {
          "base_uri": "https://localhost:8080/"
        },
        "outputId": "7ba1b33c-646f-4003-fa6a-dfbb0e2ee254"
      },
      "execution_count": 39,
      "outputs": [
        {
          "output_type": "stream",
          "name": "stdout",
          "text": [
            "\n",
            "_______$$$$$$ \n",
            "______$$_____$$ \n",
            "_____$__(•)____$$ \n",
            "__$$$__________$ \n",
            "______$$_____$ \n",
            "_____$____$ \n",
            "____$____$__$$$__$$______$ \n",
            "__$$_____$_____$$__$$__$$$ \n",
            "__$______$___________$$__$ \n",
            "__$$_______$______$$_____$ \n",
            "__$$________$$$$$$______$ \n",
            "___$$$________________$ \n",
            "_____$$$$__________$$ \n",
            "_______$$$$$$$$$$$$\n",
            "\n"
          ]
        }
      ]
    },
    {
      "cell_type": "code",
      "source": [
        "# 9. Calcola l'interesse semplice di una somma di 1000€ investita per 2 anni al tasso del 5% (Formula: Capitale * tasso * tempo)\n",
        "capitale = 1000\n",
        "tasso = 0.05\n",
        "tempo = 2\n",
        "\n",
        "print(f'L\\'interesse sarà pari a: {capitale * tasso * tempo}€')\n"
      ],
      "metadata": {
        "id": "EM7Jyz7eViBe",
        "colab": {
          "base_uri": "https://localhost:8080/"
        },
        "outputId": "1a2133cc-e371-45c3-e3b9-8e10c389622d"
      },
      "execution_count": 40,
      "outputs": [
        {
          "output_type": "stream",
          "name": "stdout",
          "text": [
            "L'interesse sarà pari a: 100.0€\n"
          ]
        }
      ]
    },
    {
      "cell_type": "code",
      "source": [
        "# 10. Chiedi in input una parola all'utente, poi stampala al contrario insime alla lunghezza della parola stessa.\n",
        "parola = input(\"Inserisci una parola qualsiasi: \")\n",
        "print(parola[::-1])\n",
        "print(len(parola))"
      ],
      "metadata": {
        "id": "A4kOgJulViED",
        "colab": {
          "base_uri": "https://localhost:8080/"
        },
        "outputId": "687eb87a-cfc2-4ab2-f548-6204c4b933da"
      },
      "execution_count": 41,
      "outputs": [
        {
          "output_type": "stream",
          "name": "stdout",
          "text": [
            "Inserisci una parola qualsiasi: ambulanza\n",
            "aznalubma\n",
            "9\n"
          ]
        }
      ]
    },
    {
      "cell_type": "code",
      "source": [
        "# 11. Stampa a schermo la parola precendente tutta in maiuscolo e successivamente solo con la prima lettera maiuscola\n",
        "print(parola.upper())\n",
        "print(parola.capitalize())"
      ],
      "metadata": {
        "colab": {
          "base_uri": "https://localhost:8080/"
        },
        "id": "H3U_g-_3q9d0",
        "outputId": "18c6384a-e89d-4b8d-d148-2706f0e2d83d"
      },
      "execution_count": 42,
      "outputs": [
        {
          "output_type": "stream",
          "name": "stdout",
          "text": [
            "AMBULANZA\n",
            "Ambulanza\n"
          ]
        }
      ]
    },
    {
      "cell_type": "code",
      "source": [
        "# 12. Un triangolo ha un lato di 3 cm e l'altro di 4. Quant'è la lunghezza dell'ipotenusa? (Teorema di Pitagora)\n",
        "import math #importiamo una libreria di python (ovvero un estensione, che ci permette di usare più funzioni, in questo caso matematiche)\n",
        "\n",
        "cateto_1 = 3\n",
        "cateto_2 = 4\n",
        "ipotenusa = math.sqrt(cateto_1**2 + cateto_2**2)\n",
        "print(ipotenusa)"
      ],
      "metadata": {
        "id": "MfCene0cViJE",
        "colab": {
          "base_uri": "https://localhost:8080/"
        },
        "outputId": "b5ccaf23-acc9-4093-db5a-a672c9ec78b4"
      },
      "execution_count": 43,
      "outputs": [
        {
          "output_type": "stream",
          "name": "stdout",
          "text": [
            "5.0\n"
          ]
        }
      ]
    }
  ]
}