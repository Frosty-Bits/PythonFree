{
  "nbformat": 4,
  "nbformat_minor": 0,
  "metadata": {
    "colab": {
      "provenance": [],
      "authorship_tag": "ABX9TyOOqYfXwvrjTPpVkGZVp5IF",
      "include_colab_link": true
    },
    "kernelspec": {
      "name": "python3",
      "display_name": "Python 3"
    },
    "language_info": {
      "name": "python"
    }
  },
  "cells": [
    {
      "cell_type": "markdown",
      "metadata": {
        "id": "view-in-github",
        "colab_type": "text"
      },
      "source": [
        "<a href=\"https://colab.research.google.com/github/Frosty-Bits/PythonFree/blob/main/Python_Lesson_3_Solutions.ipynb\" target=\"_parent\"><img src=\"https://colab.research.google.com/assets/colab-badge.svg\" alt=\"Open In Colab\"/></a>"
      ]
    },
    {
      "cell_type": "markdown",
      "source": [
        "# Soluzioni degli esercizi"
      ],
      "metadata": {
        "id": "bOOPbOYaVSvi"
      }
    },
    {
      "cell_type": "markdown",
      "source": [
        "## 1.Chiedi all'utente di inserire il nome e salvalo nella variabile <nome>"
      ],
      "metadata": {
        "id": "aZVN14cMLYN7"
      }
    },
    {
      "cell_type": "code",
      "source": [
        "nome = input(\"Come ti chiami? \")"
      ],
      "metadata": {
        "id": "7CdSKpcCVhZN",
        "colab": {
          "base_uri": "https://localhost:8080/"
        },
        "outputId": "184eb38a-9c6c-4e1e-8a2e-dc64bee049ba"
      },
      "execution_count": 1,
      "outputs": [
        {
          "name": "stdout",
          "output_type": "stream",
          "text": [
            "Come ti chiami? Antonio\n"
          ]
        }
      ]
    },
    {
      "cell_type": "markdown",
      "source": [
        "## 2.Chiedi all'utente di inserire la sua età e salvala nella variabile <età>  \n",
        "Ricorda, la funzione input() salva ogni valore inserito dall'utente come una stringa. Non un numero."
      ],
      "metadata": {
        "id": "bL2d8A4SLc7r"
      }
    },
    {
      "cell_type": "code",
      "source": [
        "età = input(\"Quanti anni hai? \")"
      ],
      "metadata": {
        "id": "509wK-kIVhpe",
        "colab": {
          "base_uri": "https://localhost:8080/"
        },
        "outputId": "ed478528-41cb-4edd-f816-ca472e352128"
      },
      "execution_count": 2,
      "outputs": [
        {
          "name": "stdout",
          "output_type": "stream",
          "text": [
            "Quanti anni hai? 23\n"
          ]
        }
      ]
    },
    {
      "cell_type": "markdown",
      "source": [
        "## 3.Stampa a schermo la frase: Ciao \\<nome> ! Hai <età> anni."
      ],
      "metadata": {
        "id": "9eIhbariLkVv"
      }
    },
    {
      "cell_type": "code",
      "source": [
        "print(f'Ciao {nome}! Hai {età} anni.')"
      ],
      "metadata": {
        "id": "sqDZR5qsVhyo",
        "colab": {
          "base_uri": "https://localhost:8080/"
        },
        "outputId": "f075ad23-1714-413b-e17e-3475ef90bfe8"
      },
      "execution_count": 3,
      "outputs": [
        {
          "output_type": "stream",
          "name": "stdout",
          "text": [
            "Ciao Antonio! Hai 23 anni.\n"
          ]
        }
      ]
    },
    {
      "cell_type": "markdown",
      "source": [
        "## 4.Stampa a schermo il nome dell'utente e la sua età su due righe diverse"
      ],
      "metadata": {
        "id": "eqdelKDTMOgL"
      }
    },
    {
      "cell_type": "code",
      "source": [
        "print(nome, età, sep = '\\n')"
      ],
      "metadata": {
        "colab": {
          "base_uri": "https://localhost:8080/"
        },
        "id": "8VjAx936gszv",
        "outputId": "32484d3c-d393-47f4-ec47-84c7a25a1a11"
      },
      "execution_count": 4,
      "outputs": [
        {
          "output_type": "stream",
          "name": "stdout",
          "text": [
            "Antonio\n",
            "23\n"
          ]
        }
      ]
    },
    {
      "cell_type": "markdown",
      "source": [
        "## 5.Stampa a schermo quanti anni avrà l'utente precedente tra 60 mesi."
      ],
      "metadata": {
        "id": "XfGPYRIsMQXE"
      }
    },
    {
      "cell_type": "code",
      "source": [
        "anni = 60//12 # mesi//anno\n",
        "print(int(età) + anni)"
      ],
      "metadata": {
        "id": "f7FQJNGIVh1Q",
        "colab": {
          "base_uri": "https://localhost:8080/"
        },
        "outputId": "552f3ca5-6930-4e68-cef2-cc4a44821050"
      },
      "execution_count": 5,
      "outputs": [
        {
          "output_type": "stream",
          "name": "stdout",
          "text": [
            "28\n"
          ]
        }
      ]
    },
    {
      "cell_type": "markdown",
      "source": [
        "## 6.Stampa a schermo la somma dei numeri da 1 a 10"
      ],
      "metadata": {
        "id": "hjIFu0txMWBL"
      }
    },
    {
      "cell_type": "code",
      "source": [
        "print(1+2+3+4+5+6+7+8+9+10)\n",
        "\n",
        "# oppure\n",
        "\n",
        "print(10 * 11 // 2) # è una formula che rende il calcolo più veloce: n * (n+1) //2"
      ],
      "metadata": {
        "id": "qcRNjzueVh3u",
        "colab": {
          "base_uri": "https://localhost:8080/"
        },
        "outputId": "ce49b6c0-80aa-4e35-92cc-632e5abb258f"
      },
      "execution_count": 6,
      "outputs": [
        {
          "output_type": "stream",
          "name": "stdout",
          "text": [
            "55\n",
            "55\n"
          ]
        }
      ]
    },
    {
      "cell_type": "markdown",
      "source": [
        "## 7.Stampa a schermo un numero con 50 zeri"
      ],
      "metadata": {
        "id": "gkQyMDIgMvWu"
      }
    },
    {
      "cell_type": "code",
      "source": [
        "print(10 ** 50)"
      ],
      "metadata": {
        "id": "Y0Os4dD-Vh6Q",
        "colab": {
          "base_uri": "https://localhost:8080/"
        },
        "outputId": "66c3c341-3ff7-4aeb-c0e2-b5dc85767ced"
      },
      "execution_count": 7,
      "outputs": [
        {
          "output_type": "stream",
          "name": "stdout",
          "text": [
            "100000000000000000000000000000000000000000000000000\n"
          ]
        }
      ]
    },
    {
      "cell_type": "markdown",
      "source": [
        "## 8.Stampa a schermo un animale"
      ],
      "metadata": {
        "id": "TTXLGbYNM7ES"
      }
    },
    {
      "cell_type": "code",
      "source": [
        "print(\"\"\"\n",
        "_______$$$$$$\n",
        "______$$_____$$\n",
        "_____$__(•)____$$\n",
        "__$$$__________$\n",
        "______$$_____$\n",
        "_____$____$\n",
        "____$____$__$$$__$$______$\n",
        "__$$_____$_____$$__$$__$$$\n",
        "__$______$___________$$__$\n",
        "__$$_______$______$$_____$\n",
        "__$$________$$$$$$______$\n",
        "___$$$________________$\n",
        "_____$$$$__________$$\n",
        "_______$$$$$$$$$$$$\n",
        "\"\"\")"
      ],
      "metadata": {
        "id": "6k0AQkJGVh_G",
        "colab": {
          "base_uri": "https://localhost:8080/"
        },
        "outputId": "bda2fdd1-fa3b-41ee-c709-117c0ee41a7e"
      },
      "execution_count": 8,
      "outputs": [
        {
          "output_type": "stream",
          "name": "stdout",
          "text": [
            "\n",
            "_______$$$$$$\n",
            "______$$_____$$\n",
            "_____$__(•)____$$\n",
            "__$$$__________$\n",
            "______$$_____$\n",
            "_____$____$\n",
            "____$____$__$$$__$$______$\n",
            "__$$_____$_____$$__$$__$$$\n",
            "__$______$___________$$__$\n",
            "__$$_______$______$$_____$\n",
            "__$$________$$$$$$______$\n",
            "___$$$________________$\n",
            "_____$$$$__________$$\n",
            "_______$$$$$$$$$$$$\n",
            "\n"
          ]
        }
      ]
    },
    {
      "cell_type": "markdown",
      "source": [
        "## 9.Calcola l'interesse semplice di una somma di 1000€ investita per 2 anni al tasso del 5%  \n",
        "Formula: Capitale * tasso * tempo"
      ],
      "metadata": {
        "id": "FXxCrTG1NACW"
      }
    },
    {
      "cell_type": "code",
      "source": [
        "capitale = 1000\n",
        "tasso = 0.05\n",
        "tempo = 2\n",
        "\n",
        "print(f'L\\'interesse sarà pari a: {capitale * tasso * tempo}€')\n"
      ],
      "metadata": {
        "id": "EM7Jyz7eViBe",
        "colab": {
          "base_uri": "https://localhost:8080/"
        },
        "outputId": "8ae583f9-64ab-434d-f8b5-4c8936666dd9"
      },
      "execution_count": 9,
      "outputs": [
        {
          "output_type": "stream",
          "name": "stdout",
          "text": [
            "L'interesse sarà pari a: 100.0€\n"
          ]
        }
      ]
    },
    {
      "cell_type": "markdown",
      "source": [
        "## 10.Chiedi in input una parola all'utente, poi stampala al contrario insime alla lunghezza della parola stessa."
      ],
      "metadata": {
        "id": "O9PZdN-oNDr3"
      }
    },
    {
      "cell_type": "code",
      "source": [
        "parola = input(\"Inserisci una parola qualsiasi: \")\n",
        "print(parola[::-1])\n",
        "print(len(parola))"
      ],
      "metadata": {
        "id": "A4kOgJulViED",
        "colab": {
          "base_uri": "https://localhost:8080/"
        },
        "outputId": "ef24175b-3d31-488f-bb9d-c5fa7e1fb478"
      },
      "execution_count": 10,
      "outputs": [
        {
          "output_type": "stream",
          "name": "stdout",
          "text": [
            "Inserisci una parola qualsiasi: aznalubma\n",
            "ambulanza\n",
            "9\n"
          ]
        }
      ]
    },
    {
      "cell_type": "markdown",
      "source": [
        "## 11.Stampa a schermo la parola precendente tutta in maiuscolo e successivamente solo con la prima lettera maiuscola"
      ],
      "metadata": {
        "id": "bbQovTMONGge"
      }
    },
    {
      "cell_type": "code",
      "source": [
        "print(parola.upper())\n",
        "print(parola.capitalize())"
      ],
      "metadata": {
        "colab": {
          "base_uri": "https://localhost:8080/"
        },
        "id": "H3U_g-_3q9d0",
        "outputId": "3ae456ac-dfc6-4c5e-efaa-8558d640eb4b"
      },
      "execution_count": 11,
      "outputs": [
        {
          "output_type": "stream",
          "name": "stdout",
          "text": [
            "AZNALUBMA\n",
            "Aznalubma\n"
          ]
        }
      ]
    },
    {
      "cell_type": "markdown",
      "source": [
        "## 12.Un triangolo ha un lato di 3 cm e l'altro di 4. Quant'è la lunghezza dell'ipotenusa? (Teorema di Pitagora)  \n",
        "Importiamo una libreria di python  \n",
        "(ovvero un estensione, che ci permette di usare più funzioni, in questo caso matematiche)  \n",
        "Non preoccuparti, vedremo più nel dettaglio cos'è una libreria tra qualche lezione :)"
      ],
      "metadata": {
        "id": "giH7okykNJ49"
      }
    },
    {
      "cell_type": "code",
      "source": [
        "from math import sqrt"
      ],
      "metadata": {
        "id": "wpJJH2_8NMEU"
      },
      "execution_count": 12,
      "outputs": []
    },
    {
      "cell_type": "markdown",
      "source": [
        "per usare la radice quadrata si usa il comando sqrt() inserendo come parametro il valore a cui applicare la radice:"
      ],
      "metadata": {
        "id": "mHHrFrcNNNKH"
      }
    },
    {
      "cell_type": "code",
      "source": [
        "print(sqrt(9))"
      ],
      "metadata": {
        "colab": {
          "base_uri": "https://localhost:8080/"
        },
        "id": "aFRvke-9NQAf",
        "outputId": "8a74e7f6-0f3f-4f88-bbdb-1524bf11a041"
      },
      "execution_count": 13,
      "outputs": [
        {
          "output_type": "stream",
          "name": "stdout",
          "text": [
            "3.0\n"
          ]
        }
      ]
    },
    {
      "cell_type": "code",
      "source": [
        "# Soluzione\n",
        "from math import sqrt\n",
        "\n",
        "cateto_1 = 3\n",
        "cateto_2 = 4\n",
        "ipotenusa = sqrt(cateto_1**2 + cateto_2**2)\n",
        "print(ipotenusa)"
      ],
      "metadata": {
        "id": "MfCene0cViJE",
        "colab": {
          "base_uri": "https://localhost:8080/"
        },
        "outputId": "1b94fb91-1330-4518-fa59-50114860c5a0"
      },
      "execution_count": 14,
      "outputs": [
        {
          "output_type": "stream",
          "name": "stdout",
          "text": [
            "5.0\n"
          ]
        }
      ]
    }
  ]
}